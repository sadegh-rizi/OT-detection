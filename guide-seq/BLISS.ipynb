{
 "cells": [
  {
   "cell_type": "code",
   "execution_count": 1,
   "id": "2c333dbb",
   "metadata": {},
   "outputs": [],
   "source": [
    "#Importing modules\n",
    "import pandas as pd\n",
    "import numpy as np\n",
    "import matplotlib.pyplot as plt \n",
    "import seaborn as sns\n",
    "from pymsaviz import MsaViz\n",
    "from Bio.Seq import Seq\n",
    "from Bio.SeqRecord import SeqRecord\n"
   ]
  },
  {
   "cell_type": "code",
   "execution_count": 2,
   "id": "1cf08c3c",
   "metadata": {},
   "outputs": [],
   "source": [
    "def GC_content(strand):\n",
    "    strand = strand.upper()\n",
    "    return (strand.count(\"G\")+strand.count(\"C\"))/len(strand) * 100"
   ]
  },
  {
   "cell_type": "code",
   "execution_count": 3,
   "id": "cf0c6935",
   "metadata": {},
   "outputs": [
    {
     "name": "stdout",
     "output_type": "stream",
     "text": [
      "1 dna:chromosome chromosome:GRCh37:1:1:249250621:1\n",
      "249250621\n",
      "2 dna:chromosome chromosome:GRCh37:2:1:243199373:1\n",
      "243199373\n",
      "3 dna:chromosome chromosome:GRCh37:3:1:198022430:1\n",
      "198022430\n",
      "4 dna:chromosome chromosome:GRCh37:4:1:191154276:1\n",
      "191154276\n",
      "5 dna:chromosome chromosome:GRCh37:5:1:180915260:1\n",
      "180915260\n",
      "6 dna:chromosome chromosome:GRCh37:6:1:171115067:1\n",
      "171115067\n",
      "7 dna:chromosome chromosome:GRCh37:7:1:159138663:1\n",
      "159138663\n",
      "8 dna:chromosome chromosome:GRCh37:8:1:146364022:1\n",
      "146364022\n",
      "9 dna:chromosome chromosome:GRCh37:9:1:141213431:1\n",
      "141213431\n",
      "10 dna:chromosome chromosome:GRCh37:10:1:135534747:1\n",
      "135534747\n",
      "11 dna:chromosome chromosome:GRCh37:11:1:135006516:1\n",
      "135006516\n",
      "12 dna:chromosome chromosome:GRCh37:12:1:133851895:1\n",
      "133851895\n",
      "13 dna:chromosome chromosome:GRCh37:13:1:115169878:1\n",
      "115169878\n",
      "14 dna:chromosome chromosome:GRCh37:14:1:107349540:1\n",
      "107349540\n",
      "15 dna:chromosome chromosome:GRCh37:15:1:102531392:1\n",
      "102531392\n",
      "16 dna:chromosome chromosome:GRCh37:16:1:90354753:1\n",
      "90354753\n",
      "17 dna:chromosome chromosome:GRCh37:17:1:81195210:1\n",
      "81195210\n",
      "18 dna:chromosome chromosome:GRCh37:18:1:78077248:1\n",
      "78077248\n",
      "19 dna:chromosome chromosome:GRCh37:19:1:59128983:1\n",
      "59128983\n",
      "20 dna:chromosome chromosome:GRCh37:20:1:63025520:1\n",
      "63025520\n",
      "21 dna:chromosome chromosome:GRCh37:21:1:48129895:1\n",
      "48129895\n",
      "22 dna:chromosome chromosome:GRCh37:22:1:51304566:1\n",
      "51304566\n",
      "X dna:chromosome chromosome:GRCh37:X:1:155270560:1\n",
      "155270560\n"
     ]
    }
   ],
   "source": [
    "#Getting Chromosome Lengths From reference genome\n",
    "from Bio import SeqIO \n",
    "ref = r'D:\\bioinfo\\refs\\hg19\\hg19.fasta'\n",
    "chroms = SeqIO.parse(open(ref),'fasta')\n",
    "c=0\n",
    "chromLengths=[]\n",
    "for chrom in chroms: \n",
    "    print(chrom.description)\n",
    "    print(chrom.description.split(':')[-2])\n",
    "    chromLengths+=[int(chrom.description.split(':')[-2])]\n",
    "    c+=1\n",
    "    if c==23:\n",
    "        break"
   ]
  },
  {
   "cell_type": "markdown",
   "id": "c00c9271-ff64-435f-9343-dc0b4d294688",
   "metadata": {},
   "source": [
    "#### sample_dataset"
   ]
  },
  {
   "cell_type": "code",
   "execution_count": 18,
   "id": "f18e84d2",
   "metadata": {},
   "outputs": [
    {
     "data": {
      "text/html": [
       "<div>\n",
       "<style scoped>\n",
       "    .dataframe tbody tr th:only-of-type {\n",
       "        vertical-align: middle;\n",
       "    }\n",
       "\n",
       "    .dataframe tbody tr th {\n",
       "        vertical-align: top;\n",
       "    }\n",
       "\n",
       "    .dataframe thead th {\n",
       "        text-align: right;\n",
       "    }\n",
       "</style>\n",
       "<table border=\"1\" class=\"dataframe\">\n",
       "  <thead>\n",
       "    <tr style=\"text-align: right;\">\n",
       "      <th></th>\n",
       "      <th>name</th>\n",
       "      <th>sequence</th>\n",
       "      <th>chrom</th>\n",
       "      <th>chromStart</th>\n",
       "      <th>chromEnd</th>\n",
       "      <th>strand</th>\n",
       "      <th>mismatch</th>\n",
       "      <th>*frequency_score</th>\n",
       "    </tr>\n",
       "  </thead>\n",
       "  <tbody>\n",
       "  </tbody>\n",
       "</table>\n",
       "</div>"
      ],
      "text/plain": [
       "Empty DataFrame\n",
       "Columns: [name, sequence, chrom, chromStart, chromEnd, strand, mismatch, *frequency_score]\n",
       "Index: []"
      ]
     },
     "execution_count": 18,
     "metadata": {},
     "output_type": "execute_result"
    }
   ],
   "source": [
    "sample_dataset = pd.DataFrame(columns=[\"name\",\"sequence\",\"chrom\",\"chromStart\",\n",
    "                                      \"chromEnd\",\"strand\",\"mismatch\",\n",
    "                                      \"*frequency_score\"])\n",
    "sample_dataset.head()"
   ]
  },
  {
   "cell_type": "code",
   "execution_count": 7,
   "id": "ee60d40f",
   "metadata": {},
   "outputs": [
    {
     "data": {
      "text/html": [
       "<div>\n",
       "<style scoped>\n",
       "    .dataframe tbody tr th:only-of-type {\n",
       "        vertical-align: middle;\n",
       "    }\n",
       "\n",
       "    .dataframe tbody tr th {\n",
       "        vertical-align: top;\n",
       "    }\n",
       "\n",
       "    .dataframe thead th {\n",
       "        text-align: right;\n",
       "    }\n",
       "</style>\n",
       "<table border=\"1\" class=\"dataframe\">\n",
       "  <thead>\n",
       "    <tr style=\"text-align: right;\">\n",
       "      <th></th>\n",
       "      <th>name</th>\n",
       "      <th>sequence</th>\n",
       "      <th>chrom</th>\n",
       "      <th>chromStart</th>\n",
       "      <th>chromEnd</th>\n",
       "      <th>strand</th>\n",
       "      <th>mismatch</th>\n",
       "      <th>dsb_score</th>\n",
       "      <th>guide_homology_score</th>\n",
       "      <th>guideseq</th>\n",
       "      <th>target_length</th>\n",
       "    </tr>\n",
       "  </thead>\n",
       "  <tbody>\n",
       "    <tr>\n",
       "      <th>0</th>\n",
       "      <td>EMX1</td>\n",
       "      <td>GAGTCCGAGCAGAAGAAGAAGGG</td>\n",
       "      <td>chr2</td>\n",
       "      <td>73160973</td>\n",
       "      <td>73161010</td>\n",
       "      <td>NaN</td>\n",
       "      <td>0</td>\n",
       "      <td>14.883283</td>\n",
       "      <td>60</td>\n",
       "      <td>1</td>\n",
       "      <td>23</td>\n",
       "    </tr>\n",
       "    <tr>\n",
       "      <th>1</th>\n",
       "      <td>EMX1</td>\n",
       "      <td>GAGTtaGAGCAGAAGAAGAAAGG</td>\n",
       "      <td>chr5</td>\n",
       "      <td>45359051</td>\n",
       "      <td>45359082</td>\n",
       "      <td>NaN</td>\n",
       "      <td>2</td>\n",
       "      <td>3.843422</td>\n",
       "      <td>52</td>\n",
       "      <td>1</td>\n",
       "      <td>23</td>\n",
       "    </tr>\n",
       "    <tr>\n",
       "      <th>2</th>\n",
       "      <td>EMX1</td>\n",
       "      <td>GAGTCtaAGCAGAAGAAGAAGAG</td>\n",
       "      <td>chr15</td>\n",
       "      <td>44109742</td>\n",
       "      <td>44109763</td>\n",
       "      <td>NaN</td>\n",
       "      <td>2</td>\n",
       "      <td>3.478468</td>\n",
       "      <td>52</td>\n",
       "      <td>1</td>\n",
       "      <td>23</td>\n",
       "    </tr>\n",
       "    <tr>\n",
       "      <th>3</th>\n",
       "      <td>EMX1</td>\n",
       "      <td>GAGTCCtAGCAGgAGAAGAAGAG</td>\n",
       "      <td>chr8</td>\n",
       "      <td>128801235</td>\n",
       "      <td>128801269</td>\n",
       "      <td>NaN</td>\n",
       "      <td>2</td>\n",
       "      <td>1.744937</td>\n",
       "      <td>52</td>\n",
       "      <td>1</td>\n",
       "      <td>23</td>\n",
       "    </tr>\n",
       "    <tr>\n",
       "      <th>4</th>\n",
       "      <td>EMX1</td>\n",
       "      <td>GAGgCCGAGCAGAAGAAagACGG</td>\n",
       "      <td>chr2</td>\n",
       "      <td>219845069</td>\n",
       "      <td>219845072</td>\n",
       "      <td>NaN</td>\n",
       "      <td>3</td>\n",
       "      <td>1.003624</td>\n",
       "      <td>48</td>\n",
       "      <td>1</td>\n",
       "      <td>23</td>\n",
       "    </tr>\n",
       "    <tr>\n",
       "      <th>...</th>\n",
       "      <td>...</td>\n",
       "      <td>...</td>\n",
       "      <td>...</td>\n",
       "      <td>...</td>\n",
       "      <td>...</td>\n",
       "      <td>...</td>\n",
       "      <td>...</td>\n",
       "      <td>...</td>\n",
       "      <td>...</td>\n",
       "      <td>...</td>\n",
       "      <td>...</td>\n",
       "    </tr>\n",
       "    <tr>\n",
       "      <th>56</th>\n",
       "      <td>VEGFA_site3</td>\n",
       "      <td>GGTGtGTGtGTGTGTG-GTGGGG</td>\n",
       "      <td>chr9</td>\n",
       "      <td>95966358</td>\n",
       "      <td>95966408</td>\n",
       "      <td>NaN</td>\n",
       "      <td>2</td>\n",
       "      <td>0.051478</td>\n",
       "      <td>44</td>\n",
       "      <td>0</td>\n",
       "      <td>23</td>\n",
       "    </tr>\n",
       "    <tr>\n",
       "      <th>57</th>\n",
       "      <td>VEGFA_site3</td>\n",
       "      <td>GGTGAGgGcGTGTcTGgGTGAGG</td>\n",
       "      <td>chr12</td>\n",
       "      <td>132881700</td>\n",
       "      <td>132881718</td>\n",
       "      <td>NaN</td>\n",
       "      <td>4</td>\n",
       "      <td>0.041182</td>\n",
       "      <td>44</td>\n",
       "      <td>0</td>\n",
       "      <td>23</td>\n",
       "    </tr>\n",
       "    <tr>\n",
       "      <th>58</th>\n",
       "      <td>VEGFA_site3</td>\n",
       "      <td>GTGAGaaAGTGTGTGCaTGCGG</td>\n",
       "      <td>chr2</td>\n",
       "      <td>18696223</td>\n",
       "      <td>18696224</td>\n",
       "      <td>NaN</td>\n",
       "      <td>3</td>\n",
       "      <td>0.041182</td>\n",
       "      <td>44</td>\n",
       "      <td>1</td>\n",
       "      <td>22</td>\n",
       "    </tr>\n",
       "    <tr>\n",
       "      <th>59</th>\n",
       "      <td>VEGFA_site3</td>\n",
       "      <td>GTGtGTGtGTGTGTGtGTGTGG</td>\n",
       "      <td>chr15</td>\n",
       "      <td>22512148</td>\n",
       "      <td>22512163</td>\n",
       "      <td>NaN</td>\n",
       "      <td>3</td>\n",
       "      <td>0.041182</td>\n",
       "      <td>45</td>\n",
       "      <td>0</td>\n",
       "      <td>22</td>\n",
       "    </tr>\n",
       "    <tr>\n",
       "      <th>60</th>\n",
       "      <td>VEGFA_site3</td>\n",
       "      <td>GTGAGTGAGTGTGTGtGTGtGAG</td>\n",
       "      <td>chr15</td>\n",
       "      <td>92864206</td>\n",
       "      <td>92864211</td>\n",
       "      <td>NaN</td>\n",
       "      <td>2</td>\n",
       "      <td>0.041182</td>\n",
       "      <td>48</td>\n",
       "      <td>0</td>\n",
       "      <td>23</td>\n",
       "    </tr>\n",
       "  </tbody>\n",
       "</table>\n",
       "<p>61 rows × 11 columns</p>\n",
       "</div>"
      ],
      "text/plain": [
       "           name                 sequence  chrom chromStart   chromEnd strand  \\\n",
       "0          EMX1  GAGTCCGAGCAGAAGAAGAAGGG   chr2   73160973   73161010    NaN   \n",
       "1          EMX1  GAGTtaGAGCAGAAGAAGAAAGG   chr5   45359051   45359082    NaN   \n",
       "2          EMX1  GAGTCtaAGCAGAAGAAGAAGAG  chr15   44109742   44109763    NaN   \n",
       "3          EMX1  GAGTCCtAGCAGgAGAAGAAGAG   chr8  128801235  128801269    NaN   \n",
       "4          EMX1  GAGgCCGAGCAGAAGAAagACGG   chr2  219845069  219845072    NaN   \n",
       "..          ...                      ...    ...        ...        ...    ...   \n",
       "56  VEGFA_site3  GGTGtGTGtGTGTGTG-GTGGGG   chr9   95966358   95966408    NaN   \n",
       "57  VEGFA_site3  GGTGAGgGcGTGTcTGgGTGAGG  chr12  132881700  132881718    NaN   \n",
       "58  VEGFA_site3   GTGAGaaAGTGTGTGCaTGCGG   chr2   18696223   18696224    NaN   \n",
       "59  VEGFA_site3   GTGtGTGtGTGTGTGtGTGTGG  chr15   22512148   22512163    NaN   \n",
       "60  VEGFA_site3  GTGAGTGAGTGTGTGtGTGtGAG  chr15   92864206   92864211    NaN   \n",
       "\n",
       "    mismatch  dsb_score  guide_homology_score  guideseq  target_length  \n",
       "0          0  14.883283                    60         1             23  \n",
       "1          2   3.843422                    52         1             23  \n",
       "2          2   3.478468                    52         1             23  \n",
       "3          2   1.744937                    52         1             23  \n",
       "4          3   1.003624                    48         1             23  \n",
       "..       ...        ...                   ...       ...            ...  \n",
       "56         2   0.051478                    44         0             23  \n",
       "57         4   0.041182                    44         0             23  \n",
       "58         3   0.041182                    44         1             22  \n",
       "59         3   0.041182                    45         0             22  \n",
       "60         2   0.041182                    48         0             23  \n",
       "\n",
       "[61 rows x 11 columns]"
      ]
     },
     "execution_count": 7,
     "metadata": {},
     "output_type": "execute_result"
    }
   ],
   "source": [
    "bliss = pd.read_excel(\"BLISS.xlsx\")\n",
    "\n",
    "bliss =bliss.rename(columns={\"Target\":\"name\",\"On-/off-target (name) (OT = off-target)\":\"on_off\",\"Unique DSB ends per 10^5 reads (DSB score)\":\"dsb_score\",\n",
    "            \"Standard deviation of DSB score\":\"std_dsb_score\",\"Matched genomic target\":\"sequence\",\"On-/off-target coord\":\"coordinate\",\n",
    "                            }\n",
    "            )\n",
    "bliss.drop(columns=[\"Forward\",\"Reverse\"],axis=1,inplace=True)\n",
    "bliss.columns = bliss.columns.str.lower()\n",
    "bliss.columns = bliss.columns.str.strip()\n",
    "\n",
    "bliss.columns = bliss.columns.str.replace(' ', '_')\n",
    "bliss[['chrom', 'chromStart','chromEnd']] = bliss['coordinate'].str.extract(r\"(chr.*):(\\d*)-(\\d*)\",expand=True)\n",
    "bliss['on_off']=bliss['on_off'].apply(lambda x: x.split(\"(\")[0].strip(\" \"))\n",
    "bliss.loc[bliss[\"name\"]==\"VEGFA\",\"name\"]=\"VEGFA_site3\"\n",
    "bliss['mismatch'] = bliss[\"sequence\"].apply(lambda x :  sum(map(x.count,[\"a\",\"c\",\"g\",\"t\"])))\n",
    "bliss[\"strand\"]=pd.NA\n",
    "bliss = bliss[[\"name\",\"sequence\",\"chrom\",\"chromStart\",\"chromEnd\",\"strand\",\n",
    "               \"mismatch\",\"dsb_score\",\"guide_homology_score\",\"guideseq\"]]\n",
    "bliss[\"target_length\"]=bliss[\"sequence\"].apply(lambda x : len(x))\n",
    "\n",
    "bliss"
   ]
  },
  {
   "cell_type": "code",
   "execution_count": 4,
   "id": "0a2f9380",
   "metadata": {},
   "outputs": [
    {
     "data": {
      "text/html": [
       "<div>\n",
       "<style scoped>\n",
       "    .dataframe tbody tr th:only-of-type {\n",
       "        vertical-align: middle;\n",
       "    }\n",
       "\n",
       "    .dataframe tbody tr th {\n",
       "        vertical-align: top;\n",
       "    }\n",
       "\n",
       "    .dataframe thead th {\n",
       "        text-align: right;\n",
       "    }\n",
       "</style>\n",
       "<table border=\"1\" class=\"dataframe\">\n",
       "  <thead>\n",
       "    <tr style=\"text-align: right;\">\n",
       "      <th></th>\n",
       "      <th>name</th>\n",
       "      <th>sequence</th>\n",
       "      <th>chrom</th>\n",
       "      <th>chromStart</th>\n",
       "      <th>chromEnd</th>\n",
       "      <th>strand</th>\n",
       "      <th>mismatch</th>\n",
       "      <th>guide-seq_reads</th>\n",
       "      <th>target_length</th>\n",
       "    </tr>\n",
       "  </thead>\n",
       "  <tbody>\n",
       "    <tr>\n",
       "      <th>174</th>\n",
       "      <td>VEGFA_site3</td>\n",
       "      <td>AGTGAGTGAGTGTGTGTGTGGGG</td>\n",
       "      <td>chr14</td>\n",
       "      <td>65569152</td>\n",
       "      <td>65569175</td>\n",
       "      <td>-</td>\n",
       "      <td>2</td>\n",
       "      <td>3125</td>\n",
       "      <td>23</td>\n",
       "    </tr>\n",
       "    <tr>\n",
       "      <th>175</th>\n",
       "      <td>VEGFA_site3</td>\n",
       "      <td>AGAGAGTGAGTGTGTGCATGAGG</td>\n",
       "      <td>chr5</td>\n",
       "      <td>89440962</td>\n",
       "      <td>89440985</td>\n",
       "      <td>-</td>\n",
       "      <td>3</td>\n",
       "      <td>2559</td>\n",
       "      <td>23</td>\n",
       "    </tr>\n",
       "    <tr>\n",
       "      <th>176</th>\n",
       "      <td>VEGFA_site3</td>\n",
       "      <td>GGTGAGTGAGTGTGTGCGTGTGG</td>\n",
       "      <td>chr6</td>\n",
       "      <td>43737453</td>\n",
       "      <td>43737476</td>\n",
       "      <td>+</td>\n",
       "      <td>0</td>\n",
       "      <td>2440</td>\n",
       "      <td>23</td>\n",
       "    </tr>\n",
       "    <tr>\n",
       "      <th>177</th>\n",
       "      <td>VEGFA_site3</td>\n",
       "      <td>TGTGGGTGAGTGTGTGCGTGAGG</td>\n",
       "      <td>chr5</td>\n",
       "      <td>115434658</td>\n",
       "      <td>115434681</td>\n",
       "      <td>+</td>\n",
       "      <td>2</td>\n",
       "      <td>2200</td>\n",
       "      <td>23</td>\n",
       "    </tr>\n",
       "    <tr>\n",
       "      <th>178</th>\n",
       "      <td>VEGFA_site3</td>\n",
       "      <td>GCTGAGTGAGTGTATGCGTGTGG</td>\n",
       "      <td>chr22</td>\n",
       "      <td>37662817</td>\n",
       "      <td>37662840</td>\n",
       "      <td>-</td>\n",
       "      <td>2</td>\n",
       "      <td>1997</td>\n",
       "      <td>23</td>\n",
       "    </tr>\n",
       "  </tbody>\n",
       "</table>\n",
       "</div>"
      ],
      "text/plain": [
       "            name                 sequence  chrom  chromStart   chromEnd  \\\n",
       "174  VEGFA_site3  AGTGAGTGAGTGTGTGTGTGGGG  chr14    65569152   65569175   \n",
       "175  VEGFA_site3  AGAGAGTGAGTGTGTGCATGAGG   chr5    89440962   89440985   \n",
       "176  VEGFA_site3  GGTGAGTGAGTGTGTGCGTGTGG   chr6    43737453   43737476   \n",
       "177  VEGFA_site3  TGTGGGTGAGTGTGTGCGTGAGG   chr5   115434658  115434681   \n",
       "178  VEGFA_site3  GCTGAGTGAGTGTATGCGTGTGG  chr22    37662817   37662840   \n",
       "\n",
       "    strand  mismatch  guide-seq_reads  target_length  \n",
       "174      -         2             3125             23  \n",
       "175      -         3             2559             23  \n",
       "176      +         0             2440             23  \n",
       "177      +         2             2200             23  \n",
       "178      -         2             1997             23  "
      ]
     },
     "execution_count": 4,
     "metadata": {},
     "output_type": "execute_result"
    }
   ],
   "source": [
    "guideseq= pd.read_excel('GUIDEseq.xlsx')\n",
    "guideseq.columns = [x.lower() for x in guideseq.columns]\n",
    "guideseq.columns = [x.replace(' ','_') for x in guideseq.columns]\n",
    "guideseq=guideseq.rename(columns={\"#chromosome\":\"chrom\",\"start\":\"chromStart\",\n",
    "                     \"end\":\"chromEnd\",\"name\":\"coordinate\",\n",
    "                     \"targetsite\":\"name\",\"offtarget_sequence\":\"sequence\",\n",
    "                    \"mismatch_total\":\"mismatch\"})\n",
    "guideseq= guideseq[guideseq[\"name\"].isin([\"VEGFA_site3\",\"EMX1\"])]\n",
    "guideseq = guideseq[[\"name\",\"sequence\",\"chrom\",\"chromStart\",\"chromEnd\",\"strand\",\n",
    "               \"mismatch\",\"guide-seq_reads\"]]\n",
    "guideseq[\"target_length\"]=guideseq[\"sequence\"].apply(lambda x : len(x))\n",
    "\n",
    "guideseq.head()"
   ]
  },
  {
   "cell_type": "markdown",
   "id": "22cb14c4-52fa-410c-be49-11cb4af96e0c",
   "metadata": {},
   "source": [
    "## Inconsistency between genomic coordination of the same target sites between guideseq and bliss\n",
    "probably due to different pipelines? / genome version? (USCC hg19 was reported to be used in both cases)\n",
    "\n",
    "* In certain cases, off-target sites with DNA bulges may also be interpreted as sequences having various base mismatches with guide sequence and/or PAM  [CRISPR/Cas9 systems have off-target activity with insertions or deletions between target DNA and guide RNA sequences](https://academic.oup.com/nar/article/42/11/7473/1454761?login=false)"
   ]
  },
  {
   "cell_type": "code",
   "execution_count": 8,
   "id": "a5bdace1-da7e-4ca0-8438-ef1c49c74f50",
   "metadata": {},
   "outputs": [],
   "source": [
    "def adjust_seq(df):\n",
    "    filter=guideseq.loc[(guideseq[\"chrom\"]==df[\"chrom\"])&(guideseq[\"name\"]==df[\"name\"])]\n",
    "    if df[\"guideseq\"]==1:\n",
    "\n",
    "        for chromStart in filter[\"chromStart\"]:\n",
    "            bliss_coordinate= str(df[\"chromStart\"])\n",
    "            guideseq_coordinate = str(chromStart)\n",
    "            print(f\"bliss:{bliss_coordinate}-{bliss_coordinate[:-3]}\")\n",
    "            print(f\"guideseq:{guideseq_coordinate}-{guideseq_coordinate[:-3]}\")\n",
    "            \n",
    "            if bliss_coordinate[:-3]==guideseq_coordinate[:-3]:\n",
    "                display((filter.loc[(filter[\"chromStart\"]==chromStart)]).iloc[0])\n",
    "                return filter.loc[(filter[\"chromStart\"]==chromStart)].iloc[0]\n",
    "        return df\n",
    "    else:\n",
    "        return df\n",
    "\n"
   ]
  },
  {
   "cell_type": "code",
   "execution_count": 9,
   "id": "55460e04-74f9-4e33-bd36-efcf956165fc",
   "metadata": {
    "scrolled": true
   },
   "outputs": [
    {
     "name": "stdout",
     "output_type": "stream",
     "text": [
      "bliss:73160973-73160\n",
      "guideseq:73160981-73160\n"
     ]
    },
    {
     "data": {
      "text/plain": [
       "name                                  EMX1\n",
       "sequence           GAGTCCGAGCAGAAGAAGAAGGG\n",
       "chrom                                 chr2\n",
       "chromStart                        73160981\n",
       "chromEnd                          73161004\n",
       "strand                                   +\n",
       "mismatch                                 0\n",
       "guide-seq_reads                       4521\n",
       "target_length                           23\n",
       "Name: 234, dtype: object"
      ]
     },
     "metadata": {},
     "output_type": "display_data"
    },
    {
     "name": "stdout",
     "output_type": "stream",
     "text": [
      "bliss:45359051-45359\n",
      "guideseq:45359060-45359\n"
     ]
    },
    {
     "data": {
      "text/plain": [
       "name                                  EMX1\n",
       "sequence           GAGTTAGAGCAGAAGAAGAAAGG\n",
       "chrom                                 chr5\n",
       "chromStart                        45359060\n",
       "chromEnd                          45359083\n",
       "strand                                   -\n",
       "mismatch                                 2\n",
       "guide-seq_reads                       3123\n",
       "target_length                           23\n",
       "Name: 235, dtype: object"
      ]
     },
     "metadata": {},
     "output_type": "display_data"
    },
    {
     "name": "stdout",
     "output_type": "stream",
     "text": [
      "bliss:44109742-44109\n",
      "guideseq:44109746-44109\n"
     ]
    },
    {
     "data": {
      "text/plain": [
       "name                                  EMX1\n",
       "sequence           GAGTCTAAGCAGAAGAAGAAGAG\n",
       "chrom                                chr15\n",
       "chromStart                        44109746\n",
       "chromEnd                          44109769\n",
       "strand                                   +\n",
       "mismatch                                 3\n",
       "guide-seq_reads                       1445\n",
       "target_length                           23\n",
       "Name: 236, dtype: object"
      ]
     },
     "metadata": {},
     "output_type": "display_data"
    },
    {
     "name": "stdout",
     "output_type": "stream",
     "text": [
      "bliss:128801235-128801\n",
      "guideseq:128801241-128801\n"
     ]
    },
    {
     "data": {
      "text/plain": [
       "name                                  EMX1\n",
       "sequence           GAGTCCTAGCAGGAGAAGAAGAG\n",
       "chrom                                 chr8\n",
       "chromStart                       128801241\n",
       "chromEnd                         128801264\n",
       "strand                                   +\n",
       "mismatch                                 3\n",
       "guide-seq_reads                        390\n",
       "target_length                           23\n",
       "Name: 238, dtype: object"
      ]
     },
     "metadata": {},
     "output_type": "display_data"
    },
    {
     "name": "stdout",
     "output_type": "stream",
     "text": [
      "bliss:219845069-219845\n",
      "guideseq:73160981-73160\n",
      "bliss:219845069-219845\n",
      "guideseq:219845055-219845\n"
     ]
    },
    {
     "data": {
      "text/plain": [
       "name                                  EMX1\n",
       "sequence           GAGGCCGAGCAGAAGAAAGACGG\n",
       "chrom                                 chr2\n",
       "chromStart                       219845055\n",
       "chromEnd                         219845078\n",
       "strand                                   +\n",
       "mismatch                                 3\n",
       "guide-seq_reads                        700\n",
       "target_length                           23\n",
       "Name: 237, dtype: object"
      ]
     },
     "metadata": {},
     "output_type": "display_data"
    },
    {
     "name": "stdout",
     "output_type": "stream",
     "text": [
      "bliss:9227160-9227\n",
      "guideseq:45359060-45359\n",
      "bliss:9227160-9227\n",
      "guideseq:9227145-9227\n"
     ]
    },
    {
     "data": {
      "text/plain": [
       "name                                  EMX1\n",
       "sequence           AAGTCTGAGCACAAGAAGAATGG\n",
       "chrom                                 chr5\n",
       "chromStart                         9227145\n",
       "chromEnd                           9227168\n",
       "strand                                   +\n",
       "mismatch                                 3\n",
       "guide-seq_reads                        258\n",
       "target_length                           23\n",
       "Name: 239, dtype: object"
      ]
     },
     "metadata": {},
     "output_type": "display_data"
    },
    {
     "name": "stdout",
     "output_type": "stream",
     "text": [
      "bliss:9118797-9118\n",
      "guideseq:9118792-9118\n"
     ]
    },
    {
     "data": {
      "text/plain": [
       "name                                  EMX1\n",
       "sequence           ACGTCTGAGCAGAAGAAGAATGG\n",
       "chrom                                 chr6\n",
       "chromStart                         9118792\n",
       "chromEnd                           9118815\n",
       "strand                                   -\n",
       "mismatch                                 3\n",
       "guide-seq_reads                         38\n",
       "target_length                           23\n",
       "Name: 244, dtype: object"
      ]
     },
     "metadata": {},
     "output_type": "display_data"
    },
    {
     "name": "stdout",
     "output_type": "stream",
     "text": [
      "bliss:23720617-23720\n",
      "guideseq:23720611-23720\n"
     ]
    },
    {
     "data": {
      "text/plain": [
       "name                                  EMX1\n",
       "sequence           AAGTCCGAGGAGAGGAAGAAAGG\n",
       "chrom                                 chr1\n",
       "chromStart                        23720611\n",
       "chromEnd                          23720634\n",
       "strand                                   -\n",
       "mismatch                                 3\n",
       "guide-seq_reads                        102\n",
       "target_length                           23\n",
       "Name: 242, dtype: object"
      ]
     },
     "metadata": {},
     "output_type": "display_data"
    },
    {
     "name": "stdout",
     "output_type": "stream",
     "text": [
      "bliss:100292453-100292\n",
      "guideseq:44109746-44109\n",
      "bliss:100292453-100292\n",
      "guideseq:100292461-100292\n"
     ]
    },
    {
     "data": {
      "text/plain": [
       "name                                  EMX1\n",
       "sequence           AAGTCCCGGCAGAGGAAGAAGGG\n",
       "chrom                                chr15\n",
       "chromStart                       100292461\n",
       "chromEnd                         100292484\n",
       "strand                                   +\n",
       "mismatch                                 4\n",
       "guide-seq_reads                          6\n",
       "target_length                           23\n",
       "Name: 246, dtype: object"
      ]
     },
     "metadata": {},
     "output_type": "display_data"
    },
    {
     "name": "stdout",
     "output_type": "stream",
     "text": [
      "bliss:43737464-43737\n",
      "guideseq:43737453-43737\n"
     ]
    },
    {
     "data": {
      "text/plain": [
       "name                           VEGFA_site3\n",
       "sequence           GGTGAGTGAGTGTGTGCGTGTGG\n",
       "chrom                                 chr6\n",
       "chromStart                        43737453\n",
       "chromEnd                          43737476\n",
       "strand                                   +\n",
       "mismatch                                 0\n",
       "guide-seq_reads                       2440\n",
       "target_length                           23\n",
       "Name: 176, dtype: object"
      ]
     },
     "metadata": {},
     "output_type": "display_data"
    },
    {
     "name": "stdout",
     "output_type": "stream",
     "text": [
      "bliss:115434642-115434\n",
      "guideseq:89440962-89440\n",
      "bliss:115434642-115434\n",
      "guideseq:115434658-115434\n"
     ]
    },
    {
     "data": {
      "text/plain": [
       "name                           VEGFA_site3\n",
       "sequence           TGTGGGTGAGTGTGTGCGTGAGG\n",
       "chrom                                 chr5\n",
       "chromStart                       115434658\n",
       "chromEnd                         115434681\n",
       "strand                                   +\n",
       "mismatch                                 2\n",
       "guide-seq_reads                       2200\n",
       "target_length                           23\n",
       "Name: 177, dtype: object"
      ]
     },
     "metadata": {},
     "output_type": "display_data"
    },
    {
     "name": "stdout",
     "output_type": "stream",
     "text": [
      "bliss:89440967-89440\n",
      "guideseq:89440962-89440\n"
     ]
    },
    {
     "data": {
      "text/plain": [
       "name                           VEGFA_site3\n",
       "sequence           AGAGAGTGAGTGTGTGCATGAGG\n",
       "chrom                                 chr5\n",
       "chromStart                        89440962\n",
       "chromEnd                          89440985\n",
       "strand                                   -\n",
       "mismatch                                 3\n",
       "guide-seq_reads                       2559\n",
       "target_length                           23\n",
       "Name: 175, dtype: object"
      ]
     },
     "metadata": {},
     "output_type": "display_data"
    },
    {
     "name": "stdout",
     "output_type": "stream",
     "text": [
      "bliss:74353482-74353\n",
      "guideseq:65569152-65569\n",
      "bliss:74353482-74353\n",
      "guideseq:62078766-62078\n",
      "bliss:74353482-74353\n",
      "guideseq:74353479-74353\n"
     ]
    },
    {
     "data": {
      "text/plain": [
       "name                           VEGFA_site3\n",
       "sequence           AGCGAGTGGGTGTGTGCGTGGGG\n",
       "chrom                                chr14\n",
       "chromStart                        74353479\n",
       "chromEnd                          74353502\n",
       "strand                                   +\n",
       "mismatch                                 3\n",
       "guide-seq_reads                        790\n",
       "target_length                           23\n",
       "Name: 184, dtype: object"
      ]
     },
     "metadata": {},
     "output_type": "display_data"
    },
    {
     "name": "stdout",
     "output_type": "stream",
     "text": [
      "bliss:23824539-23824\n",
      "guideseq:23824547-23824\n"
     ]
    },
    {
     "data": {
      "text/plain": [
       "name                           VEGFA_site3\n",
       "sequence           TGTGGGTGAGTGTGTGCGTGAGA\n",
       "chrom                                 chr9\n",
       "chromStart                        23824547\n",
       "chromEnd                          23824570\n",
       "strand                                   -\n",
       "mismatch                                 3\n",
       "guide-seq_reads                        643\n",
       "target_length                           23\n",
       "Name: 186, dtype: object"
      ]
     },
     "metadata": {},
     "output_type": "display_data"
    },
    {
     "name": "stdout",
     "output_type": "stream",
     "text": [
      "bliss:65569145-65569\n",
      "guideseq:65569152-65569\n"
     ]
    },
    {
     "data": {
      "text/plain": [
       "name                           VEGFA_site3\n",
       "sequence           AGTGAGTGAGTGTGTGTGTGGGG\n",
       "chrom                                chr14\n",
       "chromStart                        65569152\n",
       "chromEnd                          65569175\n",
       "strand                                   -\n",
       "mismatch                                 2\n",
       "guide-seq_reads                       3125\n",
       "target_length                           23\n",
       "Name: 174, dtype: object"
      ]
     },
     "metadata": {},
     "output_type": "display_data"
    },
    {
     "name": "stdout",
     "output_type": "stream",
     "text": [
      "bliss:106029011-106029\n",
      "guideseq:65569152-65569\n",
      "bliss:106029011-106029\n",
      "guideseq:62078766-62078\n",
      "bliss:106029011-106029\n",
      "guideseq:74353479-74353\n",
      "bliss:106029011-106029\n",
      "guideseq:106029014-106029\n"
     ]
    },
    {
     "data": {
      "text/plain": [
       "name                           VEGFA_site3\n",
       "sequence           GGTGAGTGAGTGTGTGTGTGAGG\n",
       "chrom                                chr14\n",
       "chromStart                       106029014\n",
       "chromEnd                         106029037\n",
       "strand                                   +\n",
       "mismatch                                 1\n",
       "guide-seq_reads                        199\n",
       "target_length                           23\n",
       "Name: 188, dtype: object"
      ]
     },
     "metadata": {},
     "output_type": "display_data"
    },
    {
     "name": "stdout",
     "output_type": "stream",
     "text": [
      "bliss:98760564-98760\n",
      "guideseq:98760581-98760\n"
     ]
    },
    {
     "data": {
      "text/plain": [
       "name                           VEGFA_site3\n",
       "sequence           GTTGAGTGAATGTGTGCGTGAGG\n",
       "chrom                                chr10\n",
       "chromStart                        98760581\n",
       "chromEnd                          98760604\n",
       "strand                                   -\n",
       "mismatch                                 2\n",
       "guide-seq_reads                       1437\n",
       "target_length                           23\n",
       "Name: 180, dtype: object"
      ]
     },
     "metadata": {},
     "output_type": "display_data"
    },
    {
     "name": "stdout",
     "output_type": "stream",
     "text": [
      "bliss:68851136-68851\n",
      "guideseq:68851125-68851\n"
     ]
    },
    {
     "data": {
      "text/plain": [
       "name                           VEGFA_site3\n",
       "sequence           GGTGAGTGAGTGTGTGCGGGTGG\n",
       "chrom                                chr11\n",
       "chromStart                        68851125\n",
       "chromEnd                          68851148\n",
       "strand                                   +\n",
       "mismatch                                 1\n",
       "guide-seq_reads                       1535\n",
       "target_length                           23\n",
       "Name: 179, dtype: object"
      ]
     },
     "metadata": {},
     "output_type": "display_data"
    },
    {
     "name": "stdout",
     "output_type": "stream",
     "text": [
      "bliss:193993881-193993\n",
      "guideseq:193993877-193993\n"
     ]
    },
    {
     "data": {
      "text/plain": [
       "name                           VEGFA_site3\n",
       "sequence           AGTGAATGAGTGTGTGTGTGTGG\n",
       "chrom                                 chr3\n",
       "chromStart                       193993877\n",
       "chromEnd                         193993900\n",
       "strand                                   -\n",
       "mismatch                                 3\n",
       "guide-seq_reads                       1315\n",
       "target_length                           23\n",
       "Name: 181, dtype: object"
      ]
     },
     "metadata": {},
     "output_type": "display_data"
    },
    {
     "name": "stdout",
     "output_type": "stream",
     "text": [
      "bliss:130228343-130228\n",
      "guideseq:98760581-98760\n",
      "bliss:130228343-130228\n",
      "guideseq:5749650-5749\n",
      "bliss:130228343-130228\n",
      "guideseq:130228336-130228\n"
     ]
    },
    {
     "data": {
      "text/plain": [
       "name                           VEGFA_site3\n",
       "sequence           AGGGAGTGACTGTGTGCGTGTGG\n",
       "chrom                                chr10\n",
       "chromStart                       130228336\n",
       "chromEnd                         130228359\n",
       "strand                                   +\n",
       "mismatch                                 3\n",
       "guide-seq_reads                         24\n",
       "target_length                           23\n",
       "Name: 210, dtype: object"
      ]
     },
     "metadata": {},
     "output_type": "display_data"
    },
    {
     "name": "stdout",
     "output_type": "stream",
     "text": [
      "bliss:50724390-50724\n",
      "guideseq:20178277-20178\n",
      "bliss:50724390-50724\n",
      "guideseq:50724387-50724\n"
     ]
    },
    {
     "data": {
      "text/plain": [
       "name                           VEGFA_site3\n",
       "sequence           CGTGAGTGAGTGTGTACCTGGGG\n",
       "chrom                                chr20\n",
       "chromStart                        50724387\n",
       "chromEnd                          50724410\n",
       "strand                                   +\n",
       "mismatch                                 3\n",
       "guide-seq_reads                         19\n",
       "target_length                           23\n",
       "Name: 213, dtype: object"
      ]
     },
     "metadata": {},
     "output_type": "display_data"
    },
    {
     "name": "stdout",
     "output_type": "stream",
     "text": [
      "bliss:177463424-177463\n",
      "guideseq:73317043-73317\n",
      "bliss:177463424-177463\n",
      "guideseq:177463419-177463\n"
     ]
    },
    {
     "data": {
      "text/plain": [
       "name                           VEGFA_site3\n",
       "sequence           GGTGAGTGTGTGTGTGCATGTGG\n",
       "chrom                                 chr2\n",
       "chromStart                       177463419\n",
       "chromEnd                         177463442\n",
       "strand                                   -\n",
       "mismatch                                 2\n",
       "guide-seq_reads                         33\n",
       "target_length                           23\n",
       "Name: 205, dtype: object"
      ]
     },
     "metadata": {},
     "output_type": "display_data"
    },
    {
     "name": "stdout",
     "output_type": "stream",
     "text": [
      "bliss:84032633-84032\n",
      "guideseq:80016313-80016\n",
      "bliss:84032633-84032\n",
      "guideseq:84032639-84032\n"
     ]
    },
    {
     "data": {
      "text/plain": [
       "name                           VEGFA_site3\n",
       "sequence           GGTGAATGAGTGTGTGCTCTGGG\n",
       "chrom                                chr16\n",
       "chromStart                        84032639\n",
       "chromEnd                          84032662\n",
       "strand                                   -\n",
       "mismatch                                 4\n",
       "guide-seq_reads                         26\n",
       "target_length                           23\n",
       "Name: 209, dtype: object"
      ]
     },
     "metadata": {},
     "output_type": "display_data"
    },
    {
     "name": "stdout",
     "output_type": "stream",
     "text": [
      "bliss:6109029-6109\n",
      "guideseq:40561860-40561\n",
      "bliss:6109029-6109\n",
      "guideseq:47732485-47732\n",
      "bliss:6109029-6109\n",
      "guideseq:1716774-1716\n",
      "bliss:6109029-6109\n",
      "guideseq:17594216-17594\n",
      "bliss:6109029-6109\n",
      "guideseq:6109015-6109\n"
     ]
    },
    {
     "data": {
      "text/plain": [
       "name                           VEGFA_site3\n",
       "sequence           TGTGAGTGAGTGTGTGTGTGTGA\n",
       "chrom                                chr19\n",
       "chromStart                         6109015\n",
       "chromEnd                           6109038\n",
       "strand                                   +\n",
       "mismatch                                 3\n",
       "guide-seq_reads                          6\n",
       "target_length                           23\n",
       "Name: 226, dtype: object"
      ]
     },
     "metadata": {},
     "output_type": "display_data"
    },
    {
     "name": "stdout",
     "output_type": "stream",
     "text": [
      "bliss:20178282-20178\n",
      "guideseq:20178277-20178\n"
     ]
    },
    {
     "data": {
      "text/plain": [
       "name                           VEGFA_site3\n",
       "sequence           AGTGTGTGAGTGTGTGCGTGTGG\n",
       "chrom                                chr20\n",
       "chromStart                        20178277\n",
       "chromEnd                          20178300\n",
       "strand                                   -\n",
       "mismatch                                 2\n",
       "guide-seq_reads                        686\n",
       "target_length                           23\n",
       "Name: 185, dtype: object"
      ]
     },
     "metadata": {},
     "output_type": "display_data"
    },
    {
     "name": "stdout",
     "output_type": "stream",
     "text": [
      "bliss:48997804-48997\n",
      "guideseq:22932496-22932\n",
      "bliss:48997804-48997\n",
      "guideseq:48997788-48997\n"
     ]
    },
    {
     "data": {
      "text/plain": [
       "name                           VEGFA_site3\n",
       "sequence           GTAGAGTGAGTGTGTGTGTGTGG\n",
       "chrom                                 chr8\n",
       "chromStart                        48997788\n",
       "chromEnd                          48997811\n",
       "strand                                   +\n",
       "mismatch                                 3\n",
       "guide-seq_reads                         82\n",
       "target_length                           23\n",
       "Name: 197, dtype: object"
      ]
     },
     "metadata": {},
     "output_type": "display_data"
    },
    {
     "name": "stdout",
     "output_type": "stream",
     "text": [
      "bliss:74103173-74103\n",
      "guideseq:74103157-74103\n"
     ]
    },
    {
     "data": {
      "text/plain": [
       "name                           VEGFA_site3\n",
       "sequence           GGTGAGTAAGTGTGAGCGTAAGG\n",
       "chrom                                chr18\n",
       "chromStart                        74103157\n",
       "chromEnd                          74103180\n",
       "strand                                   +\n",
       "mismatch                                 3\n",
       "guide-seq_reads                         33\n",
       "target_length                           23\n",
       "Name: 206, dtype: object"
      ]
     },
     "metadata": {},
     "output_type": "display_data"
    },
    {
     "name": "stdout",
     "output_type": "stream",
     "text": [
      "bliss:62078772-62078\n",
      "guideseq:65569152-65569\n",
      "bliss:62078772-62078\n",
      "guideseq:62078766-62078\n"
     ]
    },
    {
     "data": {
      "text/plain": [
       "name                           VEGFA_site3\n",
       "sequence           TGTGAGTAAGTGTGTGTGTGTGG\n",
       "chrom                                chr14\n",
       "chromStart                        62078766\n",
       "chromEnd                          62078789\n",
       "strand                                   -\n",
       "mismatch                                 3\n",
       "guide-seq_reads                       1170\n",
       "target_length                           23\n",
       "Name: 182, dtype: object"
      ]
     },
     "metadata": {},
     "output_type": "display_data"
    },
    {
     "name": "stdout",
     "output_type": "stream",
     "text": [
      "bliss:40561858-40561\n",
      "guideseq:40561860-40561\n"
     ]
    },
    {
     "data": {
      "text/plain": [
       "name                           VEGFA_site3\n",
       "sequence           ACTGTGTGAGTGTGTGCGTGAGG\n",
       "chrom                                chr19\n",
       "chromStart                        40561860\n",
       "chromEnd                          40561883\n",
       "strand                                   -\n",
       "mismatch                                 3\n",
       "guide-seq_reads                        796\n",
       "target_length                           23\n",
       "Name: 183, dtype: object"
      ]
     },
     "metadata": {},
     "output_type": "display_data"
    },
    {
     "name": "stdout",
     "output_type": "stream",
     "text": [
      "bliss:144458289-144458\n",
      "guideseq:43737453-43737\n",
      "bliss:144458289-144458\n",
      "guideseq:157078320-157078\n",
      "bliss:144458289-144458\n",
      "guideseq:144458273-144458\n"
     ]
    },
    {
     "data": {
      "text/plain": [
       "name                           VEGFA_site3\n",
       "sequence           AGGGAGTGAGTGTGAGAGTGCGG\n",
       "chrom                                 chr6\n",
       "chromStart                       144458273\n",
       "chromEnd                         144458296\n",
       "strand                                   +\n",
       "mismatch                                 4\n",
       "guide-seq_reads                          4\n",
       "target_length                           23\n",
       "Name: 229, dtype: object"
      ]
     },
     "metadata": {},
     "output_type": "display_data"
    },
    {
     "name": "stdout",
     "output_type": "stream",
     "text": [
      "bliss:22932494-22932\n",
      "guideseq:22932496-22932\n"
     ]
    },
    {
     "data": {
      "text/plain": [
       "name                           VEGFA_site3\n",
       "sequence           TGTGAGTGAGTGTGTGTGTGTGA\n",
       "chrom                                 chr8\n",
       "chromStart                        22932496\n",
       "chromEnd                          22932519\n",
       "strand                                   -\n",
       "mismatch                                 3\n",
       "guide-seq_reads                        111\n",
       "target_length                           23\n",
       "Name: 193, dtype: object"
      ]
     },
     "metadata": {},
     "output_type": "display_data"
    },
    {
     "name": "stdout",
     "output_type": "stream",
     "text": [
      "bliss:47732491-47732\n",
      "guideseq:40561860-40561\n",
      "bliss:47732491-47732\n",
      "guideseq:47732485-47732\n"
     ]
    },
    {
     "data": {
      "text/plain": [
       "name                           VEGFA_site3\n",
       "sequence           CTGGAGTGAGTGTGTGTGTGTGG\n",
       "chrom                                chr19\n",
       "chromStart                        47732485\n",
       "chromEnd                          47732508\n",
       "strand                                   -\n",
       "mismatch                                 4\n",
       "guide-seq_reads                        193\n",
       "target_length                           23\n",
       "Name: 189, dtype: object"
      ]
     },
     "metadata": {},
     "output_type": "display_data"
    },
    {
     "name": "stdout",
     "output_type": "stream",
     "text": [
      "bliss:79178521-79178\n",
      "guideseq:68851125-68851\n",
      "bliss:79178521-79178\n",
      "guideseq:79178505-79178\n"
     ]
    },
    {
     "data": {
      "text/plain": [
       "name                           VEGFA_site3\n",
       "sequence           AGTGAGTGAGTGAGTGAGTGGGG\n",
       "chrom                                chr11\n",
       "chromStart                        79178505\n",
       "chromEnd                          79178528\n",
       "strand                                   +\n",
       "mismatch                                 3\n",
       "guide-seq_reads                         32\n",
       "target_length                           23\n",
       "Name: 207, dtype: object"
      ]
     },
     "metadata": {},
     "output_type": "display_data"
    },
    {
     "name": "stdout",
     "output_type": "stream",
     "text": [
      "bliss:230506239-230506\n",
      "guideseq:73317043-73317\n",
      "bliss:230506239-230506\n",
      "guideseq:177463419-177463\n",
      "bliss:230506239-230506\n",
      "guideseq:230506234-230506\n"
     ]
    },
    {
     "data": {
      "text/plain": [
       "name                           VEGFA_site3\n",
       "sequence           GGTGAGCAAGTGTGTGTGTGTGG\n",
       "chrom                                 chr2\n",
       "chromStart                       230506234\n",
       "chromEnd                         230506257\n",
       "strand                                   -\n",
       "mismatch                                 3\n",
       "guide-seq_reads                         20\n",
       "target_length                           23\n",
       "Name: 212, dtype: object"
      ]
     },
     "metadata": {},
     "output_type": "display_data"
    },
    {
     "name": "stdout",
     "output_type": "stream",
     "text": [
      "bliss:71632808-71632\n",
      "guideseq:193993877-193993\n",
      "bliss:71632808-71632\n",
      "guideseq:71632802-71632\n"
     ]
    },
    {
     "data": {
      "text/plain": [
       "name                           VEGFA_site3\n",
       "sequence           CGCGAGTGAGTGTGTGCGCGGGG\n",
       "chrom                                 chr3\n",
       "chromStart                        71632802\n",
       "chromEnd                          71632825\n",
       "strand                                   -\n",
       "mismatch                                 3\n",
       "guide-seq_reads                        215\n",
       "target_length                           23\n",
       "Name: 187, dtype: object"
      ]
     },
     "metadata": {},
     "output_type": "display_data"
    },
    {
     "name": "stdout",
     "output_type": "stream",
     "text": [
      "bliss:157078325-157078\n",
      "guideseq:43737453-43737\n",
      "bliss:157078325-157078\n",
      "guideseq:157078320-157078\n"
     ]
    },
    {
     "data": {
      "text/plain": [
       "name                           VEGFA_site3\n",
       "sequence           GATGAGTGAGTGAGTGAGTGGGG\n",
       "chrom                                 chr6\n",
       "chromStart                       157078320\n",
       "chromEnd                         157078343\n",
       "strand                                   -\n",
       "mismatch                                 3\n",
       "guide-seq_reads                         37\n",
       "target_length                           23\n",
       "Name: 202, dtype: object"
      ]
     },
     "metadata": {},
     "output_type": "display_data"
    },
    {
     "name": "stdout",
     "output_type": "stream",
     "text": [
      "bliss:47690893-47690\n",
      "guideseq:48305031-48305\n",
      "bliss:47690893-47690\n",
      "guideseq:181557186-181557\n",
      "bliss:47690893-47690\n",
      "guideseq:32738746-32738\n",
      "bliss:47690893-47690\n",
      "guideseq:47690887-47690\n"
     ]
    },
    {
     "data": {
      "text/plain": [
       "name                           VEGFA_site3\n",
       "sequence           TGTGAGAGAGAGTGTGCGTGTGG\n",
       "chrom                                 chr1\n",
       "chromStart                        47690887\n",
       "chromEnd                          47690910\n",
       "strand                                   -\n",
       "mismatch                                 3\n",
       "guide-seq_reads                          3\n",
       "target_length                           23\n",
       "Name: 233, dtype: object"
      ]
     },
     "metadata": {},
     "output_type": "display_data"
    },
    {
     "name": "stdout",
     "output_type": "stream",
     "text": [
      "bliss:1716790-1716\n",
      "guideseq:40561860-40561\n",
      "bliss:1716790-1716\n",
      "guideseq:47732485-47732\n",
      "bliss:1716790-1716\n",
      "guideseq:1716774-1716\n"
     ]
    },
    {
     "data": {
      "text/plain": [
       "name                           VEGFA_site3\n",
       "sequence           CATGAGTGAGTGTGTGGGTGGGG\n",
       "chrom                                chr19\n",
       "chromStart                         1716774\n",
       "chromEnd                           1716797\n",
       "strand                                   +\n",
       "mismatch                                 3\n",
       "guide-seq_reads                         45\n",
       "target_length                           23\n",
       "Name: 200, dtype: object"
      ]
     },
     "metadata": {},
     "output_type": "display_data"
    },
    {
     "name": "stdout",
     "output_type": "stream",
     "text": [
      "bliss:12264611-12264\n",
      "guideseq:80016313-80016\n",
      "bliss:12264611-12264\n",
      "guideseq:84032639-84032\n",
      "bliss:12264611-12264\n",
      "guideseq:73585908-73585\n",
      "bliss:12264611-12264\n",
      "guideseq:74898113-74898\n",
      "bliss:12264611-12264\n",
      "guideseq:12264595-12264\n"
     ]
    },
    {
     "data": {
      "text/plain": [
       "name                           VEGFA_site3\n",
       "sequence           AGTGAGTGAGTGTGTGTGTGTGA\n",
       "chrom                                chr16\n",
       "chromStart                        12264595\n",
       "chromEnd                          12264618\n",
       "strand                                   +\n",
       "mismatch                                 3\n",
       "guide-seq_reads                          6\n",
       "target_length                           23\n",
       "Name: 225, dtype: object"
      ]
     },
     "metadata": {},
     "output_type": "display_data"
    },
    {
     "name": "stdout",
     "output_type": "stream",
     "text": [
      "bliss:18696223-18696\n",
      "guideseq:73317043-73317\n",
      "bliss:18696223-18696\n",
      "guideseq:177463419-177463\n",
      "bliss:18696223-18696\n",
      "guideseq:230506234-230506\n",
      "bliss:18696223-18696\n",
      "guideseq:18696207-18696\n"
     ]
    },
    {
     "data": {
      "text/plain": [
       "name                           VEGFA_site3\n",
       "sequence           AGTGAGAAAGTGTGTGCATGCGG\n",
       "chrom                                 chr2\n",
       "chromStart                        18696207\n",
       "chromEnd                          18696230\n",
       "strand                                   +\n",
       "mismatch                                 4\n",
       "guide-seq_reads                          9\n",
       "target_length                           23\n",
       "Name: 223, dtype: object"
      ]
     },
     "metadata": {},
     "output_type": "display_data"
    },
    {
     "name": "stdout",
     "output_type": "stream",
     "text": [
      "bliss:73160981-73160\n",
      "guideseq:73160981-73160\n"
     ]
    },
    {
     "data": {
      "text/plain": [
       "name                                  EMX1\n",
       "sequence           GAGTCCGAGCAGAAGAAGAAGGG\n",
       "chrom                                 chr2\n",
       "chromStart                        73160981\n",
       "chromEnd                          73161004\n",
       "strand                                   +\n",
       "mismatch                                 0\n",
       "guide-seq_reads                       4521\n",
       "target_length                           23\n",
       "Name: 234, dtype: object"
      ]
     },
     "metadata": {},
     "output_type": "display_data"
    },
    {
     "name": "stdout",
     "output_type": "stream",
     "text": [
      "bliss:45359060-45359\n",
      "guideseq:45359060-45359\n"
     ]
    },
    {
     "data": {
      "text/plain": [
       "name                                  EMX1\n",
       "sequence           GAGTTAGAGCAGAAGAAGAAAGG\n",
       "chrom                                 chr5\n",
       "chromStart                        45359060\n",
       "chromEnd                          45359083\n",
       "strand                                   -\n",
       "mismatch                                 2\n",
       "guide-seq_reads                       3123\n",
       "target_length                           23\n",
       "Name: 235, dtype: object"
      ]
     },
     "metadata": {},
     "output_type": "display_data"
    },
    {
     "name": "stdout",
     "output_type": "stream",
     "text": [
      "bliss:44109746-44109\n",
      "guideseq:44109746-44109\n"
     ]
    },
    {
     "data": {
      "text/plain": [
       "name                                  EMX1\n",
       "sequence           GAGTCTAAGCAGAAGAAGAAGAG\n",
       "chrom                                chr15\n",
       "chromStart                        44109746\n",
       "chromEnd                          44109769\n",
       "strand                                   +\n",
       "mismatch                                 3\n",
       "guide-seq_reads                       1445\n",
       "target_length                           23\n",
       "Name: 236, dtype: object"
      ]
     },
     "metadata": {},
     "output_type": "display_data"
    },
    {
     "name": "stdout",
     "output_type": "stream",
     "text": [
      "bliss:128801241-128801\n",
      "guideseq:128801241-128801\n"
     ]
    },
    {
     "data": {
      "text/plain": [
       "name                                  EMX1\n",
       "sequence           GAGTCCTAGCAGGAGAAGAAGAG\n",
       "chrom                                 chr8\n",
       "chromStart                       128801241\n",
       "chromEnd                         128801264\n",
       "strand                                   +\n",
       "mismatch                                 3\n",
       "guide-seq_reads                        390\n",
       "target_length                           23\n",
       "Name: 238, dtype: object"
      ]
     },
     "metadata": {},
     "output_type": "display_data"
    },
    {
     "name": "stdout",
     "output_type": "stream",
     "text": [
      "bliss:219845055-219845\n",
      "guideseq:73160981-73160\n",
      "bliss:219845055-219845\n",
      "guideseq:219845055-219845\n"
     ]
    },
    {
     "data": {
      "text/plain": [
       "name                                  EMX1\n",
       "sequence           GAGGCCGAGCAGAAGAAAGACGG\n",
       "chrom                                 chr2\n",
       "chromStart                       219845055\n",
       "chromEnd                         219845078\n",
       "strand                                   +\n",
       "mismatch                                 3\n",
       "guide-seq_reads                        700\n",
       "target_length                           23\n",
       "Name: 237, dtype: object"
      ]
     },
     "metadata": {},
     "output_type": "display_data"
    },
    {
     "name": "stdout",
     "output_type": "stream",
     "text": [
      "bliss:9227145-9227\n",
      "guideseq:45359060-45359\n",
      "bliss:9227145-9227\n",
      "guideseq:9227145-9227\n"
     ]
    },
    {
     "data": {
      "text/plain": [
       "name                                  EMX1\n",
       "sequence           AAGTCTGAGCACAAGAAGAATGG\n",
       "chrom                                 chr5\n",
       "chromStart                         9227145\n",
       "chromEnd                           9227168\n",
       "strand                                   +\n",
       "mismatch                                 3\n",
       "guide-seq_reads                        258\n",
       "target_length                           23\n",
       "Name: 239, dtype: object"
      ]
     },
     "metadata": {},
     "output_type": "display_data"
    },
    {
     "name": "stdout",
     "output_type": "stream",
     "text": [
      "bliss:9118792-9118\n",
      "guideseq:9118792-9118\n"
     ]
    },
    {
     "data": {
      "text/plain": [
       "name                                  EMX1\n",
       "sequence           ACGTCTGAGCAGAAGAAGAATGG\n",
       "chrom                                 chr6\n",
       "chromStart                         9118792\n",
       "chromEnd                           9118815\n",
       "strand                                   -\n",
       "mismatch                                 3\n",
       "guide-seq_reads                         38\n",
       "target_length                           23\n",
       "Name: 244, dtype: object"
      ]
     },
     "metadata": {},
     "output_type": "display_data"
    },
    {
     "name": "stdout",
     "output_type": "stream",
     "text": [
      "bliss:23720611-23720\n",
      "guideseq:23720611-23720\n"
     ]
    },
    {
     "data": {
      "text/plain": [
       "name                                  EMX1\n",
       "sequence           AAGTCCGAGGAGAGGAAGAAAGG\n",
       "chrom                                 chr1\n",
       "chromStart                        23720611\n",
       "chromEnd                          23720634\n",
       "strand                                   -\n",
       "mismatch                                 3\n",
       "guide-seq_reads                        102\n",
       "target_length                           23\n",
       "Name: 242, dtype: object"
      ]
     },
     "metadata": {},
     "output_type": "display_data"
    },
    {
     "name": "stdout",
     "output_type": "stream",
     "text": [
      "bliss:100292461-100292\n",
      "guideseq:44109746-44109\n",
      "bliss:100292461-100292\n",
      "guideseq:100292461-100292\n"
     ]
    },
    {
     "data": {
      "text/plain": [
       "name                                  EMX1\n",
       "sequence           AAGTCCCGGCAGAGGAAGAAGGG\n",
       "chrom                                chr15\n",
       "chromStart                       100292461\n",
       "chromEnd                         100292484\n",
       "strand                                   +\n",
       "mismatch                                 4\n",
       "guide-seq_reads                          6\n",
       "target_length                           23\n",
       "Name: 246, dtype: object"
      ]
     },
     "metadata": {},
     "output_type": "display_data"
    },
    {
     "name": "stdout",
     "output_type": "stream",
     "text": [
      "bliss:43737453-43737\n",
      "guideseq:43737453-43737\n"
     ]
    },
    {
     "data": {
      "text/plain": [
       "name                           VEGFA_site3\n",
       "sequence           GGTGAGTGAGTGTGTGCGTGTGG\n",
       "chrom                                 chr6\n",
       "chromStart                        43737453\n",
       "chromEnd                          43737476\n",
       "strand                                   +\n",
       "mismatch                                 0\n",
       "guide-seq_reads                       2440\n",
       "target_length                           23\n",
       "Name: 176, dtype: object"
      ]
     },
     "metadata": {},
     "output_type": "display_data"
    },
    {
     "name": "stdout",
     "output_type": "stream",
     "text": [
      "bliss:115434658-115434\n",
      "guideseq:89440962-89440\n",
      "bliss:115434658-115434\n",
      "guideseq:115434658-115434\n"
     ]
    },
    {
     "data": {
      "text/plain": [
       "name                           VEGFA_site3\n",
       "sequence           TGTGGGTGAGTGTGTGCGTGAGG\n",
       "chrom                                 chr5\n",
       "chromStart                       115434658\n",
       "chromEnd                         115434681\n",
       "strand                                   +\n",
       "mismatch                                 2\n",
       "guide-seq_reads                       2200\n",
       "target_length                           23\n",
       "Name: 177, dtype: object"
      ]
     },
     "metadata": {},
     "output_type": "display_data"
    },
    {
     "name": "stdout",
     "output_type": "stream",
     "text": [
      "bliss:89440962-89440\n",
      "guideseq:89440962-89440\n"
     ]
    },
    {
     "data": {
      "text/plain": [
       "name                           VEGFA_site3\n",
       "sequence           AGAGAGTGAGTGTGTGCATGAGG\n",
       "chrom                                 chr5\n",
       "chromStart                        89440962\n",
       "chromEnd                          89440985\n",
       "strand                                   -\n",
       "mismatch                                 3\n",
       "guide-seq_reads                       2559\n",
       "target_length                           23\n",
       "Name: 175, dtype: object"
      ]
     },
     "metadata": {},
     "output_type": "display_data"
    },
    {
     "name": "stdout",
     "output_type": "stream",
     "text": [
      "bliss:74353479-74353\n",
      "guideseq:65569152-65569\n",
      "bliss:74353479-74353\n",
      "guideseq:62078766-62078\n",
      "bliss:74353479-74353\n",
      "guideseq:74353479-74353\n"
     ]
    },
    {
     "data": {
      "text/plain": [
       "name                           VEGFA_site3\n",
       "sequence           AGCGAGTGGGTGTGTGCGTGGGG\n",
       "chrom                                chr14\n",
       "chromStart                        74353479\n",
       "chromEnd                          74353502\n",
       "strand                                   +\n",
       "mismatch                                 3\n",
       "guide-seq_reads                        790\n",
       "target_length                           23\n",
       "Name: 184, dtype: object"
      ]
     },
     "metadata": {},
     "output_type": "display_data"
    },
    {
     "name": "stdout",
     "output_type": "stream",
     "text": [
      "bliss:23824547-23824\n",
      "guideseq:23824547-23824\n"
     ]
    },
    {
     "data": {
      "text/plain": [
       "name                           VEGFA_site3\n",
       "sequence           TGTGGGTGAGTGTGTGCGTGAGA\n",
       "chrom                                 chr9\n",
       "chromStart                        23824547\n",
       "chromEnd                          23824570\n",
       "strand                                   -\n",
       "mismatch                                 3\n",
       "guide-seq_reads                        643\n",
       "target_length                           23\n",
       "Name: 186, dtype: object"
      ]
     },
     "metadata": {},
     "output_type": "display_data"
    },
    {
     "name": "stdout",
     "output_type": "stream",
     "text": [
      "bliss:65569152-65569\n",
      "guideseq:65569152-65569\n"
     ]
    },
    {
     "data": {
      "text/plain": [
       "name                           VEGFA_site3\n",
       "sequence           AGTGAGTGAGTGTGTGTGTGGGG\n",
       "chrom                                chr14\n",
       "chromStart                        65569152\n",
       "chromEnd                          65569175\n",
       "strand                                   -\n",
       "mismatch                                 2\n",
       "guide-seq_reads                       3125\n",
       "target_length                           23\n",
       "Name: 174, dtype: object"
      ]
     },
     "metadata": {},
     "output_type": "display_data"
    },
    {
     "name": "stdout",
     "output_type": "stream",
     "text": [
      "bliss:106029014-106029\n",
      "guideseq:65569152-65569\n",
      "bliss:106029014-106029\n",
      "guideseq:62078766-62078\n",
      "bliss:106029014-106029\n",
      "guideseq:74353479-74353\n",
      "bliss:106029014-106029\n",
      "guideseq:106029014-106029\n"
     ]
    },
    {
     "data": {
      "text/plain": [
       "name                           VEGFA_site3\n",
       "sequence           GGTGAGTGAGTGTGTGTGTGAGG\n",
       "chrom                                chr14\n",
       "chromStart                       106029014\n",
       "chromEnd                         106029037\n",
       "strand                                   +\n",
       "mismatch                                 1\n",
       "guide-seq_reads                        199\n",
       "target_length                           23\n",
       "Name: 188, dtype: object"
      ]
     },
     "metadata": {},
     "output_type": "display_data"
    },
    {
     "name": "stdout",
     "output_type": "stream",
     "text": [
      "bliss:98760581-98760\n",
      "guideseq:98760581-98760\n"
     ]
    },
    {
     "data": {
      "text/plain": [
       "name                           VEGFA_site3\n",
       "sequence           GTTGAGTGAATGTGTGCGTGAGG\n",
       "chrom                                chr10\n",
       "chromStart                        98760581\n",
       "chromEnd                          98760604\n",
       "strand                                   -\n",
       "mismatch                                 2\n",
       "guide-seq_reads                       1437\n",
       "target_length                           23\n",
       "Name: 180, dtype: object"
      ]
     },
     "metadata": {},
     "output_type": "display_data"
    },
    {
     "name": "stdout",
     "output_type": "stream",
     "text": [
      "bliss:68851125-68851\n",
      "guideseq:68851125-68851\n"
     ]
    },
    {
     "data": {
      "text/plain": [
       "name                           VEGFA_site3\n",
       "sequence           GGTGAGTGAGTGTGTGCGGGTGG\n",
       "chrom                                chr11\n",
       "chromStart                        68851125\n",
       "chromEnd                          68851148\n",
       "strand                                   +\n",
       "mismatch                                 1\n",
       "guide-seq_reads                       1535\n",
       "target_length                           23\n",
       "Name: 179, dtype: object"
      ]
     },
     "metadata": {},
     "output_type": "display_data"
    },
    {
     "name": "stdout",
     "output_type": "stream",
     "text": [
      "bliss:193993877-193993\n",
      "guideseq:193993877-193993\n"
     ]
    },
    {
     "data": {
      "text/plain": [
       "name                           VEGFA_site3\n",
       "sequence           AGTGAATGAGTGTGTGTGTGTGG\n",
       "chrom                                 chr3\n",
       "chromStart                       193993877\n",
       "chromEnd                         193993900\n",
       "strand                                   -\n",
       "mismatch                                 3\n",
       "guide-seq_reads                       1315\n",
       "target_length                           23\n",
       "Name: 181, dtype: object"
      ]
     },
     "metadata": {},
     "output_type": "display_data"
    },
    {
     "name": "stdout",
     "output_type": "stream",
     "text": [
      "bliss:130228336-130228\n",
      "guideseq:98760581-98760\n",
      "bliss:130228336-130228\n",
      "guideseq:5749650-5749\n",
      "bliss:130228336-130228\n",
      "guideseq:130228336-130228\n"
     ]
    },
    {
     "data": {
      "text/plain": [
       "name                           VEGFA_site3\n",
       "sequence           AGGGAGTGACTGTGTGCGTGTGG\n",
       "chrom                                chr10\n",
       "chromStart                       130228336\n",
       "chromEnd                         130228359\n",
       "strand                                   +\n",
       "mismatch                                 3\n",
       "guide-seq_reads                         24\n",
       "target_length                           23\n",
       "Name: 210, dtype: object"
      ]
     },
     "metadata": {},
     "output_type": "display_data"
    },
    {
     "name": "stdout",
     "output_type": "stream",
     "text": [
      "bliss:50724387-50724\n",
      "guideseq:20178277-20178\n",
      "bliss:50724387-50724\n",
      "guideseq:50724387-50724\n"
     ]
    },
    {
     "data": {
      "text/plain": [
       "name                           VEGFA_site3\n",
       "sequence           CGTGAGTGAGTGTGTACCTGGGG\n",
       "chrom                                chr20\n",
       "chromStart                        50724387\n",
       "chromEnd                          50724410\n",
       "strand                                   +\n",
       "mismatch                                 3\n",
       "guide-seq_reads                         19\n",
       "target_length                           23\n",
       "Name: 213, dtype: object"
      ]
     },
     "metadata": {},
     "output_type": "display_data"
    },
    {
     "name": "stdout",
     "output_type": "stream",
     "text": [
      "bliss:177463419-177463\n",
      "guideseq:73317043-73317\n",
      "bliss:177463419-177463\n",
      "guideseq:177463419-177463\n"
     ]
    },
    {
     "data": {
      "text/plain": [
       "name                           VEGFA_site3\n",
       "sequence           GGTGAGTGTGTGTGTGCATGTGG\n",
       "chrom                                 chr2\n",
       "chromStart                       177463419\n",
       "chromEnd                         177463442\n",
       "strand                                   -\n",
       "mismatch                                 2\n",
       "guide-seq_reads                         33\n",
       "target_length                           23\n",
       "Name: 205, dtype: object"
      ]
     },
     "metadata": {},
     "output_type": "display_data"
    },
    {
     "name": "stdout",
     "output_type": "stream",
     "text": [
      "bliss:84032639-84032\n",
      "guideseq:80016313-80016\n",
      "bliss:84032639-84032\n",
      "guideseq:84032639-84032\n"
     ]
    },
    {
     "data": {
      "text/plain": [
       "name                           VEGFA_site3\n",
       "sequence           GGTGAATGAGTGTGTGCTCTGGG\n",
       "chrom                                chr16\n",
       "chromStart                        84032639\n",
       "chromEnd                          84032662\n",
       "strand                                   -\n",
       "mismatch                                 4\n",
       "guide-seq_reads                         26\n",
       "target_length                           23\n",
       "Name: 209, dtype: object"
      ]
     },
     "metadata": {},
     "output_type": "display_data"
    },
    {
     "name": "stdout",
     "output_type": "stream",
     "text": [
      "bliss:6109015-6109\n",
      "guideseq:40561860-40561\n",
      "bliss:6109015-6109\n",
      "guideseq:47732485-47732\n",
      "bliss:6109015-6109\n",
      "guideseq:1716774-1716\n",
      "bliss:6109015-6109\n",
      "guideseq:17594216-17594\n",
      "bliss:6109015-6109\n",
      "guideseq:6109015-6109\n"
     ]
    },
    {
     "data": {
      "text/plain": [
       "name                           VEGFA_site3\n",
       "sequence           TGTGAGTGAGTGTGTGTGTGTGA\n",
       "chrom                                chr19\n",
       "chromStart                         6109015\n",
       "chromEnd                           6109038\n",
       "strand                                   +\n",
       "mismatch                                 3\n",
       "guide-seq_reads                          6\n",
       "target_length                           23\n",
       "Name: 226, dtype: object"
      ]
     },
     "metadata": {},
     "output_type": "display_data"
    },
    {
     "name": "stdout",
     "output_type": "stream",
     "text": [
      "bliss:20178277-20178\n",
      "guideseq:20178277-20178\n"
     ]
    },
    {
     "data": {
      "text/plain": [
       "name                           VEGFA_site3\n",
       "sequence           AGTGTGTGAGTGTGTGCGTGTGG\n",
       "chrom                                chr20\n",
       "chromStart                        20178277\n",
       "chromEnd                          20178300\n",
       "strand                                   -\n",
       "mismatch                                 2\n",
       "guide-seq_reads                        686\n",
       "target_length                           23\n",
       "Name: 185, dtype: object"
      ]
     },
     "metadata": {},
     "output_type": "display_data"
    },
    {
     "name": "stdout",
     "output_type": "stream",
     "text": [
      "bliss:48997788-48997\n",
      "guideseq:22932496-22932\n",
      "bliss:48997788-48997\n",
      "guideseq:48997788-48997\n"
     ]
    },
    {
     "data": {
      "text/plain": [
       "name                           VEGFA_site3\n",
       "sequence           GTAGAGTGAGTGTGTGTGTGTGG\n",
       "chrom                                 chr8\n",
       "chromStart                        48997788\n",
       "chromEnd                          48997811\n",
       "strand                                   +\n",
       "mismatch                                 3\n",
       "guide-seq_reads                         82\n",
       "target_length                           23\n",
       "Name: 197, dtype: object"
      ]
     },
     "metadata": {},
     "output_type": "display_data"
    },
    {
     "name": "stdout",
     "output_type": "stream",
     "text": [
      "bliss:74103157-74103\n",
      "guideseq:74103157-74103\n"
     ]
    },
    {
     "data": {
      "text/plain": [
       "name                           VEGFA_site3\n",
       "sequence           GGTGAGTAAGTGTGAGCGTAAGG\n",
       "chrom                                chr18\n",
       "chromStart                        74103157\n",
       "chromEnd                          74103180\n",
       "strand                                   +\n",
       "mismatch                                 3\n",
       "guide-seq_reads                         33\n",
       "target_length                           23\n",
       "Name: 206, dtype: object"
      ]
     },
     "metadata": {},
     "output_type": "display_data"
    },
    {
     "name": "stdout",
     "output_type": "stream",
     "text": [
      "bliss:62078766-62078\n",
      "guideseq:65569152-65569\n",
      "bliss:62078766-62078\n",
      "guideseq:62078766-62078\n"
     ]
    },
    {
     "data": {
      "text/plain": [
       "name                           VEGFA_site3\n",
       "sequence           TGTGAGTAAGTGTGTGTGTGTGG\n",
       "chrom                                chr14\n",
       "chromStart                        62078766\n",
       "chromEnd                          62078789\n",
       "strand                                   -\n",
       "mismatch                                 3\n",
       "guide-seq_reads                       1170\n",
       "target_length                           23\n",
       "Name: 182, dtype: object"
      ]
     },
     "metadata": {},
     "output_type": "display_data"
    },
    {
     "name": "stdout",
     "output_type": "stream",
     "text": [
      "bliss:40561860-40561\n",
      "guideseq:40561860-40561\n"
     ]
    },
    {
     "data": {
      "text/plain": [
       "name                           VEGFA_site3\n",
       "sequence           ACTGTGTGAGTGTGTGCGTGAGG\n",
       "chrom                                chr19\n",
       "chromStart                        40561860\n",
       "chromEnd                          40561883\n",
       "strand                                   -\n",
       "mismatch                                 3\n",
       "guide-seq_reads                        796\n",
       "target_length                           23\n",
       "Name: 183, dtype: object"
      ]
     },
     "metadata": {},
     "output_type": "display_data"
    },
    {
     "name": "stdout",
     "output_type": "stream",
     "text": [
      "bliss:144458273-144458\n",
      "guideseq:43737453-43737\n",
      "bliss:144458273-144458\n",
      "guideseq:157078320-157078\n",
      "bliss:144458273-144458\n",
      "guideseq:144458273-144458\n"
     ]
    },
    {
     "data": {
      "text/plain": [
       "name                           VEGFA_site3\n",
       "sequence           AGGGAGTGAGTGTGAGAGTGCGG\n",
       "chrom                                 chr6\n",
       "chromStart                       144458273\n",
       "chromEnd                         144458296\n",
       "strand                                   +\n",
       "mismatch                                 4\n",
       "guide-seq_reads                          4\n",
       "target_length                           23\n",
       "Name: 229, dtype: object"
      ]
     },
     "metadata": {},
     "output_type": "display_data"
    },
    {
     "name": "stdout",
     "output_type": "stream",
     "text": [
      "bliss:22932496-22932\n",
      "guideseq:22932496-22932\n"
     ]
    },
    {
     "data": {
      "text/plain": [
       "name                           VEGFA_site3\n",
       "sequence           TGTGAGTGAGTGTGTGTGTGTGA\n",
       "chrom                                 chr8\n",
       "chromStart                        22932496\n",
       "chromEnd                          22932519\n",
       "strand                                   -\n",
       "mismatch                                 3\n",
       "guide-seq_reads                        111\n",
       "target_length                           23\n",
       "Name: 193, dtype: object"
      ]
     },
     "metadata": {},
     "output_type": "display_data"
    },
    {
     "name": "stdout",
     "output_type": "stream",
     "text": [
      "bliss:47732485-47732\n",
      "guideseq:40561860-40561\n",
      "bliss:47732485-47732\n",
      "guideseq:47732485-47732\n"
     ]
    },
    {
     "data": {
      "text/plain": [
       "name                           VEGFA_site3\n",
       "sequence           CTGGAGTGAGTGTGTGTGTGTGG\n",
       "chrom                                chr19\n",
       "chromStart                        47732485\n",
       "chromEnd                          47732508\n",
       "strand                                   -\n",
       "mismatch                                 4\n",
       "guide-seq_reads                        193\n",
       "target_length                           23\n",
       "Name: 189, dtype: object"
      ]
     },
     "metadata": {},
     "output_type": "display_data"
    },
    {
     "name": "stdout",
     "output_type": "stream",
     "text": [
      "bliss:79178505-79178\n",
      "guideseq:68851125-68851\n",
      "bliss:79178505-79178\n",
      "guideseq:79178505-79178\n"
     ]
    },
    {
     "data": {
      "text/plain": [
       "name                           VEGFA_site3\n",
       "sequence           AGTGAGTGAGTGAGTGAGTGGGG\n",
       "chrom                                chr11\n",
       "chromStart                        79178505\n",
       "chromEnd                          79178528\n",
       "strand                                   +\n",
       "mismatch                                 3\n",
       "guide-seq_reads                         32\n",
       "target_length                           23\n",
       "Name: 207, dtype: object"
      ]
     },
     "metadata": {},
     "output_type": "display_data"
    },
    {
     "name": "stdout",
     "output_type": "stream",
     "text": [
      "bliss:230506234-230506\n",
      "guideseq:73317043-73317\n",
      "bliss:230506234-230506\n",
      "guideseq:177463419-177463\n",
      "bliss:230506234-230506\n",
      "guideseq:230506234-230506\n"
     ]
    },
    {
     "data": {
      "text/plain": [
       "name                           VEGFA_site3\n",
       "sequence           GGTGAGCAAGTGTGTGTGTGTGG\n",
       "chrom                                 chr2\n",
       "chromStart                       230506234\n",
       "chromEnd                         230506257\n",
       "strand                                   -\n",
       "mismatch                                 3\n",
       "guide-seq_reads                         20\n",
       "target_length                           23\n",
       "Name: 212, dtype: object"
      ]
     },
     "metadata": {},
     "output_type": "display_data"
    },
    {
     "name": "stdout",
     "output_type": "stream",
     "text": [
      "bliss:71632802-71632\n",
      "guideseq:193993877-193993\n",
      "bliss:71632802-71632\n",
      "guideseq:71632802-71632\n"
     ]
    },
    {
     "data": {
      "text/plain": [
       "name                           VEGFA_site3\n",
       "sequence           CGCGAGTGAGTGTGTGCGCGGGG\n",
       "chrom                                 chr3\n",
       "chromStart                        71632802\n",
       "chromEnd                          71632825\n",
       "strand                                   -\n",
       "mismatch                                 3\n",
       "guide-seq_reads                        215\n",
       "target_length                           23\n",
       "Name: 187, dtype: object"
      ]
     },
     "metadata": {},
     "output_type": "display_data"
    },
    {
     "name": "stdout",
     "output_type": "stream",
     "text": [
      "bliss:157078320-157078\n",
      "guideseq:43737453-43737\n",
      "bliss:157078320-157078\n",
      "guideseq:157078320-157078\n"
     ]
    },
    {
     "data": {
      "text/plain": [
       "name                           VEGFA_site3\n",
       "sequence           GATGAGTGAGTGAGTGAGTGGGG\n",
       "chrom                                 chr6\n",
       "chromStart                       157078320\n",
       "chromEnd                         157078343\n",
       "strand                                   -\n",
       "mismatch                                 3\n",
       "guide-seq_reads                         37\n",
       "target_length                           23\n",
       "Name: 202, dtype: object"
      ]
     },
     "metadata": {},
     "output_type": "display_data"
    },
    {
     "name": "stdout",
     "output_type": "stream",
     "text": [
      "bliss:47690887-47690\n",
      "guideseq:48305031-48305\n",
      "bliss:47690887-47690\n",
      "guideseq:181557186-181557\n",
      "bliss:47690887-47690\n",
      "guideseq:32738746-32738\n",
      "bliss:47690887-47690\n",
      "guideseq:47690887-47690\n"
     ]
    },
    {
     "data": {
      "text/plain": [
       "name                           VEGFA_site3\n",
       "sequence           TGTGAGAGAGAGTGTGCGTGTGG\n",
       "chrom                                 chr1\n",
       "chromStart                        47690887\n",
       "chromEnd                          47690910\n",
       "strand                                   -\n",
       "mismatch                                 3\n",
       "guide-seq_reads                          3\n",
       "target_length                           23\n",
       "Name: 233, dtype: object"
      ]
     },
     "metadata": {},
     "output_type": "display_data"
    },
    {
     "name": "stdout",
     "output_type": "stream",
     "text": [
      "bliss:1716774-1716\n",
      "guideseq:40561860-40561\n",
      "bliss:1716774-1716\n",
      "guideseq:47732485-47732\n",
      "bliss:1716774-1716\n",
      "guideseq:1716774-1716\n"
     ]
    },
    {
     "data": {
      "text/plain": [
       "name                           VEGFA_site3\n",
       "sequence           CATGAGTGAGTGTGTGGGTGGGG\n",
       "chrom                                chr19\n",
       "chromStart                         1716774\n",
       "chromEnd                           1716797\n",
       "strand                                   +\n",
       "mismatch                                 3\n",
       "guide-seq_reads                         45\n",
       "target_length                           23\n",
       "Name: 200, dtype: object"
      ]
     },
     "metadata": {},
     "output_type": "display_data"
    },
    {
     "name": "stdout",
     "output_type": "stream",
     "text": [
      "bliss:12264595-12264\n",
      "guideseq:80016313-80016\n",
      "bliss:12264595-12264\n",
      "guideseq:84032639-84032\n",
      "bliss:12264595-12264\n",
      "guideseq:73585908-73585\n",
      "bliss:12264595-12264\n",
      "guideseq:74898113-74898\n",
      "bliss:12264595-12264\n",
      "guideseq:12264595-12264\n"
     ]
    },
    {
     "data": {
      "text/plain": [
       "name                           VEGFA_site3\n",
       "sequence           AGTGAGTGAGTGTGTGTGTGTGA\n",
       "chrom                                chr16\n",
       "chromStart                        12264595\n",
       "chromEnd                          12264618\n",
       "strand                                   +\n",
       "mismatch                                 3\n",
       "guide-seq_reads                          6\n",
       "target_length                           23\n",
       "Name: 225, dtype: object"
      ]
     },
     "metadata": {},
     "output_type": "display_data"
    },
    {
     "name": "stdout",
     "output_type": "stream",
     "text": [
      "bliss:18696207-18696\n",
      "guideseq:73317043-73317\n",
      "bliss:18696207-18696\n",
      "guideseq:177463419-177463\n",
      "bliss:18696207-18696\n",
      "guideseq:230506234-230506\n",
      "bliss:18696207-18696\n",
      "guideseq:18696207-18696\n"
     ]
    },
    {
     "data": {
      "text/plain": [
       "name                           VEGFA_site3\n",
       "sequence           AGTGAGAAAGTGTGTGCATGCGG\n",
       "chrom                                 chr2\n",
       "chromStart                        18696207\n",
       "chromEnd                          18696230\n",
       "strand                                   +\n",
       "mismatch                                 4\n",
       "guide-seq_reads                          9\n",
       "target_length                           23\n",
       "Name: 223, dtype: object"
      ]
     },
     "metadata": {},
     "output_type": "display_data"
    },
    {
     "name": "stdout",
     "output_type": "stream",
     "text": [
      "bliss:73160981-73160\n",
      "guideseq:73160981-73160\n"
     ]
    },
    {
     "data": {
      "text/plain": [
       "name                                  EMX1\n",
       "sequence           GAGTCCGAGCAGAAGAAGAAGGG\n",
       "chrom                                 chr2\n",
       "chromStart                        73160981\n",
       "chromEnd                          73161004\n",
       "strand                                   +\n",
       "mismatch                                 0\n",
       "guide-seq_reads                       4521\n",
       "target_length                           23\n",
       "Name: 234, dtype: object"
      ]
     },
     "metadata": {},
     "output_type": "display_data"
    },
    {
     "name": "stdout",
     "output_type": "stream",
     "text": [
      "bliss:45359060-45359\n",
      "guideseq:45359060-45359\n"
     ]
    },
    {
     "data": {
      "text/plain": [
       "name                                  EMX1\n",
       "sequence           GAGTTAGAGCAGAAGAAGAAAGG\n",
       "chrom                                 chr5\n",
       "chromStart                        45359060\n",
       "chromEnd                          45359083\n",
       "strand                                   -\n",
       "mismatch                                 2\n",
       "guide-seq_reads                       3123\n",
       "target_length                           23\n",
       "Name: 235, dtype: object"
      ]
     },
     "metadata": {},
     "output_type": "display_data"
    },
    {
     "name": "stdout",
     "output_type": "stream",
     "text": [
      "bliss:44109746-44109\n",
      "guideseq:44109746-44109\n"
     ]
    },
    {
     "data": {
      "text/plain": [
       "name                                  EMX1\n",
       "sequence           GAGTCTAAGCAGAAGAAGAAGAG\n",
       "chrom                                chr15\n",
       "chromStart                        44109746\n",
       "chromEnd                          44109769\n",
       "strand                                   +\n",
       "mismatch                                 3\n",
       "guide-seq_reads                       1445\n",
       "target_length                           23\n",
       "Name: 236, dtype: object"
      ]
     },
     "metadata": {},
     "output_type": "display_data"
    },
    {
     "name": "stdout",
     "output_type": "stream",
     "text": [
      "bliss:128801241-128801\n",
      "guideseq:128801241-128801\n"
     ]
    },
    {
     "data": {
      "text/plain": [
       "name                                  EMX1\n",
       "sequence           GAGTCCTAGCAGGAGAAGAAGAG\n",
       "chrom                                 chr8\n",
       "chromStart                       128801241\n",
       "chromEnd                         128801264\n",
       "strand                                   +\n",
       "mismatch                                 3\n",
       "guide-seq_reads                        390\n",
       "target_length                           23\n",
       "Name: 238, dtype: object"
      ]
     },
     "metadata": {},
     "output_type": "display_data"
    },
    {
     "name": "stdout",
     "output_type": "stream",
     "text": [
      "bliss:219845055-219845\n",
      "guideseq:73160981-73160\n",
      "bliss:219845055-219845\n",
      "guideseq:219845055-219845\n"
     ]
    },
    {
     "data": {
      "text/plain": [
       "name                                  EMX1\n",
       "sequence           GAGGCCGAGCAGAAGAAAGACGG\n",
       "chrom                                 chr2\n",
       "chromStart                       219845055\n",
       "chromEnd                         219845078\n",
       "strand                                   +\n",
       "mismatch                                 3\n",
       "guide-seq_reads                        700\n",
       "target_length                           23\n",
       "Name: 237, dtype: object"
      ]
     },
     "metadata": {},
     "output_type": "display_data"
    },
    {
     "name": "stdout",
     "output_type": "stream",
     "text": [
      "bliss:9227145-9227\n",
      "guideseq:45359060-45359\n",
      "bliss:9227145-9227\n",
      "guideseq:9227145-9227\n"
     ]
    },
    {
     "data": {
      "text/plain": [
       "name                                  EMX1\n",
       "sequence           AAGTCTGAGCACAAGAAGAATGG\n",
       "chrom                                 chr5\n",
       "chromStart                         9227145\n",
       "chromEnd                           9227168\n",
       "strand                                   +\n",
       "mismatch                                 3\n",
       "guide-seq_reads                        258\n",
       "target_length                           23\n",
       "Name: 239, dtype: object"
      ]
     },
     "metadata": {},
     "output_type": "display_data"
    },
    {
     "name": "stdout",
     "output_type": "stream",
     "text": [
      "bliss:9118792-9118\n",
      "guideseq:9118792-9118\n"
     ]
    },
    {
     "data": {
      "text/plain": [
       "name                                  EMX1\n",
       "sequence           ACGTCTGAGCAGAAGAAGAATGG\n",
       "chrom                                 chr6\n",
       "chromStart                         9118792\n",
       "chromEnd                           9118815\n",
       "strand                                   -\n",
       "mismatch                                 3\n",
       "guide-seq_reads                         38\n",
       "target_length                           23\n",
       "Name: 244, dtype: object"
      ]
     },
     "metadata": {},
     "output_type": "display_data"
    },
    {
     "name": "stdout",
     "output_type": "stream",
     "text": [
      "bliss:23720611-23720\n",
      "guideseq:23720611-23720\n"
     ]
    },
    {
     "data": {
      "text/plain": [
       "name                                  EMX1\n",
       "sequence           AAGTCCGAGGAGAGGAAGAAAGG\n",
       "chrom                                 chr1\n",
       "chromStart                        23720611\n",
       "chromEnd                          23720634\n",
       "strand                                   -\n",
       "mismatch                                 3\n",
       "guide-seq_reads                        102\n",
       "target_length                           23\n",
       "Name: 242, dtype: object"
      ]
     },
     "metadata": {},
     "output_type": "display_data"
    },
    {
     "name": "stdout",
     "output_type": "stream",
     "text": [
      "bliss:100292461-100292\n",
      "guideseq:44109746-44109\n",
      "bliss:100292461-100292\n",
      "guideseq:100292461-100292\n"
     ]
    },
    {
     "data": {
      "text/plain": [
       "name                                  EMX1\n",
       "sequence           AAGTCCCGGCAGAGGAAGAAGGG\n",
       "chrom                                chr15\n",
       "chromStart                       100292461\n",
       "chromEnd                         100292484\n",
       "strand                                   +\n",
       "mismatch                                 4\n",
       "guide-seq_reads                          6\n",
       "target_length                           23\n",
       "Name: 246, dtype: object"
      ]
     },
     "metadata": {},
     "output_type": "display_data"
    },
    {
     "name": "stdout",
     "output_type": "stream",
     "text": [
      "bliss:43737453-43737\n",
      "guideseq:43737453-43737\n"
     ]
    },
    {
     "data": {
      "text/plain": [
       "name                           VEGFA_site3\n",
       "sequence           GGTGAGTGAGTGTGTGCGTGTGG\n",
       "chrom                                 chr6\n",
       "chromStart                        43737453\n",
       "chromEnd                          43737476\n",
       "strand                                   +\n",
       "mismatch                                 0\n",
       "guide-seq_reads                       2440\n",
       "target_length                           23\n",
       "Name: 176, dtype: object"
      ]
     },
     "metadata": {},
     "output_type": "display_data"
    },
    {
     "name": "stdout",
     "output_type": "stream",
     "text": [
      "bliss:115434658-115434\n",
      "guideseq:89440962-89440\n",
      "bliss:115434658-115434\n",
      "guideseq:115434658-115434\n"
     ]
    },
    {
     "data": {
      "text/plain": [
       "name                           VEGFA_site3\n",
       "sequence           TGTGGGTGAGTGTGTGCGTGAGG\n",
       "chrom                                 chr5\n",
       "chromStart                       115434658\n",
       "chromEnd                         115434681\n",
       "strand                                   +\n",
       "mismatch                                 2\n",
       "guide-seq_reads                       2200\n",
       "target_length                           23\n",
       "Name: 177, dtype: object"
      ]
     },
     "metadata": {},
     "output_type": "display_data"
    },
    {
     "name": "stdout",
     "output_type": "stream",
     "text": [
      "bliss:89440962-89440\n",
      "guideseq:89440962-89440\n"
     ]
    },
    {
     "data": {
      "text/plain": [
       "name                           VEGFA_site3\n",
       "sequence           AGAGAGTGAGTGTGTGCATGAGG\n",
       "chrom                                 chr5\n",
       "chromStart                        89440962\n",
       "chromEnd                          89440985\n",
       "strand                                   -\n",
       "mismatch                                 3\n",
       "guide-seq_reads                       2559\n",
       "target_length                           23\n",
       "Name: 175, dtype: object"
      ]
     },
     "metadata": {},
     "output_type": "display_data"
    },
    {
     "name": "stdout",
     "output_type": "stream",
     "text": [
      "bliss:74353479-74353\n",
      "guideseq:65569152-65569\n",
      "bliss:74353479-74353\n",
      "guideseq:62078766-62078\n",
      "bliss:74353479-74353\n",
      "guideseq:74353479-74353\n"
     ]
    },
    {
     "data": {
      "text/plain": [
       "name                           VEGFA_site3\n",
       "sequence           AGCGAGTGGGTGTGTGCGTGGGG\n",
       "chrom                                chr14\n",
       "chromStart                        74353479\n",
       "chromEnd                          74353502\n",
       "strand                                   +\n",
       "mismatch                                 3\n",
       "guide-seq_reads                        790\n",
       "target_length                           23\n",
       "Name: 184, dtype: object"
      ]
     },
     "metadata": {},
     "output_type": "display_data"
    },
    {
     "name": "stdout",
     "output_type": "stream",
     "text": [
      "bliss:23824547-23824\n",
      "guideseq:23824547-23824\n"
     ]
    },
    {
     "data": {
      "text/plain": [
       "name                           VEGFA_site3\n",
       "sequence           TGTGGGTGAGTGTGTGCGTGAGA\n",
       "chrom                                 chr9\n",
       "chromStart                        23824547\n",
       "chromEnd                          23824570\n",
       "strand                                   -\n",
       "mismatch                                 3\n",
       "guide-seq_reads                        643\n",
       "target_length                           23\n",
       "Name: 186, dtype: object"
      ]
     },
     "metadata": {},
     "output_type": "display_data"
    },
    {
     "name": "stdout",
     "output_type": "stream",
     "text": [
      "bliss:65569152-65569\n",
      "guideseq:65569152-65569\n"
     ]
    },
    {
     "data": {
      "text/plain": [
       "name                           VEGFA_site3\n",
       "sequence           AGTGAGTGAGTGTGTGTGTGGGG\n",
       "chrom                                chr14\n",
       "chromStart                        65569152\n",
       "chromEnd                          65569175\n",
       "strand                                   -\n",
       "mismatch                                 2\n",
       "guide-seq_reads                       3125\n",
       "target_length                           23\n",
       "Name: 174, dtype: object"
      ]
     },
     "metadata": {},
     "output_type": "display_data"
    },
    {
     "name": "stdout",
     "output_type": "stream",
     "text": [
      "bliss:106029014-106029\n",
      "guideseq:65569152-65569\n",
      "bliss:106029014-106029\n",
      "guideseq:62078766-62078\n",
      "bliss:106029014-106029\n",
      "guideseq:74353479-74353\n",
      "bliss:106029014-106029\n",
      "guideseq:106029014-106029\n"
     ]
    },
    {
     "data": {
      "text/plain": [
       "name                           VEGFA_site3\n",
       "sequence           GGTGAGTGAGTGTGTGTGTGAGG\n",
       "chrom                                chr14\n",
       "chromStart                       106029014\n",
       "chromEnd                         106029037\n",
       "strand                                   +\n",
       "mismatch                                 1\n",
       "guide-seq_reads                        199\n",
       "target_length                           23\n",
       "Name: 188, dtype: object"
      ]
     },
     "metadata": {},
     "output_type": "display_data"
    },
    {
     "name": "stdout",
     "output_type": "stream",
     "text": [
      "bliss:98760581-98760\n",
      "guideseq:98760581-98760\n"
     ]
    },
    {
     "data": {
      "text/plain": [
       "name                           VEGFA_site3\n",
       "sequence           GTTGAGTGAATGTGTGCGTGAGG\n",
       "chrom                                chr10\n",
       "chromStart                        98760581\n",
       "chromEnd                          98760604\n",
       "strand                                   -\n",
       "mismatch                                 2\n",
       "guide-seq_reads                       1437\n",
       "target_length                           23\n",
       "Name: 180, dtype: object"
      ]
     },
     "metadata": {},
     "output_type": "display_data"
    },
    {
     "name": "stdout",
     "output_type": "stream",
     "text": [
      "bliss:68851125-68851\n",
      "guideseq:68851125-68851\n"
     ]
    },
    {
     "data": {
      "text/plain": [
       "name                           VEGFA_site3\n",
       "sequence           GGTGAGTGAGTGTGTGCGGGTGG\n",
       "chrom                                chr11\n",
       "chromStart                        68851125\n",
       "chromEnd                          68851148\n",
       "strand                                   +\n",
       "mismatch                                 1\n",
       "guide-seq_reads                       1535\n",
       "target_length                           23\n",
       "Name: 179, dtype: object"
      ]
     },
     "metadata": {},
     "output_type": "display_data"
    },
    {
     "name": "stdout",
     "output_type": "stream",
     "text": [
      "bliss:193993877-193993\n",
      "guideseq:193993877-193993\n"
     ]
    },
    {
     "data": {
      "text/plain": [
       "name                           VEGFA_site3\n",
       "sequence           AGTGAATGAGTGTGTGTGTGTGG\n",
       "chrom                                 chr3\n",
       "chromStart                       193993877\n",
       "chromEnd                         193993900\n",
       "strand                                   -\n",
       "mismatch                                 3\n",
       "guide-seq_reads                       1315\n",
       "target_length                           23\n",
       "Name: 181, dtype: object"
      ]
     },
     "metadata": {},
     "output_type": "display_data"
    },
    {
     "name": "stdout",
     "output_type": "stream",
     "text": [
      "bliss:130228336-130228\n",
      "guideseq:98760581-98760\n",
      "bliss:130228336-130228\n",
      "guideseq:5749650-5749\n",
      "bliss:130228336-130228\n",
      "guideseq:130228336-130228\n"
     ]
    },
    {
     "data": {
      "text/plain": [
       "name                           VEGFA_site3\n",
       "sequence           AGGGAGTGACTGTGTGCGTGTGG\n",
       "chrom                                chr10\n",
       "chromStart                       130228336\n",
       "chromEnd                         130228359\n",
       "strand                                   +\n",
       "mismatch                                 3\n",
       "guide-seq_reads                         24\n",
       "target_length                           23\n",
       "Name: 210, dtype: object"
      ]
     },
     "metadata": {},
     "output_type": "display_data"
    },
    {
     "name": "stdout",
     "output_type": "stream",
     "text": [
      "bliss:50724387-50724\n",
      "guideseq:20178277-20178\n",
      "bliss:50724387-50724\n",
      "guideseq:50724387-50724\n"
     ]
    },
    {
     "data": {
      "text/plain": [
       "name                           VEGFA_site3\n",
       "sequence           CGTGAGTGAGTGTGTACCTGGGG\n",
       "chrom                                chr20\n",
       "chromStart                        50724387\n",
       "chromEnd                          50724410\n",
       "strand                                   +\n",
       "mismatch                                 3\n",
       "guide-seq_reads                         19\n",
       "target_length                           23\n",
       "Name: 213, dtype: object"
      ]
     },
     "metadata": {},
     "output_type": "display_data"
    },
    {
     "name": "stdout",
     "output_type": "stream",
     "text": [
      "bliss:177463419-177463\n",
      "guideseq:73317043-73317\n",
      "bliss:177463419-177463\n",
      "guideseq:177463419-177463\n"
     ]
    },
    {
     "data": {
      "text/plain": [
       "name                           VEGFA_site3\n",
       "sequence           GGTGAGTGTGTGTGTGCATGTGG\n",
       "chrom                                 chr2\n",
       "chromStart                       177463419\n",
       "chromEnd                         177463442\n",
       "strand                                   -\n",
       "mismatch                                 2\n",
       "guide-seq_reads                         33\n",
       "target_length                           23\n",
       "Name: 205, dtype: object"
      ]
     },
     "metadata": {},
     "output_type": "display_data"
    },
    {
     "name": "stdout",
     "output_type": "stream",
     "text": [
      "bliss:84032639-84032\n",
      "guideseq:80016313-80016\n",
      "bliss:84032639-84032\n",
      "guideseq:84032639-84032\n"
     ]
    },
    {
     "data": {
      "text/plain": [
       "name                           VEGFA_site3\n",
       "sequence           GGTGAATGAGTGTGTGCTCTGGG\n",
       "chrom                                chr16\n",
       "chromStart                        84032639\n",
       "chromEnd                          84032662\n",
       "strand                                   -\n",
       "mismatch                                 4\n",
       "guide-seq_reads                         26\n",
       "target_length                           23\n",
       "Name: 209, dtype: object"
      ]
     },
     "metadata": {},
     "output_type": "display_data"
    },
    {
     "name": "stdout",
     "output_type": "stream",
     "text": [
      "bliss:6109015-6109\n",
      "guideseq:40561860-40561\n",
      "bliss:6109015-6109\n",
      "guideseq:47732485-47732\n",
      "bliss:6109015-6109\n",
      "guideseq:1716774-1716\n",
      "bliss:6109015-6109\n",
      "guideseq:17594216-17594\n",
      "bliss:6109015-6109\n",
      "guideseq:6109015-6109\n"
     ]
    },
    {
     "data": {
      "text/plain": [
       "name                           VEGFA_site3\n",
       "sequence           TGTGAGTGAGTGTGTGTGTGTGA\n",
       "chrom                                chr19\n",
       "chromStart                         6109015\n",
       "chromEnd                           6109038\n",
       "strand                                   +\n",
       "mismatch                                 3\n",
       "guide-seq_reads                          6\n",
       "target_length                           23\n",
       "Name: 226, dtype: object"
      ]
     },
     "metadata": {},
     "output_type": "display_data"
    },
    {
     "name": "stdout",
     "output_type": "stream",
     "text": [
      "bliss:20178277-20178\n",
      "guideseq:20178277-20178\n"
     ]
    },
    {
     "data": {
      "text/plain": [
       "name                           VEGFA_site3\n",
       "sequence           AGTGTGTGAGTGTGTGCGTGTGG\n",
       "chrom                                chr20\n",
       "chromStart                        20178277\n",
       "chromEnd                          20178300\n",
       "strand                                   -\n",
       "mismatch                                 2\n",
       "guide-seq_reads                        686\n",
       "target_length                           23\n",
       "Name: 185, dtype: object"
      ]
     },
     "metadata": {},
     "output_type": "display_data"
    },
    {
     "name": "stdout",
     "output_type": "stream",
     "text": [
      "bliss:48997788-48997\n",
      "guideseq:22932496-22932\n",
      "bliss:48997788-48997\n",
      "guideseq:48997788-48997\n"
     ]
    },
    {
     "data": {
      "text/plain": [
       "name                           VEGFA_site3\n",
       "sequence           GTAGAGTGAGTGTGTGTGTGTGG\n",
       "chrom                                 chr8\n",
       "chromStart                        48997788\n",
       "chromEnd                          48997811\n",
       "strand                                   +\n",
       "mismatch                                 3\n",
       "guide-seq_reads                         82\n",
       "target_length                           23\n",
       "Name: 197, dtype: object"
      ]
     },
     "metadata": {},
     "output_type": "display_data"
    },
    {
     "name": "stdout",
     "output_type": "stream",
     "text": [
      "bliss:74103157-74103\n",
      "guideseq:74103157-74103\n"
     ]
    },
    {
     "data": {
      "text/plain": [
       "name                           VEGFA_site3\n",
       "sequence           GGTGAGTAAGTGTGAGCGTAAGG\n",
       "chrom                                chr18\n",
       "chromStart                        74103157\n",
       "chromEnd                          74103180\n",
       "strand                                   +\n",
       "mismatch                                 3\n",
       "guide-seq_reads                         33\n",
       "target_length                           23\n",
       "Name: 206, dtype: object"
      ]
     },
     "metadata": {},
     "output_type": "display_data"
    },
    {
     "name": "stdout",
     "output_type": "stream",
     "text": [
      "bliss:62078766-62078\n",
      "guideseq:65569152-65569\n",
      "bliss:62078766-62078\n",
      "guideseq:62078766-62078\n"
     ]
    },
    {
     "data": {
      "text/plain": [
       "name                           VEGFA_site3\n",
       "sequence           TGTGAGTAAGTGTGTGTGTGTGG\n",
       "chrom                                chr14\n",
       "chromStart                        62078766\n",
       "chromEnd                          62078789\n",
       "strand                                   -\n",
       "mismatch                                 3\n",
       "guide-seq_reads                       1170\n",
       "target_length                           23\n",
       "Name: 182, dtype: object"
      ]
     },
     "metadata": {},
     "output_type": "display_data"
    },
    {
     "name": "stdout",
     "output_type": "stream",
     "text": [
      "bliss:40561860-40561\n",
      "guideseq:40561860-40561\n"
     ]
    },
    {
     "data": {
      "text/plain": [
       "name                           VEGFA_site3\n",
       "sequence           ACTGTGTGAGTGTGTGCGTGAGG\n",
       "chrom                                chr19\n",
       "chromStart                        40561860\n",
       "chromEnd                          40561883\n",
       "strand                                   -\n",
       "mismatch                                 3\n",
       "guide-seq_reads                        796\n",
       "target_length                           23\n",
       "Name: 183, dtype: object"
      ]
     },
     "metadata": {},
     "output_type": "display_data"
    },
    {
     "name": "stdout",
     "output_type": "stream",
     "text": [
      "bliss:144458273-144458\n",
      "guideseq:43737453-43737\n",
      "bliss:144458273-144458\n",
      "guideseq:157078320-157078\n",
      "bliss:144458273-144458\n",
      "guideseq:144458273-144458\n"
     ]
    },
    {
     "data": {
      "text/plain": [
       "name                           VEGFA_site3\n",
       "sequence           AGGGAGTGAGTGTGAGAGTGCGG\n",
       "chrom                                 chr6\n",
       "chromStart                       144458273\n",
       "chromEnd                         144458296\n",
       "strand                                   +\n",
       "mismatch                                 4\n",
       "guide-seq_reads                          4\n",
       "target_length                           23\n",
       "Name: 229, dtype: object"
      ]
     },
     "metadata": {},
     "output_type": "display_data"
    },
    {
     "name": "stdout",
     "output_type": "stream",
     "text": [
      "bliss:22932496-22932\n",
      "guideseq:22932496-22932\n"
     ]
    },
    {
     "data": {
      "text/plain": [
       "name                           VEGFA_site3\n",
       "sequence           TGTGAGTGAGTGTGTGTGTGTGA\n",
       "chrom                                 chr8\n",
       "chromStart                        22932496\n",
       "chromEnd                          22932519\n",
       "strand                                   -\n",
       "mismatch                                 3\n",
       "guide-seq_reads                        111\n",
       "target_length                           23\n",
       "Name: 193, dtype: object"
      ]
     },
     "metadata": {},
     "output_type": "display_data"
    },
    {
     "name": "stdout",
     "output_type": "stream",
     "text": [
      "bliss:47732485-47732\n",
      "guideseq:40561860-40561\n",
      "bliss:47732485-47732\n",
      "guideseq:47732485-47732\n"
     ]
    },
    {
     "data": {
      "text/plain": [
       "name                           VEGFA_site3\n",
       "sequence           CTGGAGTGAGTGTGTGTGTGTGG\n",
       "chrom                                chr19\n",
       "chromStart                        47732485\n",
       "chromEnd                          47732508\n",
       "strand                                   -\n",
       "mismatch                                 4\n",
       "guide-seq_reads                        193\n",
       "target_length                           23\n",
       "Name: 189, dtype: object"
      ]
     },
     "metadata": {},
     "output_type": "display_data"
    },
    {
     "name": "stdout",
     "output_type": "stream",
     "text": [
      "bliss:79178505-79178\n",
      "guideseq:68851125-68851\n",
      "bliss:79178505-79178\n",
      "guideseq:79178505-79178\n"
     ]
    },
    {
     "data": {
      "text/plain": [
       "name                           VEGFA_site3\n",
       "sequence           AGTGAGTGAGTGAGTGAGTGGGG\n",
       "chrom                                chr11\n",
       "chromStart                        79178505\n",
       "chromEnd                          79178528\n",
       "strand                                   +\n",
       "mismatch                                 3\n",
       "guide-seq_reads                         32\n",
       "target_length                           23\n",
       "Name: 207, dtype: object"
      ]
     },
     "metadata": {},
     "output_type": "display_data"
    },
    {
     "name": "stdout",
     "output_type": "stream",
     "text": [
      "bliss:230506234-230506\n",
      "guideseq:73317043-73317\n",
      "bliss:230506234-230506\n",
      "guideseq:177463419-177463\n",
      "bliss:230506234-230506\n",
      "guideseq:230506234-230506\n"
     ]
    },
    {
     "data": {
      "text/plain": [
       "name                           VEGFA_site3\n",
       "sequence           GGTGAGCAAGTGTGTGTGTGTGG\n",
       "chrom                                 chr2\n",
       "chromStart                       230506234\n",
       "chromEnd                         230506257\n",
       "strand                                   -\n",
       "mismatch                                 3\n",
       "guide-seq_reads                         20\n",
       "target_length                           23\n",
       "Name: 212, dtype: object"
      ]
     },
     "metadata": {},
     "output_type": "display_data"
    },
    {
     "name": "stdout",
     "output_type": "stream",
     "text": [
      "bliss:71632802-71632\n",
      "guideseq:193993877-193993\n",
      "bliss:71632802-71632\n",
      "guideseq:71632802-71632\n"
     ]
    },
    {
     "data": {
      "text/plain": [
       "name                           VEGFA_site3\n",
       "sequence           CGCGAGTGAGTGTGTGCGCGGGG\n",
       "chrom                                 chr3\n",
       "chromStart                        71632802\n",
       "chromEnd                          71632825\n",
       "strand                                   -\n",
       "mismatch                                 3\n",
       "guide-seq_reads                        215\n",
       "target_length                           23\n",
       "Name: 187, dtype: object"
      ]
     },
     "metadata": {},
     "output_type": "display_data"
    },
    {
     "name": "stdout",
     "output_type": "stream",
     "text": [
      "bliss:157078320-157078\n",
      "guideseq:43737453-43737\n",
      "bliss:157078320-157078\n",
      "guideseq:157078320-157078\n"
     ]
    },
    {
     "data": {
      "text/plain": [
       "name                           VEGFA_site3\n",
       "sequence           GATGAGTGAGTGAGTGAGTGGGG\n",
       "chrom                                 chr6\n",
       "chromStart                       157078320\n",
       "chromEnd                         157078343\n",
       "strand                                   -\n",
       "mismatch                                 3\n",
       "guide-seq_reads                         37\n",
       "target_length                           23\n",
       "Name: 202, dtype: object"
      ]
     },
     "metadata": {},
     "output_type": "display_data"
    },
    {
     "name": "stdout",
     "output_type": "stream",
     "text": [
      "bliss:47690887-47690\n",
      "guideseq:48305031-48305\n",
      "bliss:47690887-47690\n",
      "guideseq:181557186-181557\n",
      "bliss:47690887-47690\n",
      "guideseq:32738746-32738\n",
      "bliss:47690887-47690\n",
      "guideseq:47690887-47690\n"
     ]
    },
    {
     "data": {
      "text/plain": [
       "name                           VEGFA_site3\n",
       "sequence           TGTGAGAGAGAGTGTGCGTGTGG\n",
       "chrom                                 chr1\n",
       "chromStart                        47690887\n",
       "chromEnd                          47690910\n",
       "strand                                   -\n",
       "mismatch                                 3\n",
       "guide-seq_reads                          3\n",
       "target_length                           23\n",
       "Name: 233, dtype: object"
      ]
     },
     "metadata": {},
     "output_type": "display_data"
    },
    {
     "name": "stdout",
     "output_type": "stream",
     "text": [
      "bliss:1716774-1716\n",
      "guideseq:40561860-40561\n",
      "bliss:1716774-1716\n",
      "guideseq:47732485-47732\n",
      "bliss:1716774-1716\n",
      "guideseq:1716774-1716\n"
     ]
    },
    {
     "data": {
      "text/plain": [
       "name                           VEGFA_site3\n",
       "sequence           CATGAGTGAGTGTGTGGGTGGGG\n",
       "chrom                                chr19\n",
       "chromStart                         1716774\n",
       "chromEnd                           1716797\n",
       "strand                                   +\n",
       "mismatch                                 3\n",
       "guide-seq_reads                         45\n",
       "target_length                           23\n",
       "Name: 200, dtype: object"
      ]
     },
     "metadata": {},
     "output_type": "display_data"
    },
    {
     "name": "stdout",
     "output_type": "stream",
     "text": [
      "bliss:12264595-12264\n",
      "guideseq:80016313-80016\n",
      "bliss:12264595-12264\n",
      "guideseq:84032639-84032\n",
      "bliss:12264595-12264\n",
      "guideseq:73585908-73585\n",
      "bliss:12264595-12264\n",
      "guideseq:74898113-74898\n",
      "bliss:12264595-12264\n",
      "guideseq:12264595-12264\n"
     ]
    },
    {
     "data": {
      "text/plain": [
       "name                           VEGFA_site3\n",
       "sequence           AGTGAGTGAGTGTGTGTGTGTGA\n",
       "chrom                                chr16\n",
       "chromStart                        12264595\n",
       "chromEnd                          12264618\n",
       "strand                                   +\n",
       "mismatch                                 3\n",
       "guide-seq_reads                          6\n",
       "target_length                           23\n",
       "Name: 225, dtype: object"
      ]
     },
     "metadata": {},
     "output_type": "display_data"
    },
    {
     "name": "stdout",
     "output_type": "stream",
     "text": [
      "bliss:18696207-18696\n",
      "guideseq:73317043-73317\n",
      "bliss:18696207-18696\n",
      "guideseq:177463419-177463\n",
      "bliss:18696207-18696\n",
      "guideseq:230506234-230506\n",
      "bliss:18696207-18696\n",
      "guideseq:18696207-18696\n"
     ]
    },
    {
     "data": {
      "text/plain": [
       "name                           VEGFA_site3\n",
       "sequence           AGTGAGAAAGTGTGTGCATGCGG\n",
       "chrom                                 chr2\n",
       "chromStart                        18696207\n",
       "chromEnd                          18696230\n",
       "strand                                   +\n",
       "mismatch                                 4\n",
       "guide-seq_reads                          9\n",
       "target_length                           23\n",
       "Name: 223, dtype: object"
      ]
     },
     "metadata": {},
     "output_type": "display_data"
    },
    {
     "name": "stdout",
     "output_type": "stream",
     "text": [
      "bliss:73160981-73160\n",
      "guideseq:73160981-73160\n"
     ]
    },
    {
     "data": {
      "text/plain": [
       "name                                  EMX1\n",
       "sequence           GAGTCCGAGCAGAAGAAGAAGGG\n",
       "chrom                                 chr2\n",
       "chromStart                        73160981\n",
       "chromEnd                          73161004\n",
       "strand                                   +\n",
       "mismatch                                 0\n",
       "guide-seq_reads                       4521\n",
       "target_length                           23\n",
       "Name: 234, dtype: object"
      ]
     },
     "metadata": {},
     "output_type": "display_data"
    },
    {
     "name": "stdout",
     "output_type": "stream",
     "text": [
      "bliss:45359060-45359\n",
      "guideseq:45359060-45359\n"
     ]
    },
    {
     "data": {
      "text/plain": [
       "name                                  EMX1\n",
       "sequence           GAGTTAGAGCAGAAGAAGAAAGG\n",
       "chrom                                 chr5\n",
       "chromStart                        45359060\n",
       "chromEnd                          45359083\n",
       "strand                                   -\n",
       "mismatch                                 2\n",
       "guide-seq_reads                       3123\n",
       "target_length                           23\n",
       "Name: 235, dtype: object"
      ]
     },
     "metadata": {},
     "output_type": "display_data"
    },
    {
     "name": "stdout",
     "output_type": "stream",
     "text": [
      "bliss:44109746-44109\n",
      "guideseq:44109746-44109\n"
     ]
    },
    {
     "data": {
      "text/plain": [
       "name                                  EMX1\n",
       "sequence           GAGTCTAAGCAGAAGAAGAAGAG\n",
       "chrom                                chr15\n",
       "chromStart                        44109746\n",
       "chromEnd                          44109769\n",
       "strand                                   +\n",
       "mismatch                                 3\n",
       "guide-seq_reads                       1445\n",
       "target_length                           23\n",
       "Name: 236, dtype: object"
      ]
     },
     "metadata": {},
     "output_type": "display_data"
    },
    {
     "name": "stdout",
     "output_type": "stream",
     "text": [
      "bliss:128801241-128801\n",
      "guideseq:128801241-128801\n"
     ]
    },
    {
     "data": {
      "text/plain": [
       "name                                  EMX1\n",
       "sequence           GAGTCCTAGCAGGAGAAGAAGAG\n",
       "chrom                                 chr8\n",
       "chromStart                       128801241\n",
       "chromEnd                         128801264\n",
       "strand                                   +\n",
       "mismatch                                 3\n",
       "guide-seq_reads                        390\n",
       "target_length                           23\n",
       "Name: 238, dtype: object"
      ]
     },
     "metadata": {},
     "output_type": "display_data"
    },
    {
     "name": "stdout",
     "output_type": "stream",
     "text": [
      "bliss:219845055-219845\n",
      "guideseq:73160981-73160\n",
      "bliss:219845055-219845\n",
      "guideseq:219845055-219845\n"
     ]
    },
    {
     "data": {
      "text/plain": [
       "name                                  EMX1\n",
       "sequence           GAGGCCGAGCAGAAGAAAGACGG\n",
       "chrom                                 chr2\n",
       "chromStart                       219845055\n",
       "chromEnd                         219845078\n",
       "strand                                   +\n",
       "mismatch                                 3\n",
       "guide-seq_reads                        700\n",
       "target_length                           23\n",
       "Name: 237, dtype: object"
      ]
     },
     "metadata": {},
     "output_type": "display_data"
    },
    {
     "name": "stdout",
     "output_type": "stream",
     "text": [
      "bliss:9227145-9227\n",
      "guideseq:45359060-45359\n",
      "bliss:9227145-9227\n",
      "guideseq:9227145-9227\n"
     ]
    },
    {
     "data": {
      "text/plain": [
       "name                                  EMX1\n",
       "sequence           AAGTCTGAGCACAAGAAGAATGG\n",
       "chrom                                 chr5\n",
       "chromStart                         9227145\n",
       "chromEnd                           9227168\n",
       "strand                                   +\n",
       "mismatch                                 3\n",
       "guide-seq_reads                        258\n",
       "target_length                           23\n",
       "Name: 239, dtype: object"
      ]
     },
     "metadata": {},
     "output_type": "display_data"
    },
    {
     "name": "stdout",
     "output_type": "stream",
     "text": [
      "bliss:9118792-9118\n",
      "guideseq:9118792-9118\n"
     ]
    },
    {
     "data": {
      "text/plain": [
       "name                                  EMX1\n",
       "sequence           ACGTCTGAGCAGAAGAAGAATGG\n",
       "chrom                                 chr6\n",
       "chromStart                         9118792\n",
       "chromEnd                           9118815\n",
       "strand                                   -\n",
       "mismatch                                 3\n",
       "guide-seq_reads                         38\n",
       "target_length                           23\n",
       "Name: 244, dtype: object"
      ]
     },
     "metadata": {},
     "output_type": "display_data"
    },
    {
     "name": "stdout",
     "output_type": "stream",
     "text": [
      "bliss:23720611-23720\n",
      "guideseq:23720611-23720\n"
     ]
    },
    {
     "data": {
      "text/plain": [
       "name                                  EMX1\n",
       "sequence           AAGTCCGAGGAGAGGAAGAAAGG\n",
       "chrom                                 chr1\n",
       "chromStart                        23720611\n",
       "chromEnd                          23720634\n",
       "strand                                   -\n",
       "mismatch                                 3\n",
       "guide-seq_reads                        102\n",
       "target_length                           23\n",
       "Name: 242, dtype: object"
      ]
     },
     "metadata": {},
     "output_type": "display_data"
    },
    {
     "name": "stdout",
     "output_type": "stream",
     "text": [
      "bliss:100292461-100292\n",
      "guideseq:44109746-44109\n",
      "bliss:100292461-100292\n",
      "guideseq:100292461-100292\n"
     ]
    },
    {
     "data": {
      "text/plain": [
       "name                                  EMX1\n",
       "sequence           AAGTCCCGGCAGAGGAAGAAGGG\n",
       "chrom                                chr15\n",
       "chromStart                       100292461\n",
       "chromEnd                         100292484\n",
       "strand                                   +\n",
       "mismatch                                 4\n",
       "guide-seq_reads                          6\n",
       "target_length                           23\n",
       "Name: 246, dtype: object"
      ]
     },
     "metadata": {},
     "output_type": "display_data"
    },
    {
     "name": "stdout",
     "output_type": "stream",
     "text": [
      "bliss:43737453-43737\n",
      "guideseq:43737453-43737\n"
     ]
    },
    {
     "data": {
      "text/plain": [
       "name                           VEGFA_site3\n",
       "sequence           GGTGAGTGAGTGTGTGCGTGTGG\n",
       "chrom                                 chr6\n",
       "chromStart                        43737453\n",
       "chromEnd                          43737476\n",
       "strand                                   +\n",
       "mismatch                                 0\n",
       "guide-seq_reads                       2440\n",
       "target_length                           23\n",
       "Name: 176, dtype: object"
      ]
     },
     "metadata": {},
     "output_type": "display_data"
    },
    {
     "name": "stdout",
     "output_type": "stream",
     "text": [
      "bliss:115434658-115434\n",
      "guideseq:89440962-89440\n",
      "bliss:115434658-115434\n",
      "guideseq:115434658-115434\n"
     ]
    },
    {
     "data": {
      "text/plain": [
       "name                           VEGFA_site3\n",
       "sequence           TGTGGGTGAGTGTGTGCGTGAGG\n",
       "chrom                                 chr5\n",
       "chromStart                       115434658\n",
       "chromEnd                         115434681\n",
       "strand                                   +\n",
       "mismatch                                 2\n",
       "guide-seq_reads                       2200\n",
       "target_length                           23\n",
       "Name: 177, dtype: object"
      ]
     },
     "metadata": {},
     "output_type": "display_data"
    },
    {
     "name": "stdout",
     "output_type": "stream",
     "text": [
      "bliss:89440962-89440\n",
      "guideseq:89440962-89440\n"
     ]
    },
    {
     "data": {
      "text/plain": [
       "name                           VEGFA_site3\n",
       "sequence           AGAGAGTGAGTGTGTGCATGAGG\n",
       "chrom                                 chr5\n",
       "chromStart                        89440962\n",
       "chromEnd                          89440985\n",
       "strand                                   -\n",
       "mismatch                                 3\n",
       "guide-seq_reads                       2559\n",
       "target_length                           23\n",
       "Name: 175, dtype: object"
      ]
     },
     "metadata": {},
     "output_type": "display_data"
    },
    {
     "name": "stdout",
     "output_type": "stream",
     "text": [
      "bliss:74353479-74353\n",
      "guideseq:65569152-65569\n",
      "bliss:74353479-74353\n",
      "guideseq:62078766-62078\n",
      "bliss:74353479-74353\n",
      "guideseq:74353479-74353\n"
     ]
    },
    {
     "data": {
      "text/plain": [
       "name                           VEGFA_site3\n",
       "sequence           AGCGAGTGGGTGTGTGCGTGGGG\n",
       "chrom                                chr14\n",
       "chromStart                        74353479\n",
       "chromEnd                          74353502\n",
       "strand                                   +\n",
       "mismatch                                 3\n",
       "guide-seq_reads                        790\n",
       "target_length                           23\n",
       "Name: 184, dtype: object"
      ]
     },
     "metadata": {},
     "output_type": "display_data"
    },
    {
     "name": "stdout",
     "output_type": "stream",
     "text": [
      "bliss:23824547-23824\n",
      "guideseq:23824547-23824\n"
     ]
    },
    {
     "data": {
      "text/plain": [
       "name                           VEGFA_site3\n",
       "sequence           TGTGGGTGAGTGTGTGCGTGAGA\n",
       "chrom                                 chr9\n",
       "chromStart                        23824547\n",
       "chromEnd                          23824570\n",
       "strand                                   -\n",
       "mismatch                                 3\n",
       "guide-seq_reads                        643\n",
       "target_length                           23\n",
       "Name: 186, dtype: object"
      ]
     },
     "metadata": {},
     "output_type": "display_data"
    },
    {
     "name": "stdout",
     "output_type": "stream",
     "text": [
      "bliss:65569152-65569\n",
      "guideseq:65569152-65569\n"
     ]
    },
    {
     "data": {
      "text/plain": [
       "name                           VEGFA_site3\n",
       "sequence           AGTGAGTGAGTGTGTGTGTGGGG\n",
       "chrom                                chr14\n",
       "chromStart                        65569152\n",
       "chromEnd                          65569175\n",
       "strand                                   -\n",
       "mismatch                                 2\n",
       "guide-seq_reads                       3125\n",
       "target_length                           23\n",
       "Name: 174, dtype: object"
      ]
     },
     "metadata": {},
     "output_type": "display_data"
    },
    {
     "name": "stdout",
     "output_type": "stream",
     "text": [
      "bliss:106029014-106029\n",
      "guideseq:65569152-65569\n",
      "bliss:106029014-106029\n",
      "guideseq:62078766-62078\n",
      "bliss:106029014-106029\n",
      "guideseq:74353479-74353\n",
      "bliss:106029014-106029\n",
      "guideseq:106029014-106029\n"
     ]
    },
    {
     "data": {
      "text/plain": [
       "name                           VEGFA_site3\n",
       "sequence           GGTGAGTGAGTGTGTGTGTGAGG\n",
       "chrom                                chr14\n",
       "chromStart                       106029014\n",
       "chromEnd                         106029037\n",
       "strand                                   +\n",
       "mismatch                                 1\n",
       "guide-seq_reads                        199\n",
       "target_length                           23\n",
       "Name: 188, dtype: object"
      ]
     },
     "metadata": {},
     "output_type": "display_data"
    },
    {
     "name": "stdout",
     "output_type": "stream",
     "text": [
      "bliss:98760581-98760\n",
      "guideseq:98760581-98760\n"
     ]
    },
    {
     "data": {
      "text/plain": [
       "name                           VEGFA_site3\n",
       "sequence           GTTGAGTGAATGTGTGCGTGAGG\n",
       "chrom                                chr10\n",
       "chromStart                        98760581\n",
       "chromEnd                          98760604\n",
       "strand                                   -\n",
       "mismatch                                 2\n",
       "guide-seq_reads                       1437\n",
       "target_length                           23\n",
       "Name: 180, dtype: object"
      ]
     },
     "metadata": {},
     "output_type": "display_data"
    },
    {
     "name": "stdout",
     "output_type": "stream",
     "text": [
      "bliss:68851125-68851\n",
      "guideseq:68851125-68851\n"
     ]
    },
    {
     "data": {
      "text/plain": [
       "name                           VEGFA_site3\n",
       "sequence           GGTGAGTGAGTGTGTGCGGGTGG\n",
       "chrom                                chr11\n",
       "chromStart                        68851125\n",
       "chromEnd                          68851148\n",
       "strand                                   +\n",
       "mismatch                                 1\n",
       "guide-seq_reads                       1535\n",
       "target_length                           23\n",
       "Name: 179, dtype: object"
      ]
     },
     "metadata": {},
     "output_type": "display_data"
    },
    {
     "name": "stdout",
     "output_type": "stream",
     "text": [
      "bliss:193993877-193993\n",
      "guideseq:193993877-193993\n"
     ]
    },
    {
     "data": {
      "text/plain": [
       "name                           VEGFA_site3\n",
       "sequence           AGTGAATGAGTGTGTGTGTGTGG\n",
       "chrom                                 chr3\n",
       "chromStart                       193993877\n",
       "chromEnd                         193993900\n",
       "strand                                   -\n",
       "mismatch                                 3\n",
       "guide-seq_reads                       1315\n",
       "target_length                           23\n",
       "Name: 181, dtype: object"
      ]
     },
     "metadata": {},
     "output_type": "display_data"
    },
    {
     "name": "stdout",
     "output_type": "stream",
     "text": [
      "bliss:130228336-130228\n",
      "guideseq:98760581-98760\n",
      "bliss:130228336-130228\n",
      "guideseq:5749650-5749\n",
      "bliss:130228336-130228\n",
      "guideseq:130228336-130228\n"
     ]
    },
    {
     "data": {
      "text/plain": [
       "name                           VEGFA_site3\n",
       "sequence           AGGGAGTGACTGTGTGCGTGTGG\n",
       "chrom                                chr10\n",
       "chromStart                       130228336\n",
       "chromEnd                         130228359\n",
       "strand                                   +\n",
       "mismatch                                 3\n",
       "guide-seq_reads                         24\n",
       "target_length                           23\n",
       "Name: 210, dtype: object"
      ]
     },
     "metadata": {},
     "output_type": "display_data"
    },
    {
     "name": "stdout",
     "output_type": "stream",
     "text": [
      "bliss:50724387-50724\n",
      "guideseq:20178277-20178\n",
      "bliss:50724387-50724\n",
      "guideseq:50724387-50724\n"
     ]
    },
    {
     "data": {
      "text/plain": [
       "name                           VEGFA_site3\n",
       "sequence           CGTGAGTGAGTGTGTACCTGGGG\n",
       "chrom                                chr20\n",
       "chromStart                        50724387\n",
       "chromEnd                          50724410\n",
       "strand                                   +\n",
       "mismatch                                 3\n",
       "guide-seq_reads                         19\n",
       "target_length                           23\n",
       "Name: 213, dtype: object"
      ]
     },
     "metadata": {},
     "output_type": "display_data"
    },
    {
     "name": "stdout",
     "output_type": "stream",
     "text": [
      "bliss:177463419-177463\n",
      "guideseq:73317043-73317\n",
      "bliss:177463419-177463\n",
      "guideseq:177463419-177463\n"
     ]
    },
    {
     "data": {
      "text/plain": [
       "name                           VEGFA_site3\n",
       "sequence           GGTGAGTGTGTGTGTGCATGTGG\n",
       "chrom                                 chr2\n",
       "chromStart                       177463419\n",
       "chromEnd                         177463442\n",
       "strand                                   -\n",
       "mismatch                                 2\n",
       "guide-seq_reads                         33\n",
       "target_length                           23\n",
       "Name: 205, dtype: object"
      ]
     },
     "metadata": {},
     "output_type": "display_data"
    },
    {
     "name": "stdout",
     "output_type": "stream",
     "text": [
      "bliss:84032639-84032\n",
      "guideseq:80016313-80016\n",
      "bliss:84032639-84032\n",
      "guideseq:84032639-84032\n"
     ]
    },
    {
     "data": {
      "text/plain": [
       "name                           VEGFA_site3\n",
       "sequence           GGTGAATGAGTGTGTGCTCTGGG\n",
       "chrom                                chr16\n",
       "chromStart                        84032639\n",
       "chromEnd                          84032662\n",
       "strand                                   -\n",
       "mismatch                                 4\n",
       "guide-seq_reads                         26\n",
       "target_length                           23\n",
       "Name: 209, dtype: object"
      ]
     },
     "metadata": {},
     "output_type": "display_data"
    },
    {
     "name": "stdout",
     "output_type": "stream",
     "text": [
      "bliss:6109015-6109\n",
      "guideseq:40561860-40561\n",
      "bliss:6109015-6109\n",
      "guideseq:47732485-47732\n",
      "bliss:6109015-6109\n",
      "guideseq:1716774-1716\n",
      "bliss:6109015-6109\n",
      "guideseq:17594216-17594\n",
      "bliss:6109015-6109\n",
      "guideseq:6109015-6109\n"
     ]
    },
    {
     "data": {
      "text/plain": [
       "name                           VEGFA_site3\n",
       "sequence           TGTGAGTGAGTGTGTGTGTGTGA\n",
       "chrom                                chr19\n",
       "chromStart                         6109015\n",
       "chromEnd                           6109038\n",
       "strand                                   +\n",
       "mismatch                                 3\n",
       "guide-seq_reads                          6\n",
       "target_length                           23\n",
       "Name: 226, dtype: object"
      ]
     },
     "metadata": {},
     "output_type": "display_data"
    },
    {
     "name": "stdout",
     "output_type": "stream",
     "text": [
      "bliss:20178277-20178\n",
      "guideseq:20178277-20178\n"
     ]
    },
    {
     "data": {
      "text/plain": [
       "name                           VEGFA_site3\n",
       "sequence           AGTGTGTGAGTGTGTGCGTGTGG\n",
       "chrom                                chr20\n",
       "chromStart                        20178277\n",
       "chromEnd                          20178300\n",
       "strand                                   -\n",
       "mismatch                                 2\n",
       "guide-seq_reads                        686\n",
       "target_length                           23\n",
       "Name: 185, dtype: object"
      ]
     },
     "metadata": {},
     "output_type": "display_data"
    },
    {
     "name": "stdout",
     "output_type": "stream",
     "text": [
      "bliss:48997788-48997\n",
      "guideseq:22932496-22932\n",
      "bliss:48997788-48997\n",
      "guideseq:48997788-48997\n"
     ]
    },
    {
     "data": {
      "text/plain": [
       "name                           VEGFA_site3\n",
       "sequence           GTAGAGTGAGTGTGTGTGTGTGG\n",
       "chrom                                 chr8\n",
       "chromStart                        48997788\n",
       "chromEnd                          48997811\n",
       "strand                                   +\n",
       "mismatch                                 3\n",
       "guide-seq_reads                         82\n",
       "target_length                           23\n",
       "Name: 197, dtype: object"
      ]
     },
     "metadata": {},
     "output_type": "display_data"
    },
    {
     "name": "stdout",
     "output_type": "stream",
     "text": [
      "bliss:74103157-74103\n",
      "guideseq:74103157-74103\n"
     ]
    },
    {
     "data": {
      "text/plain": [
       "name                           VEGFA_site3\n",
       "sequence           GGTGAGTAAGTGTGAGCGTAAGG\n",
       "chrom                                chr18\n",
       "chromStart                        74103157\n",
       "chromEnd                          74103180\n",
       "strand                                   +\n",
       "mismatch                                 3\n",
       "guide-seq_reads                         33\n",
       "target_length                           23\n",
       "Name: 206, dtype: object"
      ]
     },
     "metadata": {},
     "output_type": "display_data"
    },
    {
     "name": "stdout",
     "output_type": "stream",
     "text": [
      "bliss:62078766-62078\n",
      "guideseq:65569152-65569\n",
      "bliss:62078766-62078\n",
      "guideseq:62078766-62078\n"
     ]
    },
    {
     "data": {
      "text/plain": [
       "name                           VEGFA_site3\n",
       "sequence           TGTGAGTAAGTGTGTGTGTGTGG\n",
       "chrom                                chr14\n",
       "chromStart                        62078766\n",
       "chromEnd                          62078789\n",
       "strand                                   -\n",
       "mismatch                                 3\n",
       "guide-seq_reads                       1170\n",
       "target_length                           23\n",
       "Name: 182, dtype: object"
      ]
     },
     "metadata": {},
     "output_type": "display_data"
    },
    {
     "name": "stdout",
     "output_type": "stream",
     "text": [
      "bliss:40561860-40561\n",
      "guideseq:40561860-40561\n"
     ]
    },
    {
     "data": {
      "text/plain": [
       "name                           VEGFA_site3\n",
       "sequence           ACTGTGTGAGTGTGTGCGTGAGG\n",
       "chrom                                chr19\n",
       "chromStart                        40561860\n",
       "chromEnd                          40561883\n",
       "strand                                   -\n",
       "mismatch                                 3\n",
       "guide-seq_reads                        796\n",
       "target_length                           23\n",
       "Name: 183, dtype: object"
      ]
     },
     "metadata": {},
     "output_type": "display_data"
    },
    {
     "name": "stdout",
     "output_type": "stream",
     "text": [
      "bliss:144458273-144458\n",
      "guideseq:43737453-43737\n",
      "bliss:144458273-144458\n",
      "guideseq:157078320-157078\n",
      "bliss:144458273-144458\n",
      "guideseq:144458273-144458\n"
     ]
    },
    {
     "data": {
      "text/plain": [
       "name                           VEGFA_site3\n",
       "sequence           AGGGAGTGAGTGTGAGAGTGCGG\n",
       "chrom                                 chr6\n",
       "chromStart                       144458273\n",
       "chromEnd                         144458296\n",
       "strand                                   +\n",
       "mismatch                                 4\n",
       "guide-seq_reads                          4\n",
       "target_length                           23\n",
       "Name: 229, dtype: object"
      ]
     },
     "metadata": {},
     "output_type": "display_data"
    },
    {
     "name": "stdout",
     "output_type": "stream",
     "text": [
      "bliss:22932496-22932\n",
      "guideseq:22932496-22932\n"
     ]
    },
    {
     "data": {
      "text/plain": [
       "name                           VEGFA_site3\n",
       "sequence           TGTGAGTGAGTGTGTGTGTGTGA\n",
       "chrom                                 chr8\n",
       "chromStart                        22932496\n",
       "chromEnd                          22932519\n",
       "strand                                   -\n",
       "mismatch                                 3\n",
       "guide-seq_reads                        111\n",
       "target_length                           23\n",
       "Name: 193, dtype: object"
      ]
     },
     "metadata": {},
     "output_type": "display_data"
    },
    {
     "name": "stdout",
     "output_type": "stream",
     "text": [
      "bliss:47732485-47732\n",
      "guideseq:40561860-40561\n",
      "bliss:47732485-47732\n",
      "guideseq:47732485-47732\n"
     ]
    },
    {
     "data": {
      "text/plain": [
       "name                           VEGFA_site3\n",
       "sequence           CTGGAGTGAGTGTGTGTGTGTGG\n",
       "chrom                                chr19\n",
       "chromStart                        47732485\n",
       "chromEnd                          47732508\n",
       "strand                                   -\n",
       "mismatch                                 4\n",
       "guide-seq_reads                        193\n",
       "target_length                           23\n",
       "Name: 189, dtype: object"
      ]
     },
     "metadata": {},
     "output_type": "display_data"
    },
    {
     "name": "stdout",
     "output_type": "stream",
     "text": [
      "bliss:79178505-79178\n",
      "guideseq:68851125-68851\n",
      "bliss:79178505-79178\n",
      "guideseq:79178505-79178\n"
     ]
    },
    {
     "data": {
      "text/plain": [
       "name                           VEGFA_site3\n",
       "sequence           AGTGAGTGAGTGAGTGAGTGGGG\n",
       "chrom                                chr11\n",
       "chromStart                        79178505\n",
       "chromEnd                          79178528\n",
       "strand                                   +\n",
       "mismatch                                 3\n",
       "guide-seq_reads                         32\n",
       "target_length                           23\n",
       "Name: 207, dtype: object"
      ]
     },
     "metadata": {},
     "output_type": "display_data"
    },
    {
     "name": "stdout",
     "output_type": "stream",
     "text": [
      "bliss:230506234-230506\n",
      "guideseq:73317043-73317\n",
      "bliss:230506234-230506\n",
      "guideseq:177463419-177463\n",
      "bliss:230506234-230506\n",
      "guideseq:230506234-230506\n"
     ]
    },
    {
     "data": {
      "text/plain": [
       "name                           VEGFA_site3\n",
       "sequence           GGTGAGCAAGTGTGTGTGTGTGG\n",
       "chrom                                 chr2\n",
       "chromStart                       230506234\n",
       "chromEnd                         230506257\n",
       "strand                                   -\n",
       "mismatch                                 3\n",
       "guide-seq_reads                         20\n",
       "target_length                           23\n",
       "Name: 212, dtype: object"
      ]
     },
     "metadata": {},
     "output_type": "display_data"
    },
    {
     "name": "stdout",
     "output_type": "stream",
     "text": [
      "bliss:71632802-71632\n",
      "guideseq:193993877-193993\n",
      "bliss:71632802-71632\n",
      "guideseq:71632802-71632\n"
     ]
    },
    {
     "data": {
      "text/plain": [
       "name                           VEGFA_site3\n",
       "sequence           CGCGAGTGAGTGTGTGCGCGGGG\n",
       "chrom                                 chr3\n",
       "chromStart                        71632802\n",
       "chromEnd                          71632825\n",
       "strand                                   -\n",
       "mismatch                                 3\n",
       "guide-seq_reads                        215\n",
       "target_length                           23\n",
       "Name: 187, dtype: object"
      ]
     },
     "metadata": {},
     "output_type": "display_data"
    },
    {
     "name": "stdout",
     "output_type": "stream",
     "text": [
      "bliss:157078320-157078\n",
      "guideseq:43737453-43737\n",
      "bliss:157078320-157078\n",
      "guideseq:157078320-157078\n"
     ]
    },
    {
     "data": {
      "text/plain": [
       "name                           VEGFA_site3\n",
       "sequence           GATGAGTGAGTGAGTGAGTGGGG\n",
       "chrom                                 chr6\n",
       "chromStart                       157078320\n",
       "chromEnd                         157078343\n",
       "strand                                   -\n",
       "mismatch                                 3\n",
       "guide-seq_reads                         37\n",
       "target_length                           23\n",
       "Name: 202, dtype: object"
      ]
     },
     "metadata": {},
     "output_type": "display_data"
    },
    {
     "name": "stdout",
     "output_type": "stream",
     "text": [
      "bliss:47690887-47690\n",
      "guideseq:48305031-48305\n",
      "bliss:47690887-47690\n",
      "guideseq:181557186-181557\n",
      "bliss:47690887-47690\n",
      "guideseq:32738746-32738\n",
      "bliss:47690887-47690\n",
      "guideseq:47690887-47690\n"
     ]
    },
    {
     "data": {
      "text/plain": [
       "name                           VEGFA_site3\n",
       "sequence           TGTGAGAGAGAGTGTGCGTGTGG\n",
       "chrom                                 chr1\n",
       "chromStart                        47690887\n",
       "chromEnd                          47690910\n",
       "strand                                   -\n",
       "mismatch                                 3\n",
       "guide-seq_reads                          3\n",
       "target_length                           23\n",
       "Name: 233, dtype: object"
      ]
     },
     "metadata": {},
     "output_type": "display_data"
    },
    {
     "name": "stdout",
     "output_type": "stream",
     "text": [
      "bliss:1716774-1716\n",
      "guideseq:40561860-40561\n",
      "bliss:1716774-1716\n",
      "guideseq:47732485-47732\n",
      "bliss:1716774-1716\n",
      "guideseq:1716774-1716\n"
     ]
    },
    {
     "data": {
      "text/plain": [
       "name                           VEGFA_site3\n",
       "sequence           CATGAGTGAGTGTGTGGGTGGGG\n",
       "chrom                                chr19\n",
       "chromStart                         1716774\n",
       "chromEnd                           1716797\n",
       "strand                                   +\n",
       "mismatch                                 3\n",
       "guide-seq_reads                         45\n",
       "target_length                           23\n",
       "Name: 200, dtype: object"
      ]
     },
     "metadata": {},
     "output_type": "display_data"
    },
    {
     "name": "stdout",
     "output_type": "stream",
     "text": [
      "bliss:12264595-12264\n",
      "guideseq:80016313-80016\n",
      "bliss:12264595-12264\n",
      "guideseq:84032639-84032\n",
      "bliss:12264595-12264\n",
      "guideseq:73585908-73585\n",
      "bliss:12264595-12264\n",
      "guideseq:74898113-74898\n",
      "bliss:12264595-12264\n",
      "guideseq:12264595-12264\n"
     ]
    },
    {
     "data": {
      "text/plain": [
       "name                           VEGFA_site3\n",
       "sequence           AGTGAGTGAGTGTGTGTGTGTGA\n",
       "chrom                                chr16\n",
       "chromStart                        12264595\n",
       "chromEnd                          12264618\n",
       "strand                                   +\n",
       "mismatch                                 3\n",
       "guide-seq_reads                          6\n",
       "target_length                           23\n",
       "Name: 225, dtype: object"
      ]
     },
     "metadata": {},
     "output_type": "display_data"
    },
    {
     "name": "stdout",
     "output_type": "stream",
     "text": [
      "bliss:18696207-18696\n",
      "guideseq:73317043-73317\n",
      "bliss:18696207-18696\n",
      "guideseq:177463419-177463\n",
      "bliss:18696207-18696\n",
      "guideseq:230506234-230506\n",
      "bliss:18696207-18696\n",
      "guideseq:18696207-18696\n"
     ]
    },
    {
     "data": {
      "text/plain": [
       "name                           VEGFA_site3\n",
       "sequence           AGTGAGAAAGTGTGTGCATGCGG\n",
       "chrom                                 chr2\n",
       "chromStart                        18696207\n",
       "chromEnd                          18696230\n",
       "strand                                   +\n",
       "mismatch                                 4\n",
       "guide-seq_reads                          9\n",
       "target_length                           23\n",
       "Name: 223, dtype: object"
      ]
     },
     "metadata": {},
     "output_type": "display_data"
    },
    {
     "name": "stdout",
     "output_type": "stream",
     "text": [
      "bliss:73160981-73160\n",
      "guideseq:73160981-73160\n"
     ]
    },
    {
     "data": {
      "text/plain": [
       "name                                  EMX1\n",
       "sequence           GAGTCCGAGCAGAAGAAGAAGGG\n",
       "chrom                                 chr2\n",
       "chromStart                        73160981\n",
       "chromEnd                          73161004\n",
       "strand                                   +\n",
       "mismatch                                 0\n",
       "guide-seq_reads                       4521\n",
       "target_length                           23\n",
       "Name: 234, dtype: object"
      ]
     },
     "metadata": {},
     "output_type": "display_data"
    },
    {
     "name": "stdout",
     "output_type": "stream",
     "text": [
      "bliss:45359060-45359\n",
      "guideseq:45359060-45359\n"
     ]
    },
    {
     "data": {
      "text/plain": [
       "name                                  EMX1\n",
       "sequence           GAGTTAGAGCAGAAGAAGAAAGG\n",
       "chrom                                 chr5\n",
       "chromStart                        45359060\n",
       "chromEnd                          45359083\n",
       "strand                                   -\n",
       "mismatch                                 2\n",
       "guide-seq_reads                       3123\n",
       "target_length                           23\n",
       "Name: 235, dtype: object"
      ]
     },
     "metadata": {},
     "output_type": "display_data"
    },
    {
     "name": "stdout",
     "output_type": "stream",
     "text": [
      "bliss:44109746-44109\n",
      "guideseq:44109746-44109\n"
     ]
    },
    {
     "data": {
      "text/plain": [
       "name                                  EMX1\n",
       "sequence           GAGTCTAAGCAGAAGAAGAAGAG\n",
       "chrom                                chr15\n",
       "chromStart                        44109746\n",
       "chromEnd                          44109769\n",
       "strand                                   +\n",
       "mismatch                                 3\n",
       "guide-seq_reads                       1445\n",
       "target_length                           23\n",
       "Name: 236, dtype: object"
      ]
     },
     "metadata": {},
     "output_type": "display_data"
    },
    {
     "name": "stdout",
     "output_type": "stream",
     "text": [
      "bliss:128801241-128801\n",
      "guideseq:128801241-128801\n"
     ]
    },
    {
     "data": {
      "text/plain": [
       "name                                  EMX1\n",
       "sequence           GAGTCCTAGCAGGAGAAGAAGAG\n",
       "chrom                                 chr8\n",
       "chromStart                       128801241\n",
       "chromEnd                         128801264\n",
       "strand                                   +\n",
       "mismatch                                 3\n",
       "guide-seq_reads                        390\n",
       "target_length                           23\n",
       "Name: 238, dtype: object"
      ]
     },
     "metadata": {},
     "output_type": "display_data"
    },
    {
     "name": "stdout",
     "output_type": "stream",
     "text": [
      "bliss:219845055-219845\n",
      "guideseq:73160981-73160\n",
      "bliss:219845055-219845\n",
      "guideseq:219845055-219845\n"
     ]
    },
    {
     "data": {
      "text/plain": [
       "name                                  EMX1\n",
       "sequence           GAGGCCGAGCAGAAGAAAGACGG\n",
       "chrom                                 chr2\n",
       "chromStart                       219845055\n",
       "chromEnd                         219845078\n",
       "strand                                   +\n",
       "mismatch                                 3\n",
       "guide-seq_reads                        700\n",
       "target_length                           23\n",
       "Name: 237, dtype: object"
      ]
     },
     "metadata": {},
     "output_type": "display_data"
    },
    {
     "name": "stdout",
     "output_type": "stream",
     "text": [
      "bliss:9227145-9227\n",
      "guideseq:45359060-45359\n",
      "bliss:9227145-9227\n",
      "guideseq:9227145-9227\n"
     ]
    },
    {
     "data": {
      "text/plain": [
       "name                                  EMX1\n",
       "sequence           AAGTCTGAGCACAAGAAGAATGG\n",
       "chrom                                 chr5\n",
       "chromStart                         9227145\n",
       "chromEnd                           9227168\n",
       "strand                                   +\n",
       "mismatch                                 3\n",
       "guide-seq_reads                        258\n",
       "target_length                           23\n",
       "Name: 239, dtype: object"
      ]
     },
     "metadata": {},
     "output_type": "display_data"
    },
    {
     "name": "stdout",
     "output_type": "stream",
     "text": [
      "bliss:9118792-9118\n",
      "guideseq:9118792-9118\n"
     ]
    },
    {
     "data": {
      "text/plain": [
       "name                                  EMX1\n",
       "sequence           ACGTCTGAGCAGAAGAAGAATGG\n",
       "chrom                                 chr6\n",
       "chromStart                         9118792\n",
       "chromEnd                           9118815\n",
       "strand                                   -\n",
       "mismatch                                 3\n",
       "guide-seq_reads                         38\n",
       "target_length                           23\n",
       "Name: 244, dtype: object"
      ]
     },
     "metadata": {},
     "output_type": "display_data"
    },
    {
     "name": "stdout",
     "output_type": "stream",
     "text": [
      "bliss:23720611-23720\n",
      "guideseq:23720611-23720\n"
     ]
    },
    {
     "data": {
      "text/plain": [
       "name                                  EMX1\n",
       "sequence           AAGTCCGAGGAGAGGAAGAAAGG\n",
       "chrom                                 chr1\n",
       "chromStart                        23720611\n",
       "chromEnd                          23720634\n",
       "strand                                   -\n",
       "mismatch                                 3\n",
       "guide-seq_reads                        102\n",
       "target_length                           23\n",
       "Name: 242, dtype: object"
      ]
     },
     "metadata": {},
     "output_type": "display_data"
    },
    {
     "name": "stdout",
     "output_type": "stream",
     "text": [
      "bliss:100292461-100292\n",
      "guideseq:44109746-44109\n",
      "bliss:100292461-100292\n",
      "guideseq:100292461-100292\n"
     ]
    },
    {
     "data": {
      "text/plain": [
       "name                                  EMX1\n",
       "sequence           AAGTCCCGGCAGAGGAAGAAGGG\n",
       "chrom                                chr15\n",
       "chromStart                       100292461\n",
       "chromEnd                         100292484\n",
       "strand                                   +\n",
       "mismatch                                 4\n",
       "guide-seq_reads                          6\n",
       "target_length                           23\n",
       "Name: 246, dtype: object"
      ]
     },
     "metadata": {},
     "output_type": "display_data"
    },
    {
     "name": "stdout",
     "output_type": "stream",
     "text": [
      "bliss:43737453-43737\n",
      "guideseq:43737453-43737\n"
     ]
    },
    {
     "data": {
      "text/plain": [
       "name                           VEGFA_site3\n",
       "sequence           GGTGAGTGAGTGTGTGCGTGTGG\n",
       "chrom                                 chr6\n",
       "chromStart                        43737453\n",
       "chromEnd                          43737476\n",
       "strand                                   +\n",
       "mismatch                                 0\n",
       "guide-seq_reads                       2440\n",
       "target_length                           23\n",
       "Name: 176, dtype: object"
      ]
     },
     "metadata": {},
     "output_type": "display_data"
    },
    {
     "name": "stdout",
     "output_type": "stream",
     "text": [
      "bliss:115434658-115434\n",
      "guideseq:89440962-89440\n",
      "bliss:115434658-115434\n",
      "guideseq:115434658-115434\n"
     ]
    },
    {
     "data": {
      "text/plain": [
       "name                           VEGFA_site3\n",
       "sequence           TGTGGGTGAGTGTGTGCGTGAGG\n",
       "chrom                                 chr5\n",
       "chromStart                       115434658\n",
       "chromEnd                         115434681\n",
       "strand                                   +\n",
       "mismatch                                 2\n",
       "guide-seq_reads                       2200\n",
       "target_length                           23\n",
       "Name: 177, dtype: object"
      ]
     },
     "metadata": {},
     "output_type": "display_data"
    },
    {
     "name": "stdout",
     "output_type": "stream",
     "text": [
      "bliss:89440962-89440\n",
      "guideseq:89440962-89440\n"
     ]
    },
    {
     "data": {
      "text/plain": [
       "name                           VEGFA_site3\n",
       "sequence           AGAGAGTGAGTGTGTGCATGAGG\n",
       "chrom                                 chr5\n",
       "chromStart                        89440962\n",
       "chromEnd                          89440985\n",
       "strand                                   -\n",
       "mismatch                                 3\n",
       "guide-seq_reads                       2559\n",
       "target_length                           23\n",
       "Name: 175, dtype: object"
      ]
     },
     "metadata": {},
     "output_type": "display_data"
    },
    {
     "name": "stdout",
     "output_type": "stream",
     "text": [
      "bliss:74353479-74353\n",
      "guideseq:65569152-65569\n",
      "bliss:74353479-74353\n",
      "guideseq:62078766-62078\n",
      "bliss:74353479-74353\n",
      "guideseq:74353479-74353\n"
     ]
    },
    {
     "data": {
      "text/plain": [
       "name                           VEGFA_site3\n",
       "sequence           AGCGAGTGGGTGTGTGCGTGGGG\n",
       "chrom                                chr14\n",
       "chromStart                        74353479\n",
       "chromEnd                          74353502\n",
       "strand                                   +\n",
       "mismatch                                 3\n",
       "guide-seq_reads                        790\n",
       "target_length                           23\n",
       "Name: 184, dtype: object"
      ]
     },
     "metadata": {},
     "output_type": "display_data"
    },
    {
     "name": "stdout",
     "output_type": "stream",
     "text": [
      "bliss:23824547-23824\n",
      "guideseq:23824547-23824\n"
     ]
    },
    {
     "data": {
      "text/plain": [
       "name                           VEGFA_site3\n",
       "sequence           TGTGGGTGAGTGTGTGCGTGAGA\n",
       "chrom                                 chr9\n",
       "chromStart                        23824547\n",
       "chromEnd                          23824570\n",
       "strand                                   -\n",
       "mismatch                                 3\n",
       "guide-seq_reads                        643\n",
       "target_length                           23\n",
       "Name: 186, dtype: object"
      ]
     },
     "metadata": {},
     "output_type": "display_data"
    },
    {
     "name": "stdout",
     "output_type": "stream",
     "text": [
      "bliss:65569152-65569\n",
      "guideseq:65569152-65569\n"
     ]
    },
    {
     "data": {
      "text/plain": [
       "name                           VEGFA_site3\n",
       "sequence           AGTGAGTGAGTGTGTGTGTGGGG\n",
       "chrom                                chr14\n",
       "chromStart                        65569152\n",
       "chromEnd                          65569175\n",
       "strand                                   -\n",
       "mismatch                                 2\n",
       "guide-seq_reads                       3125\n",
       "target_length                           23\n",
       "Name: 174, dtype: object"
      ]
     },
     "metadata": {},
     "output_type": "display_data"
    },
    {
     "name": "stdout",
     "output_type": "stream",
     "text": [
      "bliss:106029014-106029\n",
      "guideseq:65569152-65569\n",
      "bliss:106029014-106029\n",
      "guideseq:62078766-62078\n",
      "bliss:106029014-106029\n",
      "guideseq:74353479-74353\n",
      "bliss:106029014-106029\n",
      "guideseq:106029014-106029\n"
     ]
    },
    {
     "data": {
      "text/plain": [
       "name                           VEGFA_site3\n",
       "sequence           GGTGAGTGAGTGTGTGTGTGAGG\n",
       "chrom                                chr14\n",
       "chromStart                       106029014\n",
       "chromEnd                         106029037\n",
       "strand                                   +\n",
       "mismatch                                 1\n",
       "guide-seq_reads                        199\n",
       "target_length                           23\n",
       "Name: 188, dtype: object"
      ]
     },
     "metadata": {},
     "output_type": "display_data"
    },
    {
     "name": "stdout",
     "output_type": "stream",
     "text": [
      "bliss:98760581-98760\n",
      "guideseq:98760581-98760\n"
     ]
    },
    {
     "data": {
      "text/plain": [
       "name                           VEGFA_site3\n",
       "sequence           GTTGAGTGAATGTGTGCGTGAGG\n",
       "chrom                                chr10\n",
       "chromStart                        98760581\n",
       "chromEnd                          98760604\n",
       "strand                                   -\n",
       "mismatch                                 2\n",
       "guide-seq_reads                       1437\n",
       "target_length                           23\n",
       "Name: 180, dtype: object"
      ]
     },
     "metadata": {},
     "output_type": "display_data"
    },
    {
     "name": "stdout",
     "output_type": "stream",
     "text": [
      "bliss:68851125-68851\n",
      "guideseq:68851125-68851\n"
     ]
    },
    {
     "data": {
      "text/plain": [
       "name                           VEGFA_site3\n",
       "sequence           GGTGAGTGAGTGTGTGCGGGTGG\n",
       "chrom                                chr11\n",
       "chromStart                        68851125\n",
       "chromEnd                          68851148\n",
       "strand                                   +\n",
       "mismatch                                 1\n",
       "guide-seq_reads                       1535\n",
       "target_length                           23\n",
       "Name: 179, dtype: object"
      ]
     },
     "metadata": {},
     "output_type": "display_data"
    },
    {
     "name": "stdout",
     "output_type": "stream",
     "text": [
      "bliss:193993877-193993\n",
      "guideseq:193993877-193993\n"
     ]
    },
    {
     "data": {
      "text/plain": [
       "name                           VEGFA_site3\n",
       "sequence           AGTGAATGAGTGTGTGTGTGTGG\n",
       "chrom                                 chr3\n",
       "chromStart                       193993877\n",
       "chromEnd                         193993900\n",
       "strand                                   -\n",
       "mismatch                                 3\n",
       "guide-seq_reads                       1315\n",
       "target_length                           23\n",
       "Name: 181, dtype: object"
      ]
     },
     "metadata": {},
     "output_type": "display_data"
    },
    {
     "name": "stdout",
     "output_type": "stream",
     "text": [
      "bliss:130228336-130228\n",
      "guideseq:98760581-98760\n",
      "bliss:130228336-130228\n",
      "guideseq:5749650-5749\n",
      "bliss:130228336-130228\n",
      "guideseq:130228336-130228\n"
     ]
    },
    {
     "data": {
      "text/plain": [
       "name                           VEGFA_site3\n",
       "sequence           AGGGAGTGACTGTGTGCGTGTGG\n",
       "chrom                                chr10\n",
       "chromStart                       130228336\n",
       "chromEnd                         130228359\n",
       "strand                                   +\n",
       "mismatch                                 3\n",
       "guide-seq_reads                         24\n",
       "target_length                           23\n",
       "Name: 210, dtype: object"
      ]
     },
     "metadata": {},
     "output_type": "display_data"
    },
    {
     "name": "stdout",
     "output_type": "stream",
     "text": [
      "bliss:50724387-50724\n",
      "guideseq:20178277-20178\n",
      "bliss:50724387-50724\n",
      "guideseq:50724387-50724\n"
     ]
    },
    {
     "data": {
      "text/plain": [
       "name                           VEGFA_site3\n",
       "sequence           CGTGAGTGAGTGTGTACCTGGGG\n",
       "chrom                                chr20\n",
       "chromStart                        50724387\n",
       "chromEnd                          50724410\n",
       "strand                                   +\n",
       "mismatch                                 3\n",
       "guide-seq_reads                         19\n",
       "target_length                           23\n",
       "Name: 213, dtype: object"
      ]
     },
     "metadata": {},
     "output_type": "display_data"
    },
    {
     "name": "stdout",
     "output_type": "stream",
     "text": [
      "bliss:177463419-177463\n",
      "guideseq:73317043-73317\n",
      "bliss:177463419-177463\n",
      "guideseq:177463419-177463\n"
     ]
    },
    {
     "data": {
      "text/plain": [
       "name                           VEGFA_site3\n",
       "sequence           GGTGAGTGTGTGTGTGCATGTGG\n",
       "chrom                                 chr2\n",
       "chromStart                       177463419\n",
       "chromEnd                         177463442\n",
       "strand                                   -\n",
       "mismatch                                 2\n",
       "guide-seq_reads                         33\n",
       "target_length                           23\n",
       "Name: 205, dtype: object"
      ]
     },
     "metadata": {},
     "output_type": "display_data"
    },
    {
     "name": "stdout",
     "output_type": "stream",
     "text": [
      "bliss:84032639-84032\n",
      "guideseq:80016313-80016\n",
      "bliss:84032639-84032\n",
      "guideseq:84032639-84032\n"
     ]
    },
    {
     "data": {
      "text/plain": [
       "name                           VEGFA_site3\n",
       "sequence           GGTGAATGAGTGTGTGCTCTGGG\n",
       "chrom                                chr16\n",
       "chromStart                        84032639\n",
       "chromEnd                          84032662\n",
       "strand                                   -\n",
       "mismatch                                 4\n",
       "guide-seq_reads                         26\n",
       "target_length                           23\n",
       "Name: 209, dtype: object"
      ]
     },
     "metadata": {},
     "output_type": "display_data"
    },
    {
     "name": "stdout",
     "output_type": "stream",
     "text": [
      "bliss:6109015-6109\n",
      "guideseq:40561860-40561\n",
      "bliss:6109015-6109\n",
      "guideseq:47732485-47732\n",
      "bliss:6109015-6109\n",
      "guideseq:1716774-1716\n",
      "bliss:6109015-6109\n",
      "guideseq:17594216-17594\n",
      "bliss:6109015-6109\n",
      "guideseq:6109015-6109\n"
     ]
    },
    {
     "data": {
      "text/plain": [
       "name                           VEGFA_site3\n",
       "sequence           TGTGAGTGAGTGTGTGTGTGTGA\n",
       "chrom                                chr19\n",
       "chromStart                         6109015\n",
       "chromEnd                           6109038\n",
       "strand                                   +\n",
       "mismatch                                 3\n",
       "guide-seq_reads                          6\n",
       "target_length                           23\n",
       "Name: 226, dtype: object"
      ]
     },
     "metadata": {},
     "output_type": "display_data"
    },
    {
     "name": "stdout",
     "output_type": "stream",
     "text": [
      "bliss:20178277-20178\n",
      "guideseq:20178277-20178\n"
     ]
    },
    {
     "data": {
      "text/plain": [
       "name                           VEGFA_site3\n",
       "sequence           AGTGTGTGAGTGTGTGCGTGTGG\n",
       "chrom                                chr20\n",
       "chromStart                        20178277\n",
       "chromEnd                          20178300\n",
       "strand                                   -\n",
       "mismatch                                 2\n",
       "guide-seq_reads                        686\n",
       "target_length                           23\n",
       "Name: 185, dtype: object"
      ]
     },
     "metadata": {},
     "output_type": "display_data"
    },
    {
     "name": "stdout",
     "output_type": "stream",
     "text": [
      "bliss:48997788-48997\n",
      "guideseq:22932496-22932\n",
      "bliss:48997788-48997\n",
      "guideseq:48997788-48997\n"
     ]
    },
    {
     "data": {
      "text/plain": [
       "name                           VEGFA_site3\n",
       "sequence           GTAGAGTGAGTGTGTGTGTGTGG\n",
       "chrom                                 chr8\n",
       "chromStart                        48997788\n",
       "chromEnd                          48997811\n",
       "strand                                   +\n",
       "mismatch                                 3\n",
       "guide-seq_reads                         82\n",
       "target_length                           23\n",
       "Name: 197, dtype: object"
      ]
     },
     "metadata": {},
     "output_type": "display_data"
    },
    {
     "name": "stdout",
     "output_type": "stream",
     "text": [
      "bliss:74103157-74103\n",
      "guideseq:74103157-74103\n"
     ]
    },
    {
     "data": {
      "text/plain": [
       "name                           VEGFA_site3\n",
       "sequence           GGTGAGTAAGTGTGAGCGTAAGG\n",
       "chrom                                chr18\n",
       "chromStart                        74103157\n",
       "chromEnd                          74103180\n",
       "strand                                   +\n",
       "mismatch                                 3\n",
       "guide-seq_reads                         33\n",
       "target_length                           23\n",
       "Name: 206, dtype: object"
      ]
     },
     "metadata": {},
     "output_type": "display_data"
    },
    {
     "name": "stdout",
     "output_type": "stream",
     "text": [
      "bliss:62078766-62078\n",
      "guideseq:65569152-65569\n",
      "bliss:62078766-62078\n",
      "guideseq:62078766-62078\n"
     ]
    },
    {
     "data": {
      "text/plain": [
       "name                           VEGFA_site3\n",
       "sequence           TGTGAGTAAGTGTGTGTGTGTGG\n",
       "chrom                                chr14\n",
       "chromStart                        62078766\n",
       "chromEnd                          62078789\n",
       "strand                                   -\n",
       "mismatch                                 3\n",
       "guide-seq_reads                       1170\n",
       "target_length                           23\n",
       "Name: 182, dtype: object"
      ]
     },
     "metadata": {},
     "output_type": "display_data"
    },
    {
     "name": "stdout",
     "output_type": "stream",
     "text": [
      "bliss:40561860-40561\n",
      "guideseq:40561860-40561\n"
     ]
    },
    {
     "data": {
      "text/plain": [
       "name                           VEGFA_site3\n",
       "sequence           ACTGTGTGAGTGTGTGCGTGAGG\n",
       "chrom                                chr19\n",
       "chromStart                        40561860\n",
       "chromEnd                          40561883\n",
       "strand                                   -\n",
       "mismatch                                 3\n",
       "guide-seq_reads                        796\n",
       "target_length                           23\n",
       "Name: 183, dtype: object"
      ]
     },
     "metadata": {},
     "output_type": "display_data"
    },
    {
     "name": "stdout",
     "output_type": "stream",
     "text": [
      "bliss:144458273-144458\n",
      "guideseq:43737453-43737\n",
      "bliss:144458273-144458\n",
      "guideseq:157078320-157078\n",
      "bliss:144458273-144458\n",
      "guideseq:144458273-144458\n"
     ]
    },
    {
     "data": {
      "text/plain": [
       "name                           VEGFA_site3\n",
       "sequence           AGGGAGTGAGTGTGAGAGTGCGG\n",
       "chrom                                 chr6\n",
       "chromStart                       144458273\n",
       "chromEnd                         144458296\n",
       "strand                                   +\n",
       "mismatch                                 4\n",
       "guide-seq_reads                          4\n",
       "target_length                           23\n",
       "Name: 229, dtype: object"
      ]
     },
     "metadata": {},
     "output_type": "display_data"
    },
    {
     "name": "stdout",
     "output_type": "stream",
     "text": [
      "bliss:22932496-22932\n",
      "guideseq:22932496-22932\n"
     ]
    },
    {
     "data": {
      "text/plain": [
       "name                           VEGFA_site3\n",
       "sequence           TGTGAGTGAGTGTGTGTGTGTGA\n",
       "chrom                                 chr8\n",
       "chromStart                        22932496\n",
       "chromEnd                          22932519\n",
       "strand                                   -\n",
       "mismatch                                 3\n",
       "guide-seq_reads                        111\n",
       "target_length                           23\n",
       "Name: 193, dtype: object"
      ]
     },
     "metadata": {},
     "output_type": "display_data"
    },
    {
     "name": "stdout",
     "output_type": "stream",
     "text": [
      "bliss:47732485-47732\n",
      "guideseq:40561860-40561\n",
      "bliss:47732485-47732\n",
      "guideseq:47732485-47732\n"
     ]
    },
    {
     "data": {
      "text/plain": [
       "name                           VEGFA_site3\n",
       "sequence           CTGGAGTGAGTGTGTGTGTGTGG\n",
       "chrom                                chr19\n",
       "chromStart                        47732485\n",
       "chromEnd                          47732508\n",
       "strand                                   -\n",
       "mismatch                                 4\n",
       "guide-seq_reads                        193\n",
       "target_length                           23\n",
       "Name: 189, dtype: object"
      ]
     },
     "metadata": {},
     "output_type": "display_data"
    },
    {
     "name": "stdout",
     "output_type": "stream",
     "text": [
      "bliss:79178505-79178\n",
      "guideseq:68851125-68851\n",
      "bliss:79178505-79178\n",
      "guideseq:79178505-79178\n"
     ]
    },
    {
     "data": {
      "text/plain": [
       "name                           VEGFA_site3\n",
       "sequence           AGTGAGTGAGTGAGTGAGTGGGG\n",
       "chrom                                chr11\n",
       "chromStart                        79178505\n",
       "chromEnd                          79178528\n",
       "strand                                   +\n",
       "mismatch                                 3\n",
       "guide-seq_reads                         32\n",
       "target_length                           23\n",
       "Name: 207, dtype: object"
      ]
     },
     "metadata": {},
     "output_type": "display_data"
    },
    {
     "name": "stdout",
     "output_type": "stream",
     "text": [
      "bliss:230506234-230506\n",
      "guideseq:73317043-73317\n",
      "bliss:230506234-230506\n",
      "guideseq:177463419-177463\n",
      "bliss:230506234-230506\n",
      "guideseq:230506234-230506\n"
     ]
    },
    {
     "data": {
      "text/plain": [
       "name                           VEGFA_site3\n",
       "sequence           GGTGAGCAAGTGTGTGTGTGTGG\n",
       "chrom                                 chr2\n",
       "chromStart                       230506234\n",
       "chromEnd                         230506257\n",
       "strand                                   -\n",
       "mismatch                                 3\n",
       "guide-seq_reads                         20\n",
       "target_length                           23\n",
       "Name: 212, dtype: object"
      ]
     },
     "metadata": {},
     "output_type": "display_data"
    },
    {
     "name": "stdout",
     "output_type": "stream",
     "text": [
      "bliss:71632802-71632\n",
      "guideseq:193993877-193993\n",
      "bliss:71632802-71632\n",
      "guideseq:71632802-71632\n"
     ]
    },
    {
     "data": {
      "text/plain": [
       "name                           VEGFA_site3\n",
       "sequence           CGCGAGTGAGTGTGTGCGCGGGG\n",
       "chrom                                 chr3\n",
       "chromStart                        71632802\n",
       "chromEnd                          71632825\n",
       "strand                                   -\n",
       "mismatch                                 3\n",
       "guide-seq_reads                        215\n",
       "target_length                           23\n",
       "Name: 187, dtype: object"
      ]
     },
     "metadata": {},
     "output_type": "display_data"
    },
    {
     "name": "stdout",
     "output_type": "stream",
     "text": [
      "bliss:157078320-157078\n",
      "guideseq:43737453-43737\n",
      "bliss:157078320-157078\n",
      "guideseq:157078320-157078\n"
     ]
    },
    {
     "data": {
      "text/plain": [
       "name                           VEGFA_site3\n",
       "sequence           GATGAGTGAGTGAGTGAGTGGGG\n",
       "chrom                                 chr6\n",
       "chromStart                       157078320\n",
       "chromEnd                         157078343\n",
       "strand                                   -\n",
       "mismatch                                 3\n",
       "guide-seq_reads                         37\n",
       "target_length                           23\n",
       "Name: 202, dtype: object"
      ]
     },
     "metadata": {},
     "output_type": "display_data"
    },
    {
     "name": "stdout",
     "output_type": "stream",
     "text": [
      "bliss:47690887-47690\n",
      "guideseq:48305031-48305\n",
      "bliss:47690887-47690\n",
      "guideseq:181557186-181557\n",
      "bliss:47690887-47690\n",
      "guideseq:32738746-32738\n",
      "bliss:47690887-47690\n",
      "guideseq:47690887-47690\n"
     ]
    },
    {
     "data": {
      "text/plain": [
       "name                           VEGFA_site3\n",
       "sequence           TGTGAGAGAGAGTGTGCGTGTGG\n",
       "chrom                                 chr1\n",
       "chromStart                        47690887\n",
       "chromEnd                          47690910\n",
       "strand                                   -\n",
       "mismatch                                 3\n",
       "guide-seq_reads                          3\n",
       "target_length                           23\n",
       "Name: 233, dtype: object"
      ]
     },
     "metadata": {},
     "output_type": "display_data"
    },
    {
     "name": "stdout",
     "output_type": "stream",
     "text": [
      "bliss:1716774-1716\n",
      "guideseq:40561860-40561\n",
      "bliss:1716774-1716\n",
      "guideseq:47732485-47732\n",
      "bliss:1716774-1716\n",
      "guideseq:1716774-1716\n"
     ]
    },
    {
     "data": {
      "text/plain": [
       "name                           VEGFA_site3\n",
       "sequence           CATGAGTGAGTGTGTGGGTGGGG\n",
       "chrom                                chr19\n",
       "chromStart                         1716774\n",
       "chromEnd                           1716797\n",
       "strand                                   +\n",
       "mismatch                                 3\n",
       "guide-seq_reads                         45\n",
       "target_length                           23\n",
       "Name: 200, dtype: object"
      ]
     },
     "metadata": {},
     "output_type": "display_data"
    },
    {
     "name": "stdout",
     "output_type": "stream",
     "text": [
      "bliss:12264595-12264\n",
      "guideseq:80016313-80016\n",
      "bliss:12264595-12264\n",
      "guideseq:84032639-84032\n",
      "bliss:12264595-12264\n",
      "guideseq:73585908-73585\n",
      "bliss:12264595-12264\n",
      "guideseq:74898113-74898\n",
      "bliss:12264595-12264\n",
      "guideseq:12264595-12264\n"
     ]
    },
    {
     "data": {
      "text/plain": [
       "name                           VEGFA_site3\n",
       "sequence           AGTGAGTGAGTGTGTGTGTGTGA\n",
       "chrom                                chr16\n",
       "chromStart                        12264595\n",
       "chromEnd                          12264618\n",
       "strand                                   +\n",
       "mismatch                                 3\n",
       "guide-seq_reads                          6\n",
       "target_length                           23\n",
       "Name: 225, dtype: object"
      ]
     },
     "metadata": {},
     "output_type": "display_data"
    },
    {
     "name": "stdout",
     "output_type": "stream",
     "text": [
      "bliss:18696207-18696\n",
      "guideseq:73317043-73317\n",
      "bliss:18696207-18696\n",
      "guideseq:177463419-177463\n",
      "bliss:18696207-18696\n",
      "guideseq:230506234-230506\n",
      "bliss:18696207-18696\n",
      "guideseq:18696207-18696\n"
     ]
    },
    {
     "data": {
      "text/plain": [
       "name                           VEGFA_site3\n",
       "sequence           AGTGAGAAAGTGTGTGCATGCGG\n",
       "chrom                                 chr2\n",
       "chromStart                        18696207\n",
       "chromEnd                          18696230\n",
       "strand                                   +\n",
       "mismatch                                 4\n",
       "guide-seq_reads                          9\n",
       "target_length                           23\n",
       "Name: 223, dtype: object"
      ]
     },
     "metadata": {},
     "output_type": "display_data"
    },
    {
     "name": "stdout",
     "output_type": "stream",
     "text": [
      "bliss:73160981-73160\n",
      "guideseq:73160981-73160\n"
     ]
    },
    {
     "data": {
      "text/plain": [
       "name                                  EMX1\n",
       "sequence           GAGTCCGAGCAGAAGAAGAAGGG\n",
       "chrom                                 chr2\n",
       "chromStart                        73160981\n",
       "chromEnd                          73161004\n",
       "strand                                   +\n",
       "mismatch                                 0\n",
       "guide-seq_reads                       4521\n",
       "target_length                           23\n",
       "Name: 234, dtype: object"
      ]
     },
     "metadata": {},
     "output_type": "display_data"
    },
    {
     "name": "stdout",
     "output_type": "stream",
     "text": [
      "bliss:45359060-45359\n",
      "guideseq:45359060-45359\n"
     ]
    },
    {
     "data": {
      "text/plain": [
       "name                                  EMX1\n",
       "sequence           GAGTTAGAGCAGAAGAAGAAAGG\n",
       "chrom                                 chr5\n",
       "chromStart                        45359060\n",
       "chromEnd                          45359083\n",
       "strand                                   -\n",
       "mismatch                                 2\n",
       "guide-seq_reads                       3123\n",
       "target_length                           23\n",
       "Name: 235, dtype: object"
      ]
     },
     "metadata": {},
     "output_type": "display_data"
    },
    {
     "name": "stdout",
     "output_type": "stream",
     "text": [
      "bliss:44109746-44109\n",
      "guideseq:44109746-44109\n"
     ]
    },
    {
     "data": {
      "text/plain": [
       "name                                  EMX1\n",
       "sequence           GAGTCTAAGCAGAAGAAGAAGAG\n",
       "chrom                                chr15\n",
       "chromStart                        44109746\n",
       "chromEnd                          44109769\n",
       "strand                                   +\n",
       "mismatch                                 3\n",
       "guide-seq_reads                       1445\n",
       "target_length                           23\n",
       "Name: 236, dtype: object"
      ]
     },
     "metadata": {},
     "output_type": "display_data"
    },
    {
     "name": "stdout",
     "output_type": "stream",
     "text": [
      "bliss:128801241-128801\n",
      "guideseq:128801241-128801\n"
     ]
    },
    {
     "data": {
      "text/plain": [
       "name                                  EMX1\n",
       "sequence           GAGTCCTAGCAGGAGAAGAAGAG\n",
       "chrom                                 chr8\n",
       "chromStart                       128801241\n",
       "chromEnd                         128801264\n",
       "strand                                   +\n",
       "mismatch                                 3\n",
       "guide-seq_reads                        390\n",
       "target_length                           23\n",
       "Name: 238, dtype: object"
      ]
     },
     "metadata": {},
     "output_type": "display_data"
    },
    {
     "name": "stdout",
     "output_type": "stream",
     "text": [
      "bliss:219845055-219845\n",
      "guideseq:73160981-73160\n",
      "bliss:219845055-219845\n",
      "guideseq:219845055-219845\n"
     ]
    },
    {
     "data": {
      "text/plain": [
       "name                                  EMX1\n",
       "sequence           GAGGCCGAGCAGAAGAAAGACGG\n",
       "chrom                                 chr2\n",
       "chromStart                       219845055\n",
       "chromEnd                         219845078\n",
       "strand                                   +\n",
       "mismatch                                 3\n",
       "guide-seq_reads                        700\n",
       "target_length                           23\n",
       "Name: 237, dtype: object"
      ]
     },
     "metadata": {},
     "output_type": "display_data"
    },
    {
     "name": "stdout",
     "output_type": "stream",
     "text": [
      "bliss:9227145-9227\n",
      "guideseq:45359060-45359\n",
      "bliss:9227145-9227\n",
      "guideseq:9227145-9227\n"
     ]
    },
    {
     "data": {
      "text/plain": [
       "name                                  EMX1\n",
       "sequence           AAGTCTGAGCACAAGAAGAATGG\n",
       "chrom                                 chr5\n",
       "chromStart                         9227145\n",
       "chromEnd                           9227168\n",
       "strand                                   +\n",
       "mismatch                                 3\n",
       "guide-seq_reads                        258\n",
       "target_length                           23\n",
       "Name: 239, dtype: object"
      ]
     },
     "metadata": {},
     "output_type": "display_data"
    },
    {
     "name": "stdout",
     "output_type": "stream",
     "text": [
      "bliss:9118792-9118\n",
      "guideseq:9118792-9118\n"
     ]
    },
    {
     "data": {
      "text/plain": [
       "name                                  EMX1\n",
       "sequence           ACGTCTGAGCAGAAGAAGAATGG\n",
       "chrom                                 chr6\n",
       "chromStart                         9118792\n",
       "chromEnd                           9118815\n",
       "strand                                   -\n",
       "mismatch                                 3\n",
       "guide-seq_reads                         38\n",
       "target_length                           23\n",
       "Name: 244, dtype: object"
      ]
     },
     "metadata": {},
     "output_type": "display_data"
    },
    {
     "name": "stdout",
     "output_type": "stream",
     "text": [
      "bliss:23720611-23720\n",
      "guideseq:23720611-23720\n"
     ]
    },
    {
     "data": {
      "text/plain": [
       "name                                  EMX1\n",
       "sequence           AAGTCCGAGGAGAGGAAGAAAGG\n",
       "chrom                                 chr1\n",
       "chromStart                        23720611\n",
       "chromEnd                          23720634\n",
       "strand                                   -\n",
       "mismatch                                 3\n",
       "guide-seq_reads                        102\n",
       "target_length                           23\n",
       "Name: 242, dtype: object"
      ]
     },
     "metadata": {},
     "output_type": "display_data"
    },
    {
     "name": "stdout",
     "output_type": "stream",
     "text": [
      "bliss:100292461-100292\n",
      "guideseq:44109746-44109\n",
      "bliss:100292461-100292\n",
      "guideseq:100292461-100292\n"
     ]
    },
    {
     "data": {
      "text/plain": [
       "name                                  EMX1\n",
       "sequence           AAGTCCCGGCAGAGGAAGAAGGG\n",
       "chrom                                chr15\n",
       "chromStart                       100292461\n",
       "chromEnd                         100292484\n",
       "strand                                   +\n",
       "mismatch                                 4\n",
       "guide-seq_reads                          6\n",
       "target_length                           23\n",
       "Name: 246, dtype: object"
      ]
     },
     "metadata": {},
     "output_type": "display_data"
    },
    {
     "name": "stdout",
     "output_type": "stream",
     "text": [
      "bliss:43737453-43737\n",
      "guideseq:43737453-43737\n"
     ]
    },
    {
     "data": {
      "text/plain": [
       "name                           VEGFA_site3\n",
       "sequence           GGTGAGTGAGTGTGTGCGTGTGG\n",
       "chrom                                 chr6\n",
       "chromStart                        43737453\n",
       "chromEnd                          43737476\n",
       "strand                                   +\n",
       "mismatch                                 0\n",
       "guide-seq_reads                       2440\n",
       "target_length                           23\n",
       "Name: 176, dtype: object"
      ]
     },
     "metadata": {},
     "output_type": "display_data"
    },
    {
     "name": "stdout",
     "output_type": "stream",
     "text": [
      "bliss:115434658-115434\n",
      "guideseq:89440962-89440\n",
      "bliss:115434658-115434\n",
      "guideseq:115434658-115434\n"
     ]
    },
    {
     "data": {
      "text/plain": [
       "name                           VEGFA_site3\n",
       "sequence           TGTGGGTGAGTGTGTGCGTGAGG\n",
       "chrom                                 chr5\n",
       "chromStart                       115434658\n",
       "chromEnd                         115434681\n",
       "strand                                   +\n",
       "mismatch                                 2\n",
       "guide-seq_reads                       2200\n",
       "target_length                           23\n",
       "Name: 177, dtype: object"
      ]
     },
     "metadata": {},
     "output_type": "display_data"
    },
    {
     "name": "stdout",
     "output_type": "stream",
     "text": [
      "bliss:89440962-89440\n",
      "guideseq:89440962-89440\n"
     ]
    },
    {
     "data": {
      "text/plain": [
       "name                           VEGFA_site3\n",
       "sequence           AGAGAGTGAGTGTGTGCATGAGG\n",
       "chrom                                 chr5\n",
       "chromStart                        89440962\n",
       "chromEnd                          89440985\n",
       "strand                                   -\n",
       "mismatch                                 3\n",
       "guide-seq_reads                       2559\n",
       "target_length                           23\n",
       "Name: 175, dtype: object"
      ]
     },
     "metadata": {},
     "output_type": "display_data"
    },
    {
     "name": "stdout",
     "output_type": "stream",
     "text": [
      "bliss:74353479-74353\n",
      "guideseq:65569152-65569\n",
      "bliss:74353479-74353\n",
      "guideseq:62078766-62078\n",
      "bliss:74353479-74353\n",
      "guideseq:74353479-74353\n"
     ]
    },
    {
     "data": {
      "text/plain": [
       "name                           VEGFA_site3\n",
       "sequence           AGCGAGTGGGTGTGTGCGTGGGG\n",
       "chrom                                chr14\n",
       "chromStart                        74353479\n",
       "chromEnd                          74353502\n",
       "strand                                   +\n",
       "mismatch                                 3\n",
       "guide-seq_reads                        790\n",
       "target_length                           23\n",
       "Name: 184, dtype: object"
      ]
     },
     "metadata": {},
     "output_type": "display_data"
    },
    {
     "name": "stdout",
     "output_type": "stream",
     "text": [
      "bliss:23824547-23824\n",
      "guideseq:23824547-23824\n"
     ]
    },
    {
     "data": {
      "text/plain": [
       "name                           VEGFA_site3\n",
       "sequence           TGTGGGTGAGTGTGTGCGTGAGA\n",
       "chrom                                 chr9\n",
       "chromStart                        23824547\n",
       "chromEnd                          23824570\n",
       "strand                                   -\n",
       "mismatch                                 3\n",
       "guide-seq_reads                        643\n",
       "target_length                           23\n",
       "Name: 186, dtype: object"
      ]
     },
     "metadata": {},
     "output_type": "display_data"
    },
    {
     "name": "stdout",
     "output_type": "stream",
     "text": [
      "bliss:65569152-65569\n",
      "guideseq:65569152-65569\n"
     ]
    },
    {
     "data": {
      "text/plain": [
       "name                           VEGFA_site3\n",
       "sequence           AGTGAGTGAGTGTGTGTGTGGGG\n",
       "chrom                                chr14\n",
       "chromStart                        65569152\n",
       "chromEnd                          65569175\n",
       "strand                                   -\n",
       "mismatch                                 2\n",
       "guide-seq_reads                       3125\n",
       "target_length                           23\n",
       "Name: 174, dtype: object"
      ]
     },
     "metadata": {},
     "output_type": "display_data"
    },
    {
     "name": "stdout",
     "output_type": "stream",
     "text": [
      "bliss:106029014-106029\n",
      "guideseq:65569152-65569\n",
      "bliss:106029014-106029\n",
      "guideseq:62078766-62078\n",
      "bliss:106029014-106029\n",
      "guideseq:74353479-74353\n",
      "bliss:106029014-106029\n",
      "guideseq:106029014-106029\n"
     ]
    },
    {
     "data": {
      "text/plain": [
       "name                           VEGFA_site3\n",
       "sequence           GGTGAGTGAGTGTGTGTGTGAGG\n",
       "chrom                                chr14\n",
       "chromStart                       106029014\n",
       "chromEnd                         106029037\n",
       "strand                                   +\n",
       "mismatch                                 1\n",
       "guide-seq_reads                        199\n",
       "target_length                           23\n",
       "Name: 188, dtype: object"
      ]
     },
     "metadata": {},
     "output_type": "display_data"
    },
    {
     "name": "stdout",
     "output_type": "stream",
     "text": [
      "bliss:98760581-98760\n",
      "guideseq:98760581-98760\n"
     ]
    },
    {
     "data": {
      "text/plain": [
       "name                           VEGFA_site3\n",
       "sequence           GTTGAGTGAATGTGTGCGTGAGG\n",
       "chrom                                chr10\n",
       "chromStart                        98760581\n",
       "chromEnd                          98760604\n",
       "strand                                   -\n",
       "mismatch                                 2\n",
       "guide-seq_reads                       1437\n",
       "target_length                           23\n",
       "Name: 180, dtype: object"
      ]
     },
     "metadata": {},
     "output_type": "display_data"
    },
    {
     "name": "stdout",
     "output_type": "stream",
     "text": [
      "bliss:68851125-68851\n",
      "guideseq:68851125-68851\n"
     ]
    },
    {
     "data": {
      "text/plain": [
       "name                           VEGFA_site3\n",
       "sequence           GGTGAGTGAGTGTGTGCGGGTGG\n",
       "chrom                                chr11\n",
       "chromStart                        68851125\n",
       "chromEnd                          68851148\n",
       "strand                                   +\n",
       "mismatch                                 1\n",
       "guide-seq_reads                       1535\n",
       "target_length                           23\n",
       "Name: 179, dtype: object"
      ]
     },
     "metadata": {},
     "output_type": "display_data"
    },
    {
     "name": "stdout",
     "output_type": "stream",
     "text": [
      "bliss:193993877-193993\n",
      "guideseq:193993877-193993\n"
     ]
    },
    {
     "data": {
      "text/plain": [
       "name                           VEGFA_site3\n",
       "sequence           AGTGAATGAGTGTGTGTGTGTGG\n",
       "chrom                                 chr3\n",
       "chromStart                       193993877\n",
       "chromEnd                         193993900\n",
       "strand                                   -\n",
       "mismatch                                 3\n",
       "guide-seq_reads                       1315\n",
       "target_length                           23\n",
       "Name: 181, dtype: object"
      ]
     },
     "metadata": {},
     "output_type": "display_data"
    },
    {
     "name": "stdout",
     "output_type": "stream",
     "text": [
      "bliss:130228336-130228\n",
      "guideseq:98760581-98760\n",
      "bliss:130228336-130228\n",
      "guideseq:5749650-5749\n",
      "bliss:130228336-130228\n",
      "guideseq:130228336-130228\n"
     ]
    },
    {
     "data": {
      "text/plain": [
       "name                           VEGFA_site3\n",
       "sequence           AGGGAGTGACTGTGTGCGTGTGG\n",
       "chrom                                chr10\n",
       "chromStart                       130228336\n",
       "chromEnd                         130228359\n",
       "strand                                   +\n",
       "mismatch                                 3\n",
       "guide-seq_reads                         24\n",
       "target_length                           23\n",
       "Name: 210, dtype: object"
      ]
     },
     "metadata": {},
     "output_type": "display_data"
    },
    {
     "name": "stdout",
     "output_type": "stream",
     "text": [
      "bliss:50724387-50724\n",
      "guideseq:20178277-20178\n",
      "bliss:50724387-50724\n",
      "guideseq:50724387-50724\n"
     ]
    },
    {
     "data": {
      "text/plain": [
       "name                           VEGFA_site3\n",
       "sequence           CGTGAGTGAGTGTGTACCTGGGG\n",
       "chrom                                chr20\n",
       "chromStart                        50724387\n",
       "chromEnd                          50724410\n",
       "strand                                   +\n",
       "mismatch                                 3\n",
       "guide-seq_reads                         19\n",
       "target_length                           23\n",
       "Name: 213, dtype: object"
      ]
     },
     "metadata": {},
     "output_type": "display_data"
    },
    {
     "name": "stdout",
     "output_type": "stream",
     "text": [
      "bliss:177463419-177463\n",
      "guideseq:73317043-73317\n",
      "bliss:177463419-177463\n",
      "guideseq:177463419-177463\n"
     ]
    },
    {
     "data": {
      "text/plain": [
       "name                           VEGFA_site3\n",
       "sequence           GGTGAGTGTGTGTGTGCATGTGG\n",
       "chrom                                 chr2\n",
       "chromStart                       177463419\n",
       "chromEnd                         177463442\n",
       "strand                                   -\n",
       "mismatch                                 2\n",
       "guide-seq_reads                         33\n",
       "target_length                           23\n",
       "Name: 205, dtype: object"
      ]
     },
     "metadata": {},
     "output_type": "display_data"
    },
    {
     "name": "stdout",
     "output_type": "stream",
     "text": [
      "bliss:84032639-84032\n",
      "guideseq:80016313-80016\n",
      "bliss:84032639-84032\n",
      "guideseq:84032639-84032\n"
     ]
    },
    {
     "data": {
      "text/plain": [
       "name                           VEGFA_site3\n",
       "sequence           GGTGAATGAGTGTGTGCTCTGGG\n",
       "chrom                                chr16\n",
       "chromStart                        84032639\n",
       "chromEnd                          84032662\n",
       "strand                                   -\n",
       "mismatch                                 4\n",
       "guide-seq_reads                         26\n",
       "target_length                           23\n",
       "Name: 209, dtype: object"
      ]
     },
     "metadata": {},
     "output_type": "display_data"
    },
    {
     "name": "stdout",
     "output_type": "stream",
     "text": [
      "bliss:6109015-6109\n",
      "guideseq:40561860-40561\n",
      "bliss:6109015-6109\n",
      "guideseq:47732485-47732\n",
      "bliss:6109015-6109\n",
      "guideseq:1716774-1716\n",
      "bliss:6109015-6109\n",
      "guideseq:17594216-17594\n",
      "bliss:6109015-6109\n",
      "guideseq:6109015-6109\n"
     ]
    },
    {
     "data": {
      "text/plain": [
       "name                           VEGFA_site3\n",
       "sequence           TGTGAGTGAGTGTGTGTGTGTGA\n",
       "chrom                                chr19\n",
       "chromStart                         6109015\n",
       "chromEnd                           6109038\n",
       "strand                                   +\n",
       "mismatch                                 3\n",
       "guide-seq_reads                          6\n",
       "target_length                           23\n",
       "Name: 226, dtype: object"
      ]
     },
     "metadata": {},
     "output_type": "display_data"
    },
    {
     "name": "stdout",
     "output_type": "stream",
     "text": [
      "bliss:20178277-20178\n",
      "guideseq:20178277-20178\n"
     ]
    },
    {
     "data": {
      "text/plain": [
       "name                           VEGFA_site3\n",
       "sequence           AGTGTGTGAGTGTGTGCGTGTGG\n",
       "chrom                                chr20\n",
       "chromStart                        20178277\n",
       "chromEnd                          20178300\n",
       "strand                                   -\n",
       "mismatch                                 2\n",
       "guide-seq_reads                        686\n",
       "target_length                           23\n",
       "Name: 185, dtype: object"
      ]
     },
     "metadata": {},
     "output_type": "display_data"
    },
    {
     "name": "stdout",
     "output_type": "stream",
     "text": [
      "bliss:48997788-48997\n",
      "guideseq:22932496-22932\n",
      "bliss:48997788-48997\n",
      "guideseq:48997788-48997\n"
     ]
    },
    {
     "data": {
      "text/plain": [
       "name                           VEGFA_site3\n",
       "sequence           GTAGAGTGAGTGTGTGTGTGTGG\n",
       "chrom                                 chr8\n",
       "chromStart                        48997788\n",
       "chromEnd                          48997811\n",
       "strand                                   +\n",
       "mismatch                                 3\n",
       "guide-seq_reads                         82\n",
       "target_length                           23\n",
       "Name: 197, dtype: object"
      ]
     },
     "metadata": {},
     "output_type": "display_data"
    },
    {
     "name": "stdout",
     "output_type": "stream",
     "text": [
      "bliss:74103157-74103\n",
      "guideseq:74103157-74103\n"
     ]
    },
    {
     "data": {
      "text/plain": [
       "name                           VEGFA_site3\n",
       "sequence           GGTGAGTAAGTGTGAGCGTAAGG\n",
       "chrom                                chr18\n",
       "chromStart                        74103157\n",
       "chromEnd                          74103180\n",
       "strand                                   +\n",
       "mismatch                                 3\n",
       "guide-seq_reads                         33\n",
       "target_length                           23\n",
       "Name: 206, dtype: object"
      ]
     },
     "metadata": {},
     "output_type": "display_data"
    },
    {
     "name": "stdout",
     "output_type": "stream",
     "text": [
      "bliss:62078766-62078\n",
      "guideseq:65569152-65569\n",
      "bliss:62078766-62078\n",
      "guideseq:62078766-62078\n"
     ]
    },
    {
     "data": {
      "text/plain": [
       "name                           VEGFA_site3\n",
       "sequence           TGTGAGTAAGTGTGTGTGTGTGG\n",
       "chrom                                chr14\n",
       "chromStart                        62078766\n",
       "chromEnd                          62078789\n",
       "strand                                   -\n",
       "mismatch                                 3\n",
       "guide-seq_reads                       1170\n",
       "target_length                           23\n",
       "Name: 182, dtype: object"
      ]
     },
     "metadata": {},
     "output_type": "display_data"
    },
    {
     "name": "stdout",
     "output_type": "stream",
     "text": [
      "bliss:40561860-40561\n",
      "guideseq:40561860-40561\n"
     ]
    },
    {
     "data": {
      "text/plain": [
       "name                           VEGFA_site3\n",
       "sequence           ACTGTGTGAGTGTGTGCGTGAGG\n",
       "chrom                                chr19\n",
       "chromStart                        40561860\n",
       "chromEnd                          40561883\n",
       "strand                                   -\n",
       "mismatch                                 3\n",
       "guide-seq_reads                        796\n",
       "target_length                           23\n",
       "Name: 183, dtype: object"
      ]
     },
     "metadata": {},
     "output_type": "display_data"
    },
    {
     "name": "stdout",
     "output_type": "stream",
     "text": [
      "bliss:144458273-144458\n",
      "guideseq:43737453-43737\n",
      "bliss:144458273-144458\n",
      "guideseq:157078320-157078\n",
      "bliss:144458273-144458\n",
      "guideseq:144458273-144458\n"
     ]
    },
    {
     "data": {
      "text/plain": [
       "name                           VEGFA_site3\n",
       "sequence           AGGGAGTGAGTGTGAGAGTGCGG\n",
       "chrom                                 chr6\n",
       "chromStart                       144458273\n",
       "chromEnd                         144458296\n",
       "strand                                   +\n",
       "mismatch                                 4\n",
       "guide-seq_reads                          4\n",
       "target_length                           23\n",
       "Name: 229, dtype: object"
      ]
     },
     "metadata": {},
     "output_type": "display_data"
    },
    {
     "name": "stdout",
     "output_type": "stream",
     "text": [
      "bliss:22932496-22932\n",
      "guideseq:22932496-22932\n"
     ]
    },
    {
     "data": {
      "text/plain": [
       "name                           VEGFA_site3\n",
       "sequence           TGTGAGTGAGTGTGTGTGTGTGA\n",
       "chrom                                 chr8\n",
       "chromStart                        22932496\n",
       "chromEnd                          22932519\n",
       "strand                                   -\n",
       "mismatch                                 3\n",
       "guide-seq_reads                        111\n",
       "target_length                           23\n",
       "Name: 193, dtype: object"
      ]
     },
     "metadata": {},
     "output_type": "display_data"
    },
    {
     "name": "stdout",
     "output_type": "stream",
     "text": [
      "bliss:47732485-47732\n",
      "guideseq:40561860-40561\n",
      "bliss:47732485-47732\n",
      "guideseq:47732485-47732\n"
     ]
    },
    {
     "data": {
      "text/plain": [
       "name                           VEGFA_site3\n",
       "sequence           CTGGAGTGAGTGTGTGTGTGTGG\n",
       "chrom                                chr19\n",
       "chromStart                        47732485\n",
       "chromEnd                          47732508\n",
       "strand                                   -\n",
       "mismatch                                 4\n",
       "guide-seq_reads                        193\n",
       "target_length                           23\n",
       "Name: 189, dtype: object"
      ]
     },
     "metadata": {},
     "output_type": "display_data"
    },
    {
     "name": "stdout",
     "output_type": "stream",
     "text": [
      "bliss:79178505-79178\n",
      "guideseq:68851125-68851\n",
      "bliss:79178505-79178\n",
      "guideseq:79178505-79178\n"
     ]
    },
    {
     "data": {
      "text/plain": [
       "name                           VEGFA_site3\n",
       "sequence           AGTGAGTGAGTGAGTGAGTGGGG\n",
       "chrom                                chr11\n",
       "chromStart                        79178505\n",
       "chromEnd                          79178528\n",
       "strand                                   +\n",
       "mismatch                                 3\n",
       "guide-seq_reads                         32\n",
       "target_length                           23\n",
       "Name: 207, dtype: object"
      ]
     },
     "metadata": {},
     "output_type": "display_data"
    },
    {
     "name": "stdout",
     "output_type": "stream",
     "text": [
      "bliss:230506234-230506\n",
      "guideseq:73317043-73317\n",
      "bliss:230506234-230506\n",
      "guideseq:177463419-177463\n",
      "bliss:230506234-230506\n",
      "guideseq:230506234-230506\n"
     ]
    },
    {
     "data": {
      "text/plain": [
       "name                           VEGFA_site3\n",
       "sequence           GGTGAGCAAGTGTGTGTGTGTGG\n",
       "chrom                                 chr2\n",
       "chromStart                       230506234\n",
       "chromEnd                         230506257\n",
       "strand                                   -\n",
       "mismatch                                 3\n",
       "guide-seq_reads                         20\n",
       "target_length                           23\n",
       "Name: 212, dtype: object"
      ]
     },
     "metadata": {},
     "output_type": "display_data"
    },
    {
     "name": "stdout",
     "output_type": "stream",
     "text": [
      "bliss:71632802-71632\n",
      "guideseq:193993877-193993\n",
      "bliss:71632802-71632\n",
      "guideseq:71632802-71632\n"
     ]
    },
    {
     "data": {
      "text/plain": [
       "name                           VEGFA_site3\n",
       "sequence           CGCGAGTGAGTGTGTGCGCGGGG\n",
       "chrom                                 chr3\n",
       "chromStart                        71632802\n",
       "chromEnd                          71632825\n",
       "strand                                   -\n",
       "mismatch                                 3\n",
       "guide-seq_reads                        215\n",
       "target_length                           23\n",
       "Name: 187, dtype: object"
      ]
     },
     "metadata": {},
     "output_type": "display_data"
    },
    {
     "name": "stdout",
     "output_type": "stream",
     "text": [
      "bliss:157078320-157078\n",
      "guideseq:43737453-43737\n",
      "bliss:157078320-157078\n",
      "guideseq:157078320-157078\n"
     ]
    },
    {
     "data": {
      "text/plain": [
       "name                           VEGFA_site3\n",
       "sequence           GATGAGTGAGTGAGTGAGTGGGG\n",
       "chrom                                 chr6\n",
       "chromStart                       157078320\n",
       "chromEnd                         157078343\n",
       "strand                                   -\n",
       "mismatch                                 3\n",
       "guide-seq_reads                         37\n",
       "target_length                           23\n",
       "Name: 202, dtype: object"
      ]
     },
     "metadata": {},
     "output_type": "display_data"
    },
    {
     "name": "stdout",
     "output_type": "stream",
     "text": [
      "bliss:47690887-47690\n",
      "guideseq:48305031-48305\n",
      "bliss:47690887-47690\n",
      "guideseq:181557186-181557\n",
      "bliss:47690887-47690\n",
      "guideseq:32738746-32738\n",
      "bliss:47690887-47690\n",
      "guideseq:47690887-47690\n"
     ]
    },
    {
     "data": {
      "text/plain": [
       "name                           VEGFA_site3\n",
       "sequence           TGTGAGAGAGAGTGTGCGTGTGG\n",
       "chrom                                 chr1\n",
       "chromStart                        47690887\n",
       "chromEnd                          47690910\n",
       "strand                                   -\n",
       "mismatch                                 3\n",
       "guide-seq_reads                          3\n",
       "target_length                           23\n",
       "Name: 233, dtype: object"
      ]
     },
     "metadata": {},
     "output_type": "display_data"
    },
    {
     "name": "stdout",
     "output_type": "stream",
     "text": [
      "bliss:1716774-1716\n",
      "guideseq:40561860-40561\n",
      "bliss:1716774-1716\n",
      "guideseq:47732485-47732\n",
      "bliss:1716774-1716\n",
      "guideseq:1716774-1716\n"
     ]
    },
    {
     "data": {
      "text/plain": [
       "name                           VEGFA_site3\n",
       "sequence           CATGAGTGAGTGTGTGGGTGGGG\n",
       "chrom                                chr19\n",
       "chromStart                         1716774\n",
       "chromEnd                           1716797\n",
       "strand                                   +\n",
       "mismatch                                 3\n",
       "guide-seq_reads                         45\n",
       "target_length                           23\n",
       "Name: 200, dtype: object"
      ]
     },
     "metadata": {},
     "output_type": "display_data"
    },
    {
     "name": "stdout",
     "output_type": "stream",
     "text": [
      "bliss:12264595-12264\n",
      "guideseq:80016313-80016\n",
      "bliss:12264595-12264\n",
      "guideseq:84032639-84032\n",
      "bliss:12264595-12264\n",
      "guideseq:73585908-73585\n",
      "bliss:12264595-12264\n",
      "guideseq:74898113-74898\n",
      "bliss:12264595-12264\n",
      "guideseq:12264595-12264\n"
     ]
    },
    {
     "data": {
      "text/plain": [
       "name                           VEGFA_site3\n",
       "sequence           AGTGAGTGAGTGTGTGTGTGTGA\n",
       "chrom                                chr16\n",
       "chromStart                        12264595\n",
       "chromEnd                          12264618\n",
       "strand                                   +\n",
       "mismatch                                 3\n",
       "guide-seq_reads                          6\n",
       "target_length                           23\n",
       "Name: 225, dtype: object"
      ]
     },
     "metadata": {},
     "output_type": "display_data"
    },
    {
     "name": "stdout",
     "output_type": "stream",
     "text": [
      "bliss:18696207-18696\n",
      "guideseq:73317043-73317\n",
      "bliss:18696207-18696\n",
      "guideseq:177463419-177463\n",
      "bliss:18696207-18696\n",
      "guideseq:230506234-230506\n",
      "bliss:18696207-18696\n",
      "guideseq:18696207-18696\n"
     ]
    },
    {
     "data": {
      "text/plain": [
       "name                           VEGFA_site3\n",
       "sequence           AGTGAGAAAGTGTGTGCATGCGG\n",
       "chrom                                 chr2\n",
       "chromStart                        18696207\n",
       "chromEnd                          18696230\n",
       "strand                                   +\n",
       "mismatch                                 4\n",
       "guide-seq_reads                          9\n",
       "target_length                           23\n",
       "Name: 223, dtype: object"
      ]
     },
     "metadata": {},
     "output_type": "display_data"
    }
   ],
   "source": [
    "bliss[\"chromStart\"]= bliss.apply(lambda row: adjust_seq(row)[\"chromStart\"],axis=1)\n",
    "bliss[\"chromEnd\"]= bliss.apply(lambda row: adjust_seq(row)[\"chromEnd\"],axis=1)\n",
    "bliss[\"sequence\"]= bliss.apply(lambda row: adjust_seq(row)[\"sequence\"],axis=1)\n",
    "bliss[\"mismatch\"]= bliss.apply(lambda row: adjust_seq(row)[\"mismatch\"],axis=1)\n",
    "bliss[\"strand\"]= bliss.apply(lambda row: adjust_seq(row)[\"strand\"],axis=1)\n",
    "bliss[\"target_length\"]= bliss.apply(lambda row: adjust_seq(row)[\"target_length\"],axis=1)\n"
   ]
  },
  {
   "cell_type": "code",
   "execution_count": 11,
   "id": "02f79082-e738-4763-9261-6d1aa3083242",
   "metadata": {},
   "outputs": [],
   "source": [
    "bliss_guideseq = pd.merge(left=bliss,right=guideseq,on=[\"name\",\"chromStart\",\"chromEnd\",\"chrom\",\"sequence\",\"mismatch\",\"target_length\",\"strand\"],how=\"outer\",indicator=True)\n",
    "bliss_guideseq.loc[bliss_guideseq[\"_merge\"]==\"right_only\",\"guideseq\"]=1\n",
    "bliss_guideseq[\"bliss\"]=bliss_guideseq[\"_merge\"].apply(lambda x: 0 if x==\"right_only\" else 1)\n",
    "bliss_guideseq= bliss_guideseq[['name', 'sequence', 'chrom', 'chromStart', 'chromEnd', 'strand','target_length',\n",
    "       'mismatch', 'dsb_score', 'guide_homology_score', 'guide-seq_reads' ,'guideseq','bliss'\n",
    "      , '_merge' ]]"
   ]
  },
  {
   "cell_type": "code",
   "execution_count": 12,
   "id": "c82b5c1a-3748-4c46-959f-ef0d3ad76efb",
   "metadata": {},
   "outputs": [
    {
     "data": {
      "text/plain": [
       "guideseq\n",
       "1.0    79\n",
       "0.0    18\n",
       "Name: count, dtype: int64"
      ]
     },
     "execution_count": 12,
     "metadata": {},
     "output_type": "execute_result"
    }
   ],
   "source": [
    "bliss_guideseq[\"guideseq\"].value_counts(dropna=False)\n"
   ]
  },
  {
   "cell_type": "code",
   "execution_count": 13,
   "id": "ab21f977-3476-4e37-8979-b6651b5c5200",
   "metadata": {},
   "outputs": [
    {
     "data": {
      "text/plain": [
       "bliss\n",
       "1    61\n",
       "0    36\n",
       "Name: count, dtype: int64"
      ]
     },
     "execution_count": 13,
     "metadata": {},
     "output_type": "execute_result"
    }
   ],
   "source": [
    "bliss_guideseq[\"bliss\"].value_counts(dropna=False)\n"
   ]
  },
  {
   "cell_type": "code",
   "execution_count": 14,
   "id": "ba174b36-78d5-44fb-83db-b1edf619f679",
   "metadata": {},
   "outputs": [
    {
     "name": "stdout",
     "output_type": "stream",
     "text": [
      "VEGFA_site3  :  79\n",
      "only_bliss:17\n",
      "only_guideseq:29\n",
      "both:33\n",
      "Target Sequence:GGTGAGTGAGTGTGTGCGTGTGG\n",
      "chr6:43737453\n",
      "GC content of protospacer:55.00000000000001\n",
      "\n",
      "EMX1  :  18\n",
      "only_bliss:1\n",
      "only_guideseq:7\n",
      "both:10\n",
      "Target Sequence:GAGTCCGAGCAGAAGAAGAAGGG\n",
      "chr2:73160981\n",
      "GC content of protospacer:50.0\n",
      "\n"
     ]
    }
   ],
   "source": [
    "# Creating a data frame for each individual target (gRNA)\n",
    "# Creating a data frame for each individual target (gRNA)\n",
    "names = bliss_guideseq['name'].unique()\n",
    "dfs_bliss_guideseq = {}\n",
    "for name in names:\n",
    "    dfs_bliss_guideseq[name] = bliss_guideseq.loc[bliss_guideseq['name']==name]\n",
    "\n",
    "# Sorting bliss_guideseqframes based on number of Off-targets found \n",
    "dfs_bliss_guideseq_sorted = dict(sorted(dfs_bliss_guideseq.items(),key =lambda x:len(x[1]),reverse=True))\n",
    "#Printing target name, number of OTS\n",
    "#Printing On target sequence \n",
    "tname_tcoordinate={} #target name: target genomic coordinate\n",
    "for name,df in dfs_bliss_guideseq_sorted.items():\n",
    "    print(name,\" : \",len(dfs_bliss_guideseq[name]))\n",
    "    print(f\"only_bliss:{len(df[(df['bliss']==1)&(df['guideseq']==0)])}\")\n",
    "    print(f\"only_guideseq:{len(df[(df['bliss']==0)&(df['guideseq']==1)])}\")\n",
    "    print(f\"both:{len(df[(df['bliss']==1)&(df['guideseq']==1)])}\")\n",
    "\n",
    "    target= df[df['mismatch']==0] \n",
    "    print(f\"Target Sequence:{target['sequence'].values[0]}\")\n",
    "\n",
    "    tchrom= target[\"chrom\"].unique()[0]\n",
    "    tchromStart=target['chromStart'].unique()[0]\n",
    "    print(tchrom+\":\"+str(tchromStart))\n",
    "\n",
    "\n",
    "    print(f\"GC content of protospacer:{GC_content(dfs_bliss_guideseq[name]['sequence'].unique()[0][:-3])}\")\n",
    "\n",
    "    print()"
   ]
  },
  {
   "cell_type": "code",
   "execution_count": 15,
   "id": "1a04f3b4-86ae-42b8-8b5c-a133e1c678e0",
   "metadata": {},
   "outputs": [
    {
     "data": {
      "text/html": [
       "<div>\n",
       "<style scoped>\n",
       "    .dataframe tbody tr th:only-of-type {\n",
       "        vertical-align: middle;\n",
       "    }\n",
       "\n",
       "    .dataframe tbody tr th {\n",
       "        vertical-align: top;\n",
       "    }\n",
       "\n",
       "    .dataframe thead th {\n",
       "        text-align: right;\n",
       "    }\n",
       "</style>\n",
       "<table border=\"1\" class=\"dataframe\">\n",
       "  <thead>\n",
       "    <tr style=\"text-align: right;\">\n",
       "      <th></th>\n",
       "      <th>name</th>\n",
       "      <th>sequence</th>\n",
       "      <th>chrom</th>\n",
       "      <th>chromStart</th>\n",
       "      <th>chromEnd</th>\n",
       "      <th>strand</th>\n",
       "      <th>target_length</th>\n",
       "      <th>mismatch</th>\n",
       "      <th>dsb_score</th>\n",
       "      <th>guide_homology_score</th>\n",
       "      <th>guide-seq_reads</th>\n",
       "      <th>guideseq</th>\n",
       "      <th>bliss</th>\n",
       "      <th>_merge</th>\n",
       "    </tr>\n",
       "  </thead>\n",
       "  <tbody>\n",
       "    <tr>\n",
       "      <th>0</th>\n",
       "      <td>EMX1</td>\n",
       "      <td>GAGTCCGAGCAGAAGAAGAAGGG</td>\n",
       "      <td>chr2</td>\n",
       "      <td>73160981</td>\n",
       "      <td>73161004</td>\n",
       "      <td>+</td>\n",
       "      <td>23</td>\n",
       "      <td>0</td>\n",
       "      <td>14.883283</td>\n",
       "      <td>60.0</td>\n",
       "      <td>4521.0</td>\n",
       "      <td>1.0</td>\n",
       "      <td>1</td>\n",
       "      <td>both</td>\n",
       "    </tr>\n",
       "    <tr>\n",
       "      <th>1</th>\n",
       "      <td>EMX1</td>\n",
       "      <td>GAGTTAGAGCAGAAGAAGAAAGG</td>\n",
       "      <td>chr5</td>\n",
       "      <td>45359060</td>\n",
       "      <td>45359083</td>\n",
       "      <td>-</td>\n",
       "      <td>23</td>\n",
       "      <td>2</td>\n",
       "      <td>3.843422</td>\n",
       "      <td>52.0</td>\n",
       "      <td>3123.0</td>\n",
       "      <td>1.0</td>\n",
       "      <td>1</td>\n",
       "      <td>both</td>\n",
       "    </tr>\n",
       "    <tr>\n",
       "      <th>2</th>\n",
       "      <td>EMX1</td>\n",
       "      <td>GAGTCTAAGCAGAAGAAGAAGAG</td>\n",
       "      <td>chr15</td>\n",
       "      <td>44109746</td>\n",
       "      <td>44109769</td>\n",
       "      <td>+</td>\n",
       "      <td>23</td>\n",
       "      <td>3</td>\n",
       "      <td>3.478468</td>\n",
       "      <td>52.0</td>\n",
       "      <td>1445.0</td>\n",
       "      <td>1.0</td>\n",
       "      <td>1</td>\n",
       "      <td>both</td>\n",
       "    </tr>\n",
       "    <tr>\n",
       "      <th>3</th>\n",
       "      <td>EMX1</td>\n",
       "      <td>GAGTCCTAGCAGGAGAAGAAGAG</td>\n",
       "      <td>chr8</td>\n",
       "      <td>128801241</td>\n",
       "      <td>128801264</td>\n",
       "      <td>+</td>\n",
       "      <td>23</td>\n",
       "      <td>3</td>\n",
       "      <td>1.744937</td>\n",
       "      <td>52.0</td>\n",
       "      <td>390.0</td>\n",
       "      <td>1.0</td>\n",
       "      <td>1</td>\n",
       "      <td>both</td>\n",
       "    </tr>\n",
       "    <tr>\n",
       "      <th>4</th>\n",
       "      <td>EMX1</td>\n",
       "      <td>GAGGCCGAGCAGAAGAAAGACGG</td>\n",
       "      <td>chr2</td>\n",
       "      <td>219845055</td>\n",
       "      <td>219845078</td>\n",
       "      <td>+</td>\n",
       "      <td>23</td>\n",
       "      <td>3</td>\n",
       "      <td>1.003624</td>\n",
       "      <td>48.0</td>\n",
       "      <td>700.0</td>\n",
       "      <td>1.0</td>\n",
       "      <td>1</td>\n",
       "      <td>both</td>\n",
       "    </tr>\n",
       "  </tbody>\n",
       "</table>\n",
       "</div>"
      ],
      "text/plain": [
       "   name                 sequence  chrom chromStart   chromEnd strand  \\\n",
       "0  EMX1  GAGTCCGAGCAGAAGAAGAAGGG   chr2   73160981   73161004      +   \n",
       "1  EMX1  GAGTTAGAGCAGAAGAAGAAAGG   chr5   45359060   45359083      -   \n",
       "2  EMX1  GAGTCTAAGCAGAAGAAGAAGAG  chr15   44109746   44109769      +   \n",
       "3  EMX1  GAGTCCTAGCAGGAGAAGAAGAG   chr8  128801241  128801264      +   \n",
       "4  EMX1  GAGGCCGAGCAGAAGAAAGACGG   chr2  219845055  219845078      +   \n",
       "\n",
       "   target_length  mismatch  dsb_score  guide_homology_score  guide-seq_reads  \\\n",
       "0             23         0  14.883283                  60.0           4521.0   \n",
       "1             23         2   3.843422                  52.0           3123.0   \n",
       "2             23         3   3.478468                  52.0           1445.0   \n",
       "3             23         3   1.744937                  52.0            390.0   \n",
       "4             23         3   1.003624                  48.0            700.0   \n",
       "\n",
       "   guideseq  bliss _merge  \n",
       "0       1.0      1   both  \n",
       "1       1.0      1   both  \n",
       "2       1.0      1   both  \n",
       "3       1.0      1   both  \n",
       "4       1.0      1   both  "
      ]
     },
     "execution_count": 15,
     "metadata": {},
     "output_type": "execute_result"
    }
   ],
   "source": [
    "bliss_guideseq.head()\n"
   ]
  },
  {
   "cell_type": "code",
   "execution_count": null,
   "id": "3d934d77-ed4a-466e-a24c-065b41d93816",
   "metadata": {},
   "outputs": [],
   "source": [
    "pip install matplotlib-venn"
   ]
  },
  {
   "cell_type": "code",
   "execution_count": null,
   "id": "79defdbc-7e15-435e-9084-b139df60b532",
   "metadata": {},
   "outputs": [],
   "source": []
  },
  {
   "cell_type": "code",
   "execution_count": 20,
   "id": "9a4cbad3-b664-4486-a811-de6fe0b64984",
   "metadata": {},
   "outputs": [
    {
     "data": {
      "image/png": "[encoded data removed]",
      "text/plain": [
       "<Figure size 640x480 with 1 Axes>"
      ]
     },
     "metadata": {},
     "output_type": "display_data"
    },
    {
     "data": {
      "image/png": "[encoded data removed]",
      "text/plain": [
       "<Figure size 640x480 with 1 Axes>"
      ]
     },
     "metadata": {},
     "output_type": "display_data"
    }
   ],
   "source": [
    "#Ven diagram\n",
    "from matplotlib_venn import venn2\n",
    "\n",
    "plt.style.use('ggplot')\n",
    "for df in dfs_bliss_guideseq_sorted.values():\n",
    "    #print(df)\n",
    "    name =df['name'].unique()[0]\n",
    "    #print(name)\n",
    "    fig,axs=plt.subplots()    \n",
    "\n",
    "   \n",
    "\n",
    "\n",
    "    guideseq_=df[(df['bliss']==0)&(df['guideseq']==1)]\n",
    "    bliss_=df[(df['bliss']==1)&(df['guideseq']==0)]\n",
    " \n",
    "    both=df[(df['bliss']==1)&(df['guideseq']==1)]\n",
    "    \n",
    "             \n",
    "    v = venn2(subsets=(len(guideseq_),len(bliss_),len(both)), set_labels = ('guideseq','bliss'))\n",
    "    \n",
    "    \n",
    "    plt.title(f\"{name}\")\n",
    "    \n",
    "    \n",
    "    plt.show()\n",
    "    \n",
    "\n",
    "    fig.tight_layout(rect=[0, 0.03, 1, 0.95])\n",
    "    fig.savefig(fr\"plots\\BLISS\\venn_{name}.png\", format='png', dpi=300)\n",
    "\n",
    "    plt.show()\n",
    "\n"
   ]
  },
  {
   "cell_type": "code",
   "execution_count": 21,
   "id": "750ed3b7-557b-4415-b55c-9c75f55a6328",
   "metadata": {},
   "outputs": [
    {
     "data": {
      "image/png": "[encoded data removed]",
      "text/plain": [
       "<Figure size 2000x2500 with 23 Axes>"
      ]
     },
     "metadata": {},
     "output_type": "display_data"
    },
    {
     "data": {
      "image/png": "[encoded data removed]",
      "text/plain": [
       "<Figure size 2000x2500 with 23 Axes>"
      ]
     },
     "metadata": {},
     "output_type": "display_data"
    }
   ],
   "source": [
    "#Stripplot\n",
    "plt.style.use('ggplot')\n",
    "for df in dfs_bliss_guideseq_sorted.values():\n",
    "    #print(df)\n",
    "    name =df['name'].unique()[0]\n",
    "    #print(name)\n",
    "    chroms=df.groupby('chrom')\n",
    "    fig,axs=plt.subplots(24,1,figsize=(20,25),sharex=True)\n",
    "    axs=axs.ravel()\n",
    "    \n",
    "    target= df[df['mismatch']==0] \n",
    "    tchrom= target[\"chrom\"].unique()[0]\n",
    "    tchromStart=target['chromStart'].unique()[0]\n",
    "    \n",
    "    for i in range(23):\n",
    "        if i==22:\n",
    "            chrom='chr'+'X'\n",
    "        else:\n",
    "            chrom= 'chr'+str(i+1)\n",
    "        if chrom not in chroms.indices:\n",
    "            axs[i].xaxis.grid(False)\n",
    "            continue\n",
    "        else:\n",
    "            #print(chrom[0])\n",
    "            axs[i].xaxis.grid(False)\n",
    "\n",
    "            #axs[i].set_xlabel('chromStart')\n",
    "            axs[i].set_title(chrom)\n",
    "            if chrom==tchrom:\n",
    "                #rint('y')\n",
    "                #print(f'ontarget:{tchromStart}')\n",
    "                #print()\n",
    "                #print(dfs['PDCD1_site_8']['chromStart'])\n",
    "                axs[i].axvline(tchromStart,color='green',linestyle='-',label='on-target')\n",
    "                    \n",
    "            df=chroms.get_group(chrom)\n",
    "            guideseq_=df[(df['bliss']==0)&(df['guideseq']==1)]\n",
    "            bliss_=df[(df['bliss']==1)&(df['guideseq']==0)]\n",
    "            both=df[(df['bliss']==1)&(df['guideseq']==1)]\n",
    "\n",
    "            #axs[i].set_xbound(lower=0.0, upper=chromLengths[i])\n",
    " \n",
    "            sns.stripplot(x='chromStart',data=guideseq_,label='guideseq',ax=axs[i],\n",
    "                            color='red')\n",
    "            sns.stripplot(x='chromStart',data=bliss_,label='bliss',ax=axs[i],\n",
    "                          color='blue')\n",
    "            sns.stripplot(x='chromStart',data=both,label='both',ax=axs[i],\n",
    "                            color='purple')  \n",
    "\n",
    "            axs[i].axvline(chromLengths[i],color=\"black\",linestyle=\"-\")\n",
    "\n",
    "            #plt.xlim(0,chromLengths[i])\n",
    "    fig.delaxes(axs[23])\n",
    "    \n",
    "    fig.suptitle(f'genomic coordinates of off targets detected: {name}',size=14)\n",
    "\n",
    "    fig.tight_layout(rect=[0, 0.03, 1, 0.95])\n",
    "    fig.savefig(fr\"plots\\BLISS\\{name}.png\", format='png', dpi=300)\n",
    "\n",
    "    plt.show()\n",
    "\n"
   ]
  },
  {
   "cell_type": "code",
   "execution_count": null,
   "id": "357baac8-26c4-44b2-bdaa-bd8e1d042827",
   "metadata": {},
   "outputs": [],
   "source": []
  },
  {
   "cell_type": "markdown",
   "id": "62a07861-1a4c-49ef-b556-0b953bca9ee9",
   "metadata": {},
   "source": [
    "### Note\n",
    "Black line is the end of the chromosome."
   ]
  },
  {
   "cell_type": "markdown",
   "id": "8b62f09f",
   "metadata": {},
   "source": [
    "## Guide homology score\n",
    "A score based on the homology was calculated using the Pairwise2 module in the Biopython Python package with the following weights: a match between the sgRNA and the genomic sequence scores +3, a mismatch is −1, whereas an insertion or deletion between the sgRNA and genomic sequence costs −5. Thereby, an on-target sequence with the fully matched 20 bp guide would have a Guide Homology Score of 60. Previously, we included the PAM match in the scoring, yielding a maximum score of 69, but to make the score more versatile and comparable across different PAMs, we removed the PAM dependence in the scoring. Using this guide homology score, we performed a receiver operating characteristic curve analysis based on validated and non-validated off-targets from SpCas9-BLESS10, which justified our previous choice of a homology score cutoff (41 out of a max score of 60), to maximize the sensitivity and specificity of Cas9-BLISS and Cpf1-BLISS. In practical terms, this score corresponds to ≤4 mismatches or ≤2 gaps, as well as combinations thereof.\n",
    "## DSB score\n",
    " number of unique DSB ends aligned to the target per 105 unique BLISS reads"
   ]
  }
 ],
 "metadata": {
  "kernelspec": {
   "display_name": "Python 3 (ipykernel)",
   "language": "python",
   "name": "python3"
  },
  "language_info": {
   "codemirror_mode": {
    "name": "ipython",
    "version": 3
   },
   "file_extension": ".py",
   "mimetype": "text/x-python",
   "name": "python",
   "nbconvert_exporter": "python",
   "pygments_lexer": "ipython3",
   "version": "3.11.5"
  }
 },
 "nbformat": 4,
 "nbformat_minor": 5
}
