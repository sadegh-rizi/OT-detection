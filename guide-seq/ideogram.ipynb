{
 "cells": [
  {
   "cell_type": "code",
   "execution_count": 17,
   "id": "900e28bb",
   "metadata": {},
   "outputs": [
    {
     "name": "stdout",
     "output_type": "stream",
     "text": [
      "package 'RIdeogram' successfully unpacked and MD5 sums checked\n",
      "\n",
      "The downloaded binary packages are in\n",
      "\tC:\\Users\\MSADEGH\\AppData\\Local\\Temp\\RtmpmIhsj9\\downloaded_packages\n"
     ]
    }
   ],
   "source": [
    "#install.packages('RIdeogram')"
   ]
  },
  {
   "cell_type": "code",
   "execution_count": 1,
   "id": "543fa6cb",
   "metadata": {},
   "outputs": [
    {
     "name": "stderr",
     "output_type": "stream",
     "text": [
      "Warning message:\n",
      "\"package 'readxl' was built under R version 4.2.3\"\n",
      "Warning message:\n",
      "\"package 'dplyr' was built under R version 4.2.3\"\n",
      "\n",
      "Attaching package: 'dplyr'\n",
      "\n",
      "\n",
      "The following objects are masked from 'package:stats':\n",
      "\n",
      "    filter, lag\n",
      "\n",
      "\n",
      "The following objects are masked from 'package:base':\n",
      "\n",
      "    intersect, setdiff, setequal, union\n",
      "\n",
      "\n"
     ]
    }
   ],
   "source": [
    "library(readxl)\n",
    "library(dplyr)"
   ]
  },
  {
   "cell_type": "code",
   "execution_count": 2,
   "id": "1be2fe65",
   "metadata": {},
   "outputs": [
    {
     "name": "stderr",
     "output_type": "stream",
     "text": [
      "Loading required package: RIdeogram\n",
      "\n",
      "Warning message:\n",
      "\"package 'RIdeogram' was built under R version 4.2.3\"\n"
     ]
    }
   ],
   "source": [
    "require(RIdeogram)\n",
    "data(human_karyotype, package=\"RIdeogram\")\n",
    "data(gene_density, package=\"RIdeogram\")\n",
    "data(Random_RNAs_500, package=\"RIdeogram\")"
   ]
  },
  {
   "cell_type": "code",
   "execution_count": 3,
   "id": "c15f16e2",
   "metadata": {},
   "outputs": [],
   "source": [
    "data=read_excel('GUIDE-seq.xlsx')"
   ]
  },
  {
   "cell_type": "code",
   "execution_count": 4,
   "id": "27c81a06",
   "metadata": {},
   "outputs": [
    {
     "data": {
      "text/html": [
       "<table class=\"dataframe\">\n",
       "<caption>A tibble: 6 × 11</caption>\n",
       "<thead>\n",
       "\t<tr><th scope=col>chrom</th><th scope=col>chromStart</th><th scope=col>chromEnd</th><th scope=col>name</th><th scope=col>GUIDEseq_reads</th><th scope=col>strand</th><th scope=col>offtarget_sequence</th><th scope=col>genomic_coordinate</th><th scope=col>distance</th><th scope=col>target</th><th scope=col>run</th></tr>\n",
       "\t<tr><th scope=col>&lt;chr&gt;</th><th scope=col>&lt;dbl&gt;</th><th scope=col>&lt;dbl&gt;</th><th scope=col>&lt;chr&gt;</th><th scope=col>&lt;dbl&gt;</th><th scope=col>&lt;chr&gt;</th><th scope=col>&lt;chr&gt;</th><th scope=col>&lt;chr&gt;</th><th scope=col>&lt;dbl&gt;</th><th scope=col>&lt;chr&gt;</th><th scope=col>&lt;dbl&gt;</th></tr>\n",
       "</thead>\n",
       "<tbody>\n",
       "\t<tr><td>chr19</td><td>55115744</td><td>55115767</td><td>AAVS1_site_1</td><td>13557</td><td>+</td><td>GTCACCAATCCTGTCCCTAGTGG</td><td>chr19:55115745-55115767:+</td><td>0</td><td>GTCACCAATCCTGTCCCTAGNGG</td><td>1</td></tr>\n",
       "\t<tr><td>chrX </td><td> 1450701</td><td> 1450724</td><td>AAVS1_site_1</td><td>  190</td><td>+</td><td>CTCCCCAACCCCATCCCTAGGGG</td><td>chrX:1450702-1450724:+   </td><td>5</td><td>GTCACCAATCCTGTCCCTAGNGG</td><td>1</td></tr>\n",
       "\t<tr><td>chrX </td><td> 1452125</td><td> 1452148</td><td>AAVS1_site_1</td><td>  105</td><td>+</td><td>CTCCCCAACCCCATCCCTAGGGG</td><td>chrX:1452126-1452148:+   </td><td>5</td><td>GTCACCAATCCTGTCCCTAGNGG</td><td>1</td></tr>\n",
       "\t<tr><td>chr1 </td><td>12523844</td><td>12523867</td><td>AAVS1_site_1</td><td>    2</td><td>+</td><td>CACACTAATCCTGTCCCCAGAGG</td><td>chr1:12523845-12523867:+ </td><td>4</td><td>GTCACCAATCCTGTCCCTAGNGG</td><td>1</td></tr>\n",
       "\t<tr><td>chr19</td><td>55115744</td><td>55115767</td><td>AAVS1_site_1</td><td>55079</td><td>+</td><td>GTCACCAATCCTGTCCCTAGTGG</td><td>chr19:55115745-55115767:+</td><td>0</td><td>GTCACCAATCCTGTCCCTAGNGG</td><td>2</td></tr>\n",
       "\t<tr><td>chrX </td><td> 1452125</td><td> 1452148</td><td>AAVS1_site_1</td><td> 1126</td><td>+</td><td>CTCCCCAACCCCATCCCTAGGGG</td><td>chrX:1452126-1452148:+   </td><td>5</td><td>GTCACCAATCCTGTCCCTAGNGG</td><td>2</td></tr>\n",
       "</tbody>\n",
       "</table>\n"
      ],
      "text/latex": [
       "A tibble: 6 × 11\n",
       "\\begin{tabular}{lllllllllll}\n",
       " chrom & chromStart & chromEnd & name & GUIDEseq\\_reads & strand & offtarget\\_sequence & genomic\\_coordinate & distance & target & run\\\\\n",
       " <chr> & <dbl> & <dbl> & <chr> & <dbl> & <chr> & <chr> & <chr> & <dbl> & <chr> & <dbl>\\\\\n",
       "\\hline\n",
       "\t chr19 & 55115744 & 55115767 & AAVS1\\_site\\_1 & 13557 & + & GTCACCAATCCTGTCCCTAGTGG & chr19:55115745-55115767:+ & 0 & GTCACCAATCCTGTCCCTAGNGG & 1\\\\\n",
       "\t chrX  &  1450701 &  1450724 & AAVS1\\_site\\_1 &   190 & + & CTCCCCAACCCCATCCCTAGGGG & chrX:1450702-1450724:+    & 5 & GTCACCAATCCTGTCCCTAGNGG & 1\\\\\n",
       "\t chrX  &  1452125 &  1452148 & AAVS1\\_site\\_1 &   105 & + & CTCCCCAACCCCATCCCTAGGGG & chrX:1452126-1452148:+    & 5 & GTCACCAATCCTGTCCCTAGNGG & 1\\\\\n",
       "\t chr1  & 12523844 & 12523867 & AAVS1\\_site\\_1 &     2 & + & CACACTAATCCTGTCCCCAGAGG & chr1:12523845-12523867:+  & 4 & GTCACCAATCCTGTCCCTAGNGG & 1\\\\\n",
       "\t chr19 & 55115744 & 55115767 & AAVS1\\_site\\_1 & 55079 & + & GTCACCAATCCTGTCCCTAGTGG & chr19:55115745-55115767:+ & 0 & GTCACCAATCCTGTCCCTAGNGG & 2\\\\\n",
       "\t chrX  &  1452125 &  1452148 & AAVS1\\_site\\_1 &  1126 & + & CTCCCCAACCCCATCCCTAGGGG & chrX:1452126-1452148:+    & 5 & GTCACCAATCCTGTCCCTAGNGG & 2\\\\\n",
       "\\end{tabular}\n"
      ],
      "text/markdown": [
       "\n",
       "A tibble: 6 × 11\n",
       "\n",
       "| chrom &lt;chr&gt; | chromStart &lt;dbl&gt; | chromEnd &lt;dbl&gt; | name &lt;chr&gt; | GUIDEseq_reads &lt;dbl&gt; | strand &lt;chr&gt; | offtarget_sequence &lt;chr&gt; | genomic_coordinate &lt;chr&gt; | distance &lt;dbl&gt; | target &lt;chr&gt; | run &lt;dbl&gt; |\n",
       "|---|---|---|---|---|---|---|---|---|---|---|\n",
       "| chr19 | 55115744 | 55115767 | AAVS1_site_1 | 13557 | + | GTCACCAATCCTGTCCCTAGTGG | chr19:55115745-55115767:+ | 0 | GTCACCAATCCTGTCCCTAGNGG | 1 |\n",
       "| chrX  |  1450701 |  1450724 | AAVS1_site_1 |   190 | + | CTCCCCAACCCCATCCCTAGGGG | chrX:1450702-1450724:+    | 5 | GTCACCAATCCTGTCCCTAGNGG | 1 |\n",
       "| chrX  |  1452125 |  1452148 | AAVS1_site_1 |   105 | + | CTCCCCAACCCCATCCCTAGGGG | chrX:1452126-1452148:+    | 5 | GTCACCAATCCTGTCCCTAGNGG | 1 |\n",
       "| chr1  | 12523844 | 12523867 | AAVS1_site_1 |     2 | + | CACACTAATCCTGTCCCCAGAGG | chr1:12523845-12523867:+  | 4 | GTCACCAATCCTGTCCCTAGNGG | 1 |\n",
       "| chr19 | 55115744 | 55115767 | AAVS1_site_1 | 55079 | + | GTCACCAATCCTGTCCCTAGTGG | chr19:55115745-55115767:+ | 0 | GTCACCAATCCTGTCCCTAGNGG | 2 |\n",
       "| chrX  |  1452125 |  1452148 | AAVS1_site_1 |  1126 | + | CTCCCCAACCCCATCCCTAGGGG | chrX:1452126-1452148:+    | 5 | GTCACCAATCCTGTCCCTAGNGG | 2 |\n",
       "\n"
      ],
      "text/plain": [
       "  chrom chromStart chromEnd name         GUIDEseq_reads strand\n",
       "1 chr19 55115744   55115767 AAVS1_site_1 13557          +     \n",
       "2 chrX   1450701    1450724 AAVS1_site_1   190          +     \n",
       "3 chrX   1452125    1452148 AAVS1_site_1   105          +     \n",
       "4 chr1  12523844   12523867 AAVS1_site_1     2          +     \n",
       "5 chr19 55115744   55115767 AAVS1_site_1 55079          +     \n",
       "6 chrX   1452125    1452148 AAVS1_site_1  1126          +     \n",
       "  offtarget_sequence      genomic_coordinate        distance\n",
       "1 GTCACCAATCCTGTCCCTAGTGG chr19:55115745-55115767:+ 0       \n",
       "2 CTCCCCAACCCCATCCCTAGGGG chrX:1450702-1450724:+    5       \n",
       "3 CTCCCCAACCCCATCCCTAGGGG chrX:1452126-1452148:+    5       \n",
       "4 CACACTAATCCTGTCCCCAGAGG chr1:12523845-12523867:+  4       \n",
       "5 GTCACCAATCCTGTCCCTAGTGG chr19:55115745-55115767:+ 0       \n",
       "6 CTCCCCAACCCCATCCCTAGGGG chrX:1452126-1452148:+    5       \n",
       "  target                  run\n",
       "1 GTCACCAATCCTGTCCCTAGNGG 1  \n",
       "2 GTCACCAATCCTGTCCCTAGNGG 1  \n",
       "3 GTCACCAATCCTGTCCCTAGNGG 1  \n",
       "4 GTCACCAATCCTGTCCCTAGNGG 1  \n",
       "5 GTCACCAATCCTGTCCCTAGNGG 2  \n",
       "6 GTCACCAATCCTGTCCCTAGNGG 2  "
      ]
     },
     "metadata": {},
     "output_type": "display_data"
    }
   ],
   "source": [
    "head(data)"
   ]
  },
  {
   "cell_type": "code",
   "execution_count": 11,
   "id": "de47f4c1",
   "metadata": {},
   "outputs": [
    {
     "name": "stdout",
     "output_type": "stream",
     "text": [
      "[1] \"D:/bioinfo/OT-detection/guide-seq/ideograms/AAVS1_site_1.svg\"\n",
      "[1] \"ideograms/AAVS1_site_1\"\n",
      "[1] \"D:/bioinfo/OT-detection/guide-seq/ideograms/AAVS1_site_10.svg\"\n",
      "[1] \"ideograms/AAVS1_site_10\"\n",
      "[1] \"D:/bioinfo/OT-detection/guide-seq/ideograms/AAVS1_site_13.svg\"\n",
      "[1] \"ideograms/AAVS1_site_13\"\n",
      "[1] \"D:/bioinfo/OT-detection/guide-seq/ideograms/AAVS1_site_14.svg\"\n",
      "[1] \"ideograms/AAVS1_site_14\"\n",
      "[1] \"D:/bioinfo/OT-detection/guide-seq/ideograms/AAVS1_site_3.svg\"\n",
      "[1] \"ideograms/AAVS1_site_3\"\n",
      "[1] \"D:/bioinfo/OT-detection/guide-seq/ideograms/AAVS1_site_4.svg\"\n",
      "[1] \"ideograms/AAVS1_site_4\"\n",
      "[1] \"D:/bioinfo/OT-detection/guide-seq/ideograms/AAVS1_site_7.svg\"\n",
      "[1] \"ideograms/AAVS1_site_7\"\n",
      "[1] \"D:/bioinfo/OT-detection/guide-seq/ideograms/AAVS1_site_8.svg\"\n",
      "[1] \"ideograms/AAVS1_site_8\"\n",
      "[1] \"D:/bioinfo/OT-detection/guide-seq/ideograms/B2M_site_1.svg\"\n",
      "[1] \"ideograms/B2M_site_1\"\n",
      "[1] \"D:/bioinfo/OT-detection/guide-seq/ideograms/B2M_site_3.svg\"\n",
      "[1] \"ideograms/B2M_site_3\"\n",
      "[1] \"D:/bioinfo/OT-detection/guide-seq/ideograms/B2M_site_4.svg\"\n",
      "[1] \"ideograms/B2M_site_4\"\n",
      "[1] \"D:/bioinfo/OT-detection/guide-seq/ideograms/CBLB_site_10.svg\"\n",
      "[1] \"ideograms/CBLB_site_10\"\n",
      "[1] \"D:/bioinfo/OT-detection/guide-seq/ideograms/CBLB_site_4.svg\"\n",
      "[1] \"ideograms/CBLB_site_4\"\n",
      "[1] \"D:/bioinfo/OT-detection/guide-seq/ideograms/CBLB_site_5.svg\"\n",
      "[1] \"ideograms/CBLB_site_5\"\n",
      "[1] \"D:/bioinfo/OT-detection/guide-seq/ideograms/CBLB_site_6.svg\"\n",
      "[1] \"ideograms/CBLB_site_6\"\n",
      "[1] \"D:/bioinfo/OT-detection/guide-seq/ideograms/CBLB_site_9.svg\"\n",
      "[1] \"ideograms/CBLB_site_9\"\n",
      "[1] \"D:/bioinfo/OT-detection/guide-seq/ideograms/CBLC_site_4.svg\"\n",
      "[1] \"ideograms/CBLC_site_4\"\n",
      "[1] \"D:/bioinfo/OT-detection/guide-seq/ideograms/CCR5_site_13.svg\"\n",
      "[1] \"ideograms/CCR5_site_13\"\n",
      "[1] \"D:/bioinfo/OT-detection/guide-seq/ideograms/CCR5_site_16.svg\"\n",
      "[1] \"ideograms/CCR5_site_16\"\n",
      "[1] \"D:/bioinfo/OT-detection/guide-seq/ideograms/CCR5_site_5.svg\"\n",
      "[1] \"ideograms/CCR5_site_5\"\n",
      "[1] \"D:/bioinfo/OT-detection/guide-seq/ideograms/CCR5_site_8.svg\"\n",
      "[1] \"ideograms/CCR5_site_8\"\n",
      "[1] \"D:/bioinfo/OT-detection/guide-seq/ideograms/CCR5_site_9.svg\"\n",
      "[1] \"ideograms/CCR5_site_9\"\n",
      "[1] \"D:/bioinfo/OT-detection/guide-seq/ideograms/CTLA4_site_1.svg\"\n",
      "[1] \"ideograms/CTLA4_site_1\"\n",
      "[1] \"D:/bioinfo/OT-detection/guide-seq/ideograms/CTLA4_site_10.svg\"\n",
      "[1] \"ideograms/CTLA4_site_10\"\n",
      "[1] \"D:/bioinfo/OT-detection/guide-seq/ideograms/CTLA4_site_2.svg\"\n",
      "[1] \"ideograms/CTLA4_site_2\"\n",
      "[1] \"D:/bioinfo/OT-detection/guide-seq/ideograms/CTLA4_site_3.svg\"\n",
      "[1] \"ideograms/CTLA4_site_3\"\n",
      "[1] \"D:/bioinfo/OT-detection/guide-seq/ideograms/CTLA4_site_5.svg\"\n",
      "[1] \"ideograms/CTLA4_site_5\"\n",
      "[1] \"D:/bioinfo/OT-detection/guide-seq/ideograms/CTLA4_site_7.svg\"\n",
      "[1] \"ideograms/CTLA4_site_7\"\n",
      "[1] \"D:/bioinfo/OT-detection/guide-seq/ideograms/CTLA4site_2.svg\"\n",
      "[1] \"ideograms/CTLA4site_2\"\n",
      "[1] \"D:/bioinfo/OT-detection/guide-seq/ideograms/CXCR4_site_1.svg\"\n",
      "[1] \"ideograms/CXCR4_site_1\"\n",
      "[1] \"D:/bioinfo/OT-detection/guide-seq/ideograms/CXCR4_site_10.svg\"\n",
      "[1] \"ideograms/CXCR4_site_10\"\n",
      "[1] \"D:/bioinfo/OT-detection/guide-seq/ideograms/CXCR4_site_2.svg\"\n",
      "[1] \"ideograms/CXCR4_site_2\"\n",
      "[1] \"D:/bioinfo/OT-detection/guide-seq/ideograms/CXCR4_site_3.svg\"\n",
      "[1] \"ideograms/CXCR4_site_3\"\n",
      "[1] \"D:/bioinfo/OT-detection/guide-seq/ideograms/CXCR4_site_4.svg\"\n",
      "[1] \"ideograms/CXCR4_site_4\"\n",
      "[1] \"D:/bioinfo/OT-detection/guide-seq/ideograms/CXCR4_site_5.svg\"\n",
      "[1] \"ideograms/CXCR4_site_5\"\n",
      "[1] \"D:/bioinfo/OT-detection/guide-seq/ideograms/FAS_site_2.svg\"\n",
      "[1] \"ideograms/FAS_site_2\"\n",
      "[1] \"D:/bioinfo/OT-detection/guide-seq/ideograms/FAS_site_3.svg\"\n",
      "[1] \"ideograms/FAS_site_3\"\n",
      "[1] \"D:/bioinfo/OT-detection/guide-seq/ideograms/LAG_site_3.svg\"\n",
      "[1] \"ideograms/LAG_site_3\"\n",
      "[1] \"D:/bioinfo/OT-detection/guide-seq/ideograms/PDCD1_site_10.svg\"\n",
      "[1] \"ideograms/PDCD1_site_10\"\n",
      "[1] \"D:/bioinfo/OT-detection/guide-seq/ideograms/PDCD1_site_11.svg\"\n",
      "[1] \"ideograms/PDCD1_site_11\"\n",
      "[1] \"D:/bioinfo/OT-detection/guide-seq/ideograms/PDCD1_site_13.svg\"\n",
      "[1] \"ideograms/PDCD1_site_13\"\n",
      "[1] \"D:/bioinfo/OT-detection/guide-seq/ideograms/PDCD1_site_5.svg\"\n",
      "[1] \"ideograms/PDCD1_site_5\"\n",
      "[1] \"D:/bioinfo/OT-detection/guide-seq/ideograms/PDCD1_site_7.svg\"\n",
      "[1] \"ideograms/PDCD1_site_7\"\n",
      "[1] \"D:/bioinfo/OT-detection/guide-seq/ideograms/PDCD1_site_8.svg\"\n",
      "[1] \"ideograms/PDCD1_site_8\"\n",
      "[1] \"D:/bioinfo/OT-detection/guide-seq/ideograms/PDCD1_site_1.svg\"\n",
      "[1] \"ideograms/PDCD1_site_1\"\n",
      "[1] \"D:/bioinfo/OT-detection/guide-seq/ideograms/PTPN2_site_1.svg\"\n",
      "[1] \"ideograms/PTPN2_site_1\"\n",
      "[1] \"D:/bioinfo/OT-detection/guide-seq/ideograms/PTPN2_site_3.svg\"\n",
      "[1] \"ideograms/PTPN2_site_3\"\n",
      "[1] \"D:/bioinfo/OT-detection/guide-seq/ideograms/PTPN6_site_1.svg\"\n",
      "[1] \"ideograms/PTPN6_site_1\"\n",
      "[1] \"D:/bioinfo/OT-detection/guide-seq/ideograms/PTPN6_site_2.svg\"\n",
      "[1] \"ideograms/PTPN6_site_2\"\n",
      "[1] \"D:/bioinfo/OT-detection/guide-seq/ideograms/PTPN6_site_3.svg\"\n",
      "[1] \"ideograms/PTPN6_site_3\"\n",
      "[1] \"D:/bioinfo/OT-detection/guide-seq/ideograms/PTPN6_site_4.svg\"\n",
      "[1] \"ideograms/PTPN6_site_4\"\n",
      "[1] \"D:/bioinfo/OT-detection/guide-seq/ideograms/PTPN6_site_5.svg\"\n",
      "[1] \"ideograms/PTPN6_site_5\"\n",
      "[1] \"D:/bioinfo/OT-detection/guide-seq/ideograms/PTPN6_site_8.svg\"\n",
      "[1] \"ideograms/PTPN6_site_8\"\n",
      "[1] \"D:/bioinfo/OT-detection/guide-seq/ideograms/TRAC_site_2.svg\"\n",
      "[1] \"ideograms/TRAC_site_2\"\n",
      "[1] \"D:/bioinfo/OT-detection/guide-seq/ideograms/TRAC_site_3.svg\"\n",
      "[1] \"ideograms/TRAC_site_3\"\n",
      "[1] \"D:/bioinfo/OT-detection/guide-seq/ideograms/TRAC_site_4.svg\"\n",
      "[1] \"ideograms/TRAC_site_4\"\n",
      "[1] \"D:/bioinfo/OT-detection/guide-seq/ideograms/AAVS1_site_2.svg\"\n",
      "[1] \"ideograms/AAVS1_site_2\"\n",
      "[1] \"D:/bioinfo/OT-detection/guide-seq/ideograms/CTLA4_site_9.svg\"\n",
      "[1] \"ideograms/CTLA4_site_9\"\n",
      "[1] \"D:/bioinfo/OT-detection/guide-seq/ideograms/LAG3_site_9.svg\"\n",
      "[1] \"ideograms/LAG3_site_9\"\n",
      "[1] \"D:/bioinfo/OT-detection/guide-seq/ideograms/TRAC_site_1.svg\"\n",
      "[1] \"ideograms/TRAC_site_1\"\n"
     ]
    }
   ],
   "source": [
    "data$distance <- as.character(data$distance)\n",
    "\n",
    "color_dic= c('0'='3d9a51',\n",
    "             '1'='f2e33f',\n",
    "            '2'='e0852f',\n",
    "            '3'='db512e',\n",
    "            '4'='a12c1d',\n",
    "             '5'='52110c',\n",
    "            '6'='330a0a')\n",
    "for (cur_name in unique(data$name)){\n",
    "    df <- filter(data,name==cur_name)%>%\n",
    "    select(distance,chrom,chromStart,chromEnd)%>%\n",
    "    mutate(color=color_dic[distance]) %>%\n",
    "    mutate(Shape='triangle') %>% \n",
    "    rename('Start'='chromStart','End'='chromEnd','Type'='distance','Chr'='chrom') %>%\n",
    "    transform(Start=as.integer(Start),End=as.integer(End)) %>%\n",
    "    mutate(Chr= substring(Chr,4,nchar(Chr)))\n",
    "\n",
    "    df <- df[,c('Type','Shape','Chr','Start','End','color')]\n",
    "    #print(head(df))\n",
    "    prefile=\"\"\n",
    "    \n",
    "    prefile=paste0(\"ideograms/\",cur_name)\n",
    "    file=paste0(\"D:/bioinfo/OT-detection/guide-seq/ideograms/\",cur_name,'.svg')\n",
    "    \n",
    "    \n",
    "    #print(name)\n",
    "    print(file)\n",
    "    print(prefile)\n",
    "    ideogram(karyotype = human_karyotype,label=df,overlaid=gene_density,label_type='marker',output=file)\n",
    "    convertSVG(svg=file,file=prefile, device = \"png\")\n",
    "\n",
    "    #dev.off()\n",
    "}"
   ]
  },
  {
   "cell_type": "code",
   "execution_count": null,
   "id": "ccb2c54b",
   "metadata": {},
   "outputs": [],
   "source": []
  }
 ],
 "metadata": {
  "kernelspec": {
   "display_name": "R",
   "language": "R",
   "name": "ir"
  },
  "language_info": {
   "codemirror_mode": "r",
   "file_extension": ".r",
   "mimetype": "text/x-r-source",
   "name": "R",
   "pygments_lexer": "r",
   "version": "4.2.1"
  }
 },
 "nbformat": 4,
 "nbformat_minor": 5
}
